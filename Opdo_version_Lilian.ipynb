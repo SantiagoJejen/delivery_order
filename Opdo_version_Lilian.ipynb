{
  "cells": [
    {
      "cell_type": "markdown",
      "metadata": {
        "id": "view-in-github",
        "colab_type": "text"
      },
      "source": [
        "<a href=\"https://colab.research.google.com/github/SantiagoJejen/delivery_order/blob/feat%2Fsanti/Opdo_version_Lilian.ipynb\" target=\"_parent\"><img src=\"https://colab.research.google.com/assets/colab-badge.svg\" alt=\"Open In Colab\"/></a>"
      ]
    },
    {
      "cell_type": "code",
      "execution_count": 2,
      "metadata": {
        "colab": {
          "base_uri": "https://localhost:8080/",
          "height": 330
        },
        "id": "8DWgLADZieQB",
        "outputId": "e0bcf494-a5ee-406f-9677-8ca285aa1d8f"
      },
      "outputs": [
        {
          "output_type": "stream",
          "name": "stdout",
          "text": [
            "Collecting ortools\n",
            "  Downloading ortools-9.3.10497-cp37-cp37m-manylinux_2_17_x86_64.manylinux2014_x86_64.whl (15.5 MB)\n",
            "\u001b[K     |████████████████████████████████| 15.5 MB 4.9 MB/s \n",
            "\u001b[?25hRequirement already satisfied: numpy>=1.13.3 in /usr/local/lib/python3.7/dist-packages (from ortools) (1.21.6)\n",
            "Requirement already satisfied: absl-py>=0.13 in /usr/local/lib/python3.7/dist-packages (from ortools) (1.0.0)\n",
            "Collecting protobuf>=3.19.4\n",
            "  Downloading protobuf-3.20.1-cp37-cp37m-manylinux_2_5_x86_64.manylinux1_x86_64.whl (1.0 MB)\n",
            "\u001b[K     |████████████████████████████████| 1.0 MB 52.0 MB/s \n",
            "\u001b[?25hRequirement already satisfied: six in /usr/local/lib/python3.7/dist-packages (from absl-py>=0.13->ortools) (1.15.0)\n",
            "Installing collected packages: protobuf, ortools\n",
            "\u001b[31mERROR: pip's dependency resolver does not currently take into account all the packages that are installed. This behaviour is the source of the following dependency conflicts.\n",
            "tensorflow 2.8.0+zzzcolab20220506162203 requires tf-estimator-nightly==2.8.0.dev2021122109, which is not installed.\u001b[0m\n",
            "Successfully installed ortools-9.3.10497 protobuf-3.20.1\n"
          ]
        },
        {
          "output_type": "display_data",
          "data": {
            "application/vnd.colab-display-data+json": {
              "pip_warning": {
                "packages": [
                  "google"
                ]
              }
            }
          },
          "metadata": {}
        }
      ],
      "source": [
        "!pip install --upgrade --user ortools"
      ]
    },
    {
      "cell_type": "markdown",
      "metadata": {
        "id": "cs35Nqv6oT1B"
      },
      "source": [
        "## PROYECTO FINAL DE TOMA DE DECISIONES ORGANIZACIONALES"
      ]
    },
    {
      "cell_type": "markdown",
      "metadata": {
        "id": "Ql2c3vq8oT1C"
      },
      "source": [
        "Librerias necesarias para el proyecto."
      ]
    },
    {
      "cell_type": "code",
      "execution_count": 1,
      "metadata": {
        "id": "LC4_4nf5ilqk"
      },
      "outputs": [],
      "source": [
        "from ortools.linear_solver import pywraplp\n",
        "from scipy.spatial import distance\n",
        "import numpy as np\n",
        "from random import randint\n",
        "import pandas as pd\n",
        "import plotly.express as px\n",
        "import matplotlib.pyplot as plt"
      ]
    },
    {
      "cell_type": "code",
      "source": [
        ""
      ],
      "metadata": {
        "id": "5qS8FRVDzFrH"
      },
      "execution_count": null,
      "outputs": []
    },
    {
      "cell_type": "markdown",
      "metadata": {
        "id": "w65FsX_XoT1D"
      },
      "source": [
        "## Problema:"
      ]
    },
    {
      "cell_type": "markdown",
      "metadata": {
        "id": "VeZlV-NKoT1E"
      },
      "source": [
        "## Datos:"
      ]
    },
    {
      "cell_type": "markdown",
      "metadata": {
        "id": "lCHmkqDTnFiD"
      },
      "source": [
        "Primeramente, se cargaron los datos necesarias para el resolver el problema, es decir, las ubicaciones espaciales de los clientes y las ubicaciones de los puntos que generan las tarjetas de crédito para ser enviadas."
      ]
    },
    {
      "cell_type": "code",
      "execution_count": 2,
      "metadata": {
        "id": "UnOo3HApoT1F"
      },
      "outputs": [],
      "source": [
        "#ubi = pd.read_excel(\"https://raw.githubusercontent.com/SantiagoJejen/delivery_order/master/Datos.xlsx\")\n",
        "#ubi = np.array(ubi)"
      ]
    },
    {
      "cell_type": "code",
      "execution_count": 3,
      "metadata": {
        "id": "CKoyqgReo84A"
      },
      "outputs": [],
      "source": [
        "ubi = [[-22.9092543,\t-43.1933687]\n",
        ",[-22.918478794,\t-43.226741664]\n",
        ",[-22.9141049,\t-43.1818682]\n",
        ",[-22.9833392,\t-43.1924288]\n",
        ",[-22.9655078,\t-43.1834373]\n",
        ",[-22.9655078,\t-43.1834373]\n",
        ",[-22.967306649,\t-43.181469664]\n",
        ",[-22.9372578,\t-43.1759213]\n",
        ",[-22.9228947,\t-43.217133]\n",
        ",[-22.982423,\t-43.205675]\n",
        ",[-22.92132,\t-43.1972954]\n",
        ",[-22.927687,\t-43.1755515]\n",
        ",[-22.9233681,\t-43.2352878]\n",
        ",[-22.94961,\t-43.186837]\n",
        ",[-22.984422802,\t-43.23096732]\n",
        ",[-22.9459443,\t-43.1857367]\n",
        ",[-22.986540253,\t-43.193844706]\n",
        ",[-22.943111917,\t-43.192209464]\n",
        ",[-22.8972823,\t-43.1938993]\n",
        ",[-22.9551972,\t-43.1957516]\n",
        ",[-22.9497507,\t-43.1857261]\n",
        ",[-22.9325937,\t-43.1784209]\n",
        ",[-22.9838549,\t-43.2026713]\n",
        ",[-22.9357879,\t-43.184944]\n",
        ",[-22.9331841,\t-43.1820375]\n",
        ",[-22.9664865,\t-43.1796729]\n",
        ",[-22.9631047,\t-43.1777493]\n",
        ",[-22.9615202,\t-43.1732085]\n",
        ",[-22.957527,\t-43.195622]\n",
        ",[-22.9127603,\t-43.1875035]\n",
        ",[-22.9134051,\t-43.2199913]\n",
        ",[-22.918478794,\t-43.226741664]\n",
        ",[-22.981321121,\t-43.192978017]\n",
        ",[-22.917668476,\t-43.187223338]\n",
        ",[-22.9693814,\t-43.1849099]\n",
        ",[-22.929059,\t-43.230951]\n",
        ",[-22.9235277,\t-43.2285539]\n",
        ",[-22.9051311,\t-43.2018175]\n",
        ",[-22.96651,\t-43.179512]\n",
        ",[-22.939325529,\t-43.173715062]\n",
        ",[-22.9518995,\t-43.1760391]\n",
        ",[-22.899447,\t-43.179484]\n",
        ",[-22.972477551,\t-43.190373592]\n",
        ",[-22.98198,\t-43.2057081]\n",
        ",[-22.963893,\t-43.172581]\n",
        ",[-22.9149831,\t-43.1897928]\n",
        ",[-22.9742002,\t-43.1913244]\n",
        ",[-22.9078531,\t-43.1733363]\n",
        ",[-22.940952,\t-43.1809363]\n",
        ",[-22.965971,\t-43.1893559]\n",
        ",[-22.98514,\t-43.2031333]\n",
        ",[-22.929887894,\t-43.17581255]\n",
        ",[-22.9824576,\t-43.1902656]\n",
        ",[-22.9751613,\t-43.2284452]\n",
        ",[-22.93471,\t-43.184053]\n",
        ",[-22.9368648,\t-43.1785919]\n",
        ",[-22.9658064,\t-43.1782853]\n",
        ",[-22.9699378,\t-43.1850143]\n",
        ",[-22.9206767,\t-43.2184957]\n",
        ",[-22.922045496,\t-43.207315095]\n",
        ",[-22.9735475,\t-43.1889193]\n",
        ",[-22.973934,\t-43.1912479]\n",
        ",[-22.9771831,\t-43.1917208]\n",
        ",[-22.9087534,\t-43.1710646]\n",
        ",[-22.9222022,\t-43.1797866]\n",
        ",[-22.9038993,\t-43.1753666]\n",
        ",[-22.9492478,\t-43.1879021]\n",
        ",[-22.9124258,\t-43.1929095]\n",
        ",[-22.972556,\t-43.203896]\n",
        ",[-22.96294,\t-43.1749716]\n",
        ",[-22.9330015,\t-43.1754351]\n",
        ",[-22.9519613,\t-43.1863013]\n",
        ",[-22.9454948,\t-43.1821807]\n",
        ",[-22.9829054,\t-43.1901476]\n",
        ",[-22.9599203,\t-43.2059602]\n",
        ",[-22.9165345,\t-43.188495]\n",
        ",[-22.9626944,\t-43.1732385]\n",
        ",[-22.9205085,\t-43.1944933]\n",
        ",[-22.925105,\t-43.182863]\n",
        ",[-22.9750111,\t-43.2285375]\n",
        ",[-22.9161731,\t-43.1922497]\n",
        ",[-22.9137705,\t-43.2010822]\n",
        ",[-22.9699378,\t-43.1850143]\n",
        ",[-22.984683,\t-43.199964]\n",
        ",[-22.915969845,\t-43.223968906]\n",
        ",[-22.9776311,\t-43.1913082]\n",
        ",[-22.9663197,\t-43.1812088]\n",
        ",[-22.9143279,\t-43.1828728]\n",
        ",[-22.97636,\t-43.19211]\n",
        ",[-22.976678704,\t-43.22909195]\n",
        ",[-22.9362795,\t-43.1756438]\n",
        ",[-22.9187686,\t-43.1810054]\n",
        ",[-22.9347413,\t-43.1773524]\n",
        ",[-22.9296998,\t-43.1758498]\n",
        ",[-22.96287,\t-43.174211]\n",
        ",[-22.9835241,\t-43.2137085]\n",
        ",[-22.961934,\t-43.169407]\n",
        ",[-22.9713042,\t-43.1858834]\n",
        ",[-22.9719383,\t-43.1877935]\n",
        ",[-22.910514,\t-43.1888352]\n",
        ",[-22.9619953,\t-43.1742337]\n",
        ",[-22.9381998,\t-43.1922065]\n",
        ",[-22.9233815,\t-43.2319409]\n",
        ",[-22.9357067,\t-43.1863523]\n",
        ",[-22.9127561,\t-43.1907552]\n",
        ",[-22.9824343,\t-43.2110767]\n",
        ",[-22.9087706,\t-43.1940492]\n",
        ",[-22.9496785,\t-43.1854424]\n",
        ",[-22.9142607,\t-43.183318]\n",
        ",[-22.9661591,\t-43.1854375]\n",
        ",[-22.9566221,\t-43.1981471]\n",
        ",[-22.968777,\t-43.185629]\n",
        ",[-22.9660258,\t-43.1781366]\n",
        ",[-22.9631406,\t-43.1756598]\n",
        ",[-22.967708,\t-43.1840686]\n",
        ",[-22.9712177,\t-43.1857302]\n",
        ",[-22.9492054,\t-43.1853888]\n",
        ",[-22.967708,\t-43.1840686]\n",
        ",[-22.93711,\t-43.177533]\n",
        ",[-22.979927487,\t-43.219742775]\n",
        ",[-22.95390911,\t-43.192608207]\n",
        ",[-22.916451445,\t-43.192579038]\n",
        ",[-22.9670567,\t-43.1881731]\n",
        ",[-22.9818007,\t-43.2004932]\n",
        ",[-22.9413975,\t-43.1817262]\n",
        ",[-22.9871951,\t-43.1929254]\n",
        ",[-22.9868424,\t-43.1939614]\n",
        ",[-22.923973091,\t-43.178560557]\n",
        ",[-22.9491521,\t-43.1859531]\n",
        ",[-22.9159535,\t-43.1899669]\n",
        ",[-22.9212095,\t-43.1842405]\n",
        ",[-22.9822186,\t-43.1962231]\n",
        ",[-22.9824576,\t-43.1902656]\n",
        ",[-22.918253981,\t-43.188875914]\n",
        ",[-22.933149,\t-43.1753938]\n",
        ",[-22.9151535,\t-43.1853794]\n",
        ",[-22.9782191,\t-43.1905355]\n",
        ",[-22.937849,\t-43.175092]\n",
        ",[-22.9229093,\t-43.2204994]\n",
        ",[-22.9110791,\t-43.1889469]\n",
        ",[-22.906078604,\t-43.176818378]\n",
        ",[-22.9207017,\t-43.1855204]\n",
        ",[-22.9338014,\t-43.1776217]\n",
        ",[-22.9405399,\t-43.196612]\n",
        ",[-22.956050145,\t-43.193292323]\n",
        ",[-22.977901,\t-43.19112]\n",
        ",[-22.9776311,\t-43.1913082]\n",
        ",[-22.9638579,\t-43.173244]\n",
        ",[-22.9707112,\t-43.1864433]\n",
        ",[-22.925837,\t-43.179154]\n",
        ",[-22.9381985,\t-43.1831445]\n",
        ",[-22.9670501,\t-43.1864638]\n",
        ",[-22.9525849,\t-43.1937824]\n",
        ",[-22.9131946,\t-43.182479]\n",
        ",[-22.9276912,\t-43.1761534]\n",
        ",[-22.9175277,\t-43.1978375]\n",
        ",[-22.9733542,\t-43.2055845]\n",
        ",[-22.965861,\t-43.217188]\n",
        ",[-22.967306649,\t-43.181469664]\n",
        ",[-22.9191804,\t-43.184855]\n",
        ",[-22.9829356,\t-43.1919106]\n",
        ",[-22.9650412,\t-43.1771]\n",
        ",[-22.899447,\t-43.179484]\n",
        ",[-22.9206767,\t-43.2184957]\n",
        ",[-22.9769225,\t-43.1889314]\n",
        ",[-22.982029253,\t-43.190908203]\n",
        ",[-22.9624117,\t-43.178673]\n",
        ",[-22.967088,\t-43.1819555]\n",
        ",[-22.9871,\t-43.194561]\n",
        ",[-22.9551508,\t-43.177736]\n",
        ",[-22.9658477,\t-43.1921283]\n",
        ",[-22.9127316,\t-43.2263514]\n",
        ",[-22.9668051,\t-43.1802215]\n",
        ",[-22.9159535,\t-43.1899669]\n",
        ",[-22.939431,\t-43.17669]\n",
        ",[-22.975845,\t-43.1881512]\n",
        ",[-22.9137452,\t-43.1827953]\n",
        ",[-22.939284155,\t-43.175876252]\n",
        ",[-22.967708,\t-43.1840686]\n",
        ",[-22.901763,\t-43.17937]\n",
        ",[-22.9038343,\t-43.1825421]\n",
        ",[-22.932345479,\t-43.181205131]\n",
        ",[-22.9821567,\t-43.2256597]\n",
        ",[-22.9388604,\t-43.1731924]\n",
        ",[-22.909067,\t-43.1782946]\n",
        ",[-22.975349536,\t-43.192021139]\n",
        ",[-22.9576007,\t-43.1977513]\n",
        ",[-22.927063732,\t-43.175443746]\n",
        ",[-22.962249773,\t-43.168598749]\n",
        ",[-22.981563,\t-43.193777]\n",
        ",[-22.9159535,\t-43.1899669]\n",
        ",[-22.959051,\t-43.195659]\n",
        ",[-22.95871543,\t-43.20043182]\n",
        ",[-22.9563248,\t-43.1886164]\n",
        ",[-22.9555772,\t-43.1751763]\n",
        ",[-22.9237483,\t-43.2338438]\n",
        ",[-22.986619,\t-43.197856]\n",
        ",[-22.9646,\t-43.194684]\n",
        ",[-22.9617328,\t-43.1734942]\n",
        ",[-22.9151638,\t-43.1879354]\n",
        ",[-22.914329,\t-43.182382]\n",
        ",[-22.9200907,\t-43.1802424]\n",
        ",[-22.9038343,\t-43.1825421]\n",
        ",[-22.9235277,\t-43.2285539]\n",
        ",[-22.9636205,\t-43.1756861]\n",
        ",[-22.903838,\t-43.2215012]\n",
        ",[-22.9804019,\t-43.1907763]\n",
        ",[-22.9329308,\t-43.1810727]\n",
        ",[-22.9271844,\t-43.1792506]\n",
        "\n",
        ",[-22.9395078,\t-43.1766484]\n",
        ",[-22.9742002,\t-43.1913244]\n",
        ",[-22.9495771,\t-43.1826996]\n",
        ",[-22.9130229,\t-43.1842979]\n",
        ",[-22.967708,\t-43.1840686]\n",
        ",[-22.9721093,\t-43.18683]\n",
        ",[-22.9647053,\t-43.1904308]\n",
        ",[-22.9233815,\t-43.2319409]\n",
        ",[-22.965088327,\t-43.183044791]\n",
        ",[-22.927765,\t-43.1741486]\n",
        ",[-22.8979701,\t-43.1895772]\n",
        ",[-22.982534,\t-43.209235]\n",
        ",[-22.916673996,\t-43.187801837]\n",
        ",[-22.9514222,\t-43.191835]\n",
        ",[-22.980438,\t-43.202618]\n",
        ",[-22.9123801,\t-43.1928479]\n",
        ",[-22.9560208,\t-43.1815362]\n",
        ",[-22.910535,\t-43.1889378]\n",
        ",[-22.9371419,\t-43.1890551]\n",
        ",[-22.929059,\t-43.230951]\n",
        ",[-22.9619214,\t-43.2072534]\n",
        ",[-22.9625667,\t-43.1697504]\n",
        ",[-22.972477551,\t-43.190373592]\n",
        ",[-22.9835899,\t-43.1961882]\n",
        ",[-22.9875393,\t-43.2291559]\n",
        ",[-22.945579974,\t-43.185884915]\n",
        ",[-22.9663959,\t-43.1869641]\n",
        ",[-22.9352595,\t-43.179183]\n",
        ",[-22.9177448,\t-43.1869991]\n",
        ",[-22.9835241,\t-43.2137085]\n",
        ",[-22.9753567,\t-43.1920137]\n",
        ",[-22.91348124,\t-43.186388165]\n",
        ",[-22.9732827,\t-43.1899523]\n",
        ",[-22.970459644,\t-43.188243532]\n",
        ",[-22.927765,\t-43.1741486]\n",
        ",[-22.980438,\t-43.202618]\n",
        ",[-22.917404,\t-43.213528]\n",
        ",[-22.9758008,\t-43.1879943]\n",
        ",[-22.924608522,\t-43.178533986]\n",
        ",[-22.9126702,\t-43.1772664]\n",
        ",[-22.955745,\t-43.188543]\n",
        ",[-22.9078531,\t-43.1733363]\n",
        ",[-22.9695922,\t-43.1844154]\n",
        ",[-22.9053528,\t-43.1755908]\n",
        ",[-22.9834973,\t-43.211079]\n",
        ",[-22.9775568,\t-43.1919479]\n",
        ",[-22.936299,\t-43.185245]\n",
        ",[-22.9271259,\t-43.1738086]\n",
        ",[-22.9774213,\t-43.2250809]\n",
        ",[-22.9611163,\t-43.1904643]\n",
        ",[-22.9399192,\t-43.1909785]\n",
        ",[-22.9611957,\t-43.168849]\n",
        ",[-22.981946,\t-43.1955673]\n",
        ",[-22.9418552,\t-43.1806948]\n",
        ",[-22.96001,\t-43.201367]\n",
        ",[-22.9327809,\t-43.1845294]\n",
        ",[-22.939417849,\t-43.177002445]\n",
        ",[-22.98514,\t-43.2031333]\n",
        ",[-22.9842366,\t-43.1912751]\n",
        ",[-22.915089,\t-43.1869082]\n",
        ",[-22.943142081,\t-43.19129996]\n",
        ",[-22.933031608,\t-43.175311915]\n",
        ",[-22.9405399,\t-43.196612]\n",
        ",[-22.98212,\t-43.203148]\n",
        ",[-22.981972404,\t-43.199055567]\n",
        ",[-22.961178475,\t-43.215640254]\n",
        ",[-22.980856,\t-43.2206]\n",
        ",[-22.9742002,\t-43.1913244]\n",
        ",[-22.983717,\t-43.190876]\n",
        ",[-22.928734,\t-43.17952]\n",
        ",[-22.967725,\t-43.182937]\n",
        ",[-22.9558897,\t-43.1791742]\n",
        ",[-22.9121996,\t-43.2019907]\n",
        ",[-22.964138,\t-43.176238]\n",
        ",[-22.9060297,\t-43.1793347]\n",
        ",[-22.9197825,\t-43.195807]\n",
        ",[-22.9768298,\t-43.1968611]\n",
        ",[-22.96723,\t-43.186641]\n",
        ",[-22.9862818,\t-43.1930623]\n",
        ",[-22.9508333,\t-43.1875581]\n",
        ",[-22.9418397,\t-43.1766621]\n",
        ",[-22.9500281,\t-43.1882229]\n",
        ",[-22.9866994,\t-43.1940511]\n",
        ",[-22.9168016,\t-43.1769108]\n",
        ",[-22.9368427,\t-43.1897249]\n",
        ",[-22.915017,\t-43.19315]\n",
        ",[-22.928113,\t-43.177066]\n",
        ",[-22.945116,\t-43.161907]\n",
        ",[-22.9197689,\t-43.1798366]\n",
        ",[-22.9414397,\t-43.1766991]\n",
        ",[-22.9508034,\t-43.1872411]]\n",
        "\n",
        "ubi = np.array(ubi)"
      ]
    },
    {
      "cell_type": "code",
      "execution_count": 9,
      "metadata": {
        "id": "IUmZ3C1cJ-pB"
      },
      "outputs": [],
      "source": [
        "ubistores = [[-22.9746298,\t-43.1912063]\n",
        ",[-22.9336112,\t-43.1757339]\n",
        ",[-22.980438,\t-43.202618]\n",
        ",[-22.9123072,\t-43.2019991]]\n",
        "ubistores = np.array(ubistores)"
      ]
    },
    {
      "cell_type": "code",
      "execution_count": 10,
      "metadata": {
        "id": "j7iVzCwSsmJ_"
      },
      "outputs": [],
      "source": [
        "# Costo promedio de imprimir tarjetas en pesos reales (Brasil).\n",
        "costo_imp_tienda=[50.03,57.53,46.28,58.79]"
      ]
    },
    {
      "cell_type": "code",
      "execution_count": 11,
      "metadata": {
        "id": "Uz5Qj4BatzD5"
      },
      "outputs": [],
      "source": [
        "# Cálculo de número de clientes como número de ubicaciones.\n",
        "numero_clientes=len(ubi)\n",
        "# Cálculo de número de tiendas como número de ubicaciones.\n",
        "longitud_tienda = len(costo_imp_tienda)\n",
        "# Números de días para repartición.\n",
        "numero_dias = 31"
      ]
    },
    {
      "cell_type": "code",
      "execution_count": 12,
      "metadata": {
        "id": "KBF7MI6Jt5_z"
      },
      "outputs": [],
      "source": [
        "# Cálculo de distancias entre los clientes y las tiendas de repartición.\n",
        "distancia_tienda_cliente = [[distance.euclidean(ubi[k], ubistores[i]) for i in range(longitud_tienda)] for k in range(numero_clientes)]"
      ]
    },
    {
      "cell_type": "code",
      "execution_count": 13,
      "metadata": {
        "id": "XLmcn7chrVGQ"
      },
      "outputs": [],
      "source": [
        "# Costo por kilometro en pesos reales (Brasil).\n",
        "costo_km = 6.62"
      ]
    },
    {
      "cell_type": "code",
      "execution_count": 14,
      "metadata": {
        "id": "zLgV_7O99Ntm"
      },
      "outputs": [],
      "source": [
        "# Capacidad diaría de tiendas.\n",
        "capacida_dia_tienda = [100,150,50,100]"
      ]
    },
    {
      "cell_type": "markdown",
      "metadata": {
        "id": "VPFhHnWDoT1P"
      },
      "source": [
        "## Planteamiento:"
      ]
    },
    {
      "cell_type": "code",
      "execution_count": 15,
      "metadata": {
        "id": "G-hzS1ym4FV_"
      },
      "outputs": [],
      "source": [
        "# Planteamiento del Solver para respuestas enteras.\n",
        "solver = pywraplp.Solver.CreateSolver('SCIP')"
      ]
    },
    {
      "cell_type": "markdown",
      "metadata": {
        "id": "GigTNHU0TGdL"
      },
      "source": [
        "Lista de indices:\n",
        "- i = {1,2,3, ... ,4}  **Store i** \n",
        "- j = {1,2,3, ... ,30}  **Dia j del mes de Abril**\n",
        "- k = {1,2,3, ... ,k}  **Cliente k que solicita la tarjeta**\n",
        "\n"
      ]
    },
    {
      "cell_type": "markdown",
      "metadata": {
        "id": "ta1VRgjWUg9f"
      },
      "source": [
        "Lista de Variables:\n",
        "\n",
        "  \\begin{align}\n",
        "    X_{i,j,k}  \n",
        " \\end{align}\n",
        "\n",
        "\n",
        " \\begin{align}\n",
        "\\text X_{i,j,k} = \\left\\{\n",
        "\\begin{array}{cl}\n",
        "1 &  \\text{Si la tarjeta impresa en la tienda i es entregada en el día j  al cliente k  } \\\\\n",
        "0 & \\text{En otro caso}\n",
        "\\end{array}\n",
        "\\right.\n",
        "\\end{align}"
      ]
    },
    {
      "cell_type": "code",
      "execution_count": 16,
      "metadata": {
        "id": "DPfxUJO8x7z-"
      },
      "outputs": [],
      "source": [
        "# Variables que indican la tienda, el día de reparto y el cliente.\n",
        "x = [[[solver.IntVar(0, 1, f'x[{tienda}, {dia},{cliente} ]') for cliente in range(numero_clientes) ] for dia in range(numero_dias) ] for tienda  in range(len(costo_imp_tienda))]"
      ]
    },
    {
      "cell_type": "markdown",
      "metadata": {
        "id": "Z6ybinnaWnw-"
      },
      "source": [
        "Función Objetivo:\n",
        "\n",
        "\\begin{align}\n",
        "        \\text{Min: C} =  &\\sum_{i=1} \\sum_{j=1} \\sum_{k=1} X_{i,j,k} * CosImpre(i) + CostoKm \\sum_{i=1} \\sum_{j=1} \\sum_{k=1} X_{i,j,k} * DistTiendaCliente(i,k) \\\\[1em]\n",
        "        \\text{ }  \n",
        "    \\end{align}"
      ]
    },
    {
      "cell_type": "code",
      "execution_count": 17,
      "metadata": {
        "id": "3N4VFcIRW8vW"
      },
      "outputs": [],
      "source": [
        "# Definición de función objetivo.\n",
        "objetivo = solver.Objective()\n",
        "for i in range(longitud_tienda):\n",
        "  for j in range(numero_dias):\n",
        "    for k in range(numero_clientes):\n",
        "      objetivo.SetCoefficient(x[i][j][k], costo_imp_tienda[i])"
      ]
    },
    {
      "cell_type": "code",
      "execution_count": 18,
      "metadata": {
        "id": "Do2xRY7Ho8FH"
      },
      "outputs": [],
      "source": [
        "for i in range(longitud_tienda):\n",
        "  for j in range(numero_dias):\n",
        "    for k in range(numero_clientes):\n",
        "      objetivo.SetCoefficient(x[i][j][k], costo_km*distancia_tienda_cliente[k][i])"
      ]
    },
    {
      "cell_type": "code",
      "execution_count": 19,
      "metadata": {
        "id": "49UR8WYKatPo"
      },
      "outputs": [],
      "source": [
        "objetivo.SetMinimization()"
      ]
    },
    {
      "cell_type": "markdown",
      "metadata": {
        "id": "bDXtubDObqZz"
      },
      "source": [
        "## Restricciones:"
      ]
    },
    {
      "cell_type": "markdown",
      "metadata": {
        "id": "mO2RBILxb2pA"
      },
      "source": [
        "**Capacidad máxima por tienda diaria**: Cada tienda tiene una capacidad de impresion diaria"
      ]
    },
    {
      "cell_type": "code",
      "execution_count": 20,
      "metadata": {
        "id": "oYfLA8DPbuEh"
      },
      "outputs": [],
      "source": [
        "# Restricción.\n",
        "for j in range(numero_dias):  \n",
        "    solver.Add(solver.Sum([x[i][j][k] for i in range(longitud_tienda) for k in range(numero_clientes)]) <= capacida_dia_tienda[i])"
      ]
    },
    {
      "cell_type": "markdown",
      "metadata": {
        "id": "BO0pdeOndlzz"
      },
      "source": [
        "**Restriccion de entregar tarjetas:** Las tarjetas se deben entregar o dejar pendientes para el siguiente mes y un cliente solo debe recibir una tarjeta."
      ]
    },
    {
      "cell_type": "code",
      "execution_count": 21,
      "metadata": {
        "id": "nGMuWhXJdtmD"
      },
      "outputs": [],
      "source": [
        "# Restricción.\n",
        "for k in range(numero_clientes):\n",
        "  solver.Add(solver.Sum([x[i][j][k] for i in range(longitud_tienda) for j in range(numero_dias)])==1)"
      ]
    },
    {
      "cell_type": "markdown",
      "metadata": {
        "id": "SZkoYMuPeI5N"
      },
      "source": [
        "Sin embargo, algunos clientes quieren recibir la tarjeta en un día especifico, por lo que programaron la entrega."
      ]
    },
    {
      "cell_type": "code",
      "execution_count": 22,
      "metadata": {
        "id": "O2rQkIlnvM1p"
      },
      "outputs": [],
      "source": [
        "SchedulesClientes = [[0,6],[1,6],[10,10],[11,12],[13,6]]\n",
        "\n",
        "for cliente in SchedulesClientes:\n",
        "  solver.Add(solver.Sum([x[i][cliente[1]][cliente[0]] for i in range(longitud_tienda)])==1)"
      ]
    },
    {
      "cell_type": "markdown",
      "metadata": {
        "id": "DT0YOsn0oT1U"
      },
      "source": [
        "**Reparto mínimo por tienda:** Se limito la cantidad de repartos por día en uno o más para cada tienda-"
      ]
    },
    {
      "cell_type": "code",
      "execution_count": 23,
      "metadata": {
        "id": "RPzF0Y4VoT1U"
      },
      "outputs": [],
      "source": [
        "# Restricción\n",
        "for j in range(numero_dias):\n",
        "    for i in range(longitud_tienda):\n",
        "        solver.Add(solver.Sum([x[i][j][k] for k in range(numero_clientes)])>=1)"
      ]
    },
    {
      "cell_type": "code",
      "execution_count": 24,
      "metadata": {
        "id": "CYpYRjrtoT1U"
      },
      "outputs": [],
      "source": [
        "#print(solver.ExportModelAsLpFormat(False).replace('\\\\', '').replace(',_', ','), sep='\\n')"
      ]
    },
    {
      "cell_type": "markdown",
      "metadata": {
        "id": "DV5Si3sXNu9s"
      },
      "source": [
        "## Resultados:"
      ]
    },
    {
      "cell_type": "code",
      "execution_count": 25,
      "metadata": {
        "colab": {
          "base_uri": "https://localhost:8080/"
        },
        "id": "FVextECSwWk2",
        "outputId": "bc6dbc5b-10db-4d7c-b1f5-32d2c0372a65"
      },
      "outputs": [
        {
          "output_type": "stream",
          "name": "stdout",
          "text": [
            "Solución\n",
            "Función objetivo = 26.16014105829372\n"
          ]
        }
      ],
      "source": [
        "status= solver.Solve()\n",
        "dataset=[]\n",
        "if status == pywraplp.Solver.OPTIMAL:\n",
        "    print('Solución')\n",
        "    print('Función objetivo =', solver.Objective().Value())\n",
        "    for i in range(longitud_tienda):\n",
        "        for j in range(numero_dias):\n",
        "            for k in range(numero_clientes):\n",
        "                if x[i][j][k].solution_value() != 0.0:\n",
        "                    #print(x[i][j][k])\n",
        "                    dataset.append([i,j,k]) \n",
        "else:\n",
        "  print('No sirve')"
      ]
    },
    {
      "cell_type": "code",
      "execution_count": 26,
      "metadata": {
        "id": "rP4Cn7S1zZZN"
      },
      "outputs": [],
      "source": [
        "df = pd.DataFrame(dataset, index = None, columns=None, dtype='category')\n",
        "df.columns=['OriginStore','day','client']\n",
        "df['count'] = 1"
      ]
    },
    {
      "cell_type": "code",
      "execution_count": 27,
      "metadata": {
        "colab": {
          "base_uri": "https://localhost:8080/",
          "height": 424
        },
        "id": "3tjkX_asoT1W",
        "outputId": "ef0882e0-431d-46dc-e83d-aceed5cffcca"
      },
      "outputs": [
        {
          "output_type": "execute_result",
          "data": {
            "text/plain": [
              "    OriginStore day client  count\n",
              "0             0   0     32      1\n",
              "1             0   1     26      1\n",
              "2             0   1     46      1\n",
              "3             0   2     85      1\n",
              "4             0   2    120      1\n",
              "..          ...  ..    ...    ...\n",
              "98            0  29    282      1\n",
              "99            0  30     28      1\n",
              "100           0  30    147      1\n",
              "101           0  30    206      1\n",
              "102           0  30    239      1\n",
              "\n",
              "[103 rows x 4 columns]"
            ],
            "text/html": [
              "\n",
              "  <div id=\"df-e554d0a7-c695-4755-848a-01b5ba0f10c9\">\n",
              "    <div class=\"colab-df-container\">\n",
              "      <div>\n",
              "<style scoped>\n",
              "    .dataframe tbody tr th:only-of-type {\n",
              "        vertical-align: middle;\n",
              "    }\n",
              "\n",
              "    .dataframe tbody tr th {\n",
              "        vertical-align: top;\n",
              "    }\n",
              "\n",
              "    .dataframe thead th {\n",
              "        text-align: right;\n",
              "    }\n",
              "</style>\n",
              "<table border=\"1\" class=\"dataframe\">\n",
              "  <thead>\n",
              "    <tr style=\"text-align: right;\">\n",
              "      <th></th>\n",
              "      <th>OriginStore</th>\n",
              "      <th>day</th>\n",
              "      <th>client</th>\n",
              "      <th>count</th>\n",
              "    </tr>\n",
              "  </thead>\n",
              "  <tbody>\n",
              "    <tr>\n",
              "      <th>0</th>\n",
              "      <td>0</td>\n",
              "      <td>0</td>\n",
              "      <td>32</td>\n",
              "      <td>1</td>\n",
              "    </tr>\n",
              "    <tr>\n",
              "      <th>1</th>\n",
              "      <td>0</td>\n",
              "      <td>1</td>\n",
              "      <td>26</td>\n",
              "      <td>1</td>\n",
              "    </tr>\n",
              "    <tr>\n",
              "      <th>2</th>\n",
              "      <td>0</td>\n",
              "      <td>1</td>\n",
              "      <td>46</td>\n",
              "      <td>1</td>\n",
              "    </tr>\n",
              "    <tr>\n",
              "      <th>3</th>\n",
              "      <td>0</td>\n",
              "      <td>2</td>\n",
              "      <td>85</td>\n",
              "      <td>1</td>\n",
              "    </tr>\n",
              "    <tr>\n",
              "      <th>4</th>\n",
              "      <td>0</td>\n",
              "      <td>2</td>\n",
              "      <td>120</td>\n",
              "      <td>1</td>\n",
              "    </tr>\n",
              "    <tr>\n",
              "      <th>...</th>\n",
              "      <td>...</td>\n",
              "      <td>...</td>\n",
              "      <td>...</td>\n",
              "      <td>...</td>\n",
              "    </tr>\n",
              "    <tr>\n",
              "      <th>98</th>\n",
              "      <td>0</td>\n",
              "      <td>29</td>\n",
              "      <td>282</td>\n",
              "      <td>1</td>\n",
              "    </tr>\n",
              "    <tr>\n",
              "      <th>99</th>\n",
              "      <td>0</td>\n",
              "      <td>30</td>\n",
              "      <td>28</td>\n",
              "      <td>1</td>\n",
              "    </tr>\n",
              "    <tr>\n",
              "      <th>100</th>\n",
              "      <td>0</td>\n",
              "      <td>30</td>\n",
              "      <td>147</td>\n",
              "      <td>1</td>\n",
              "    </tr>\n",
              "    <tr>\n",
              "      <th>101</th>\n",
              "      <td>0</td>\n",
              "      <td>30</td>\n",
              "      <td>206</td>\n",
              "      <td>1</td>\n",
              "    </tr>\n",
              "    <tr>\n",
              "      <th>102</th>\n",
              "      <td>0</td>\n",
              "      <td>30</td>\n",
              "      <td>239</td>\n",
              "      <td>1</td>\n",
              "    </tr>\n",
              "  </tbody>\n",
              "</table>\n",
              "<p>103 rows × 4 columns</p>\n",
              "</div>\n",
              "      <button class=\"colab-df-convert\" onclick=\"convertToInteractive('df-e554d0a7-c695-4755-848a-01b5ba0f10c9')\"\n",
              "              title=\"Convert this dataframe to an interactive table.\"\n",
              "              style=\"display:none;\">\n",
              "        \n",
              "  <svg xmlns=\"http://www.w3.org/2000/svg\" height=\"24px\"viewBox=\"0 0 24 24\"\n",
              "       width=\"24px\">\n",
              "    <path d=\"M0 0h24v24H0V0z\" fill=\"none\"/>\n",
              "    <path d=\"M18.56 5.44l.94 2.06.94-2.06 2.06-.94-2.06-.94-.94-2.06-.94 2.06-2.06.94zm-11 1L8.5 8.5l.94-2.06 2.06-.94-2.06-.94L8.5 2.5l-.94 2.06-2.06.94zm10 10l.94 2.06.94-2.06 2.06-.94-2.06-.94-.94-2.06-.94 2.06-2.06.94z\"/><path d=\"M17.41 7.96l-1.37-1.37c-.4-.4-.92-.59-1.43-.59-.52 0-1.04.2-1.43.59L10.3 9.45l-7.72 7.72c-.78.78-.78 2.05 0 2.83L4 21.41c.39.39.9.59 1.41.59.51 0 1.02-.2 1.41-.59l7.78-7.78 2.81-2.81c.8-.78.8-2.07 0-2.86zM5.41 20L4 18.59l7.72-7.72 1.47 1.35L5.41 20z\"/>\n",
              "  </svg>\n",
              "      </button>\n",
              "      \n",
              "  <style>\n",
              "    .colab-df-container {\n",
              "      display:flex;\n",
              "      flex-wrap:wrap;\n",
              "      gap: 12px;\n",
              "    }\n",
              "\n",
              "    .colab-df-convert {\n",
              "      background-color: #E8F0FE;\n",
              "      border: none;\n",
              "      border-radius: 50%;\n",
              "      cursor: pointer;\n",
              "      display: none;\n",
              "      fill: #1967D2;\n",
              "      height: 32px;\n",
              "      padding: 0 0 0 0;\n",
              "      width: 32px;\n",
              "    }\n",
              "\n",
              "    .colab-df-convert:hover {\n",
              "      background-color: #E2EBFA;\n",
              "      box-shadow: 0px 1px 2px rgba(60, 64, 67, 0.3), 0px 1px 3px 1px rgba(60, 64, 67, 0.15);\n",
              "      fill: #174EA6;\n",
              "    }\n",
              "\n",
              "    [theme=dark] .colab-df-convert {\n",
              "      background-color: #3B4455;\n",
              "      fill: #D2E3FC;\n",
              "    }\n",
              "\n",
              "    [theme=dark] .colab-df-convert:hover {\n",
              "      background-color: #434B5C;\n",
              "      box-shadow: 0px 1px 3px 1px rgba(0, 0, 0, 0.15);\n",
              "      filter: drop-shadow(0px 1px 2px rgba(0, 0, 0, 0.3));\n",
              "      fill: #FFFFFF;\n",
              "    }\n",
              "  </style>\n",
              "\n",
              "      <script>\n",
              "        const buttonEl =\n",
              "          document.querySelector('#df-e554d0a7-c695-4755-848a-01b5ba0f10c9 button.colab-df-convert');\n",
              "        buttonEl.style.display =\n",
              "          google.colab.kernel.accessAllowed ? 'block' : 'none';\n",
              "\n",
              "        async function convertToInteractive(key) {\n",
              "          const element = document.querySelector('#df-e554d0a7-c695-4755-848a-01b5ba0f10c9');\n",
              "          const dataTable =\n",
              "            await google.colab.kernel.invokeFunction('convertToInteractive',\n",
              "                                                     [key], {});\n",
              "          if (!dataTable) return;\n",
              "\n",
              "          const docLinkHtml = 'Like what you see? Visit the ' +\n",
              "            '<a target=\"_blank\" href=https://colab.research.google.com/notebooks/data_table.ipynb>data table notebook</a>'\n",
              "            + ' to learn more about interactive tables.';\n",
              "          element.innerHTML = '';\n",
              "          dataTable['output_type'] = 'display_data';\n",
              "          await google.colab.output.renderOutput(dataTable, element);\n",
              "          const docLink = document.createElement('div');\n",
              "          docLink.innerHTML = docLinkHtml;\n",
              "          element.appendChild(docLink);\n",
              "        }\n",
              "      </script>\n",
              "    </div>\n",
              "  </div>\n",
              "  "
            ]
          },
          "metadata": {},
          "execution_count": 27
        }
      ],
      "source": [
        "df[df.OriginStore == 0]"
      ]
    },
    {
      "cell_type": "code",
      "execution_count": 28,
      "metadata": {
        "colab": {
          "base_uri": "https://localhost:8080/",
          "height": 417
        },
        "id": "k_I47mCI2SHd",
        "outputId": "f77c442f-7044-4a30-a656-fe2cffc5f34f"
      },
      "outputs": [
        {
          "output_type": "display_data",
          "data": {
            "text/html": [
              "<html>\n",
              "<head><meta charset=\"utf-8\" /></head>\n",
              "<body>\n",
              "    <div>            <script src=\"https://cdnjs.cloudflare.com/ajax/libs/mathjax/2.7.5/MathJax.js?config=TeX-AMS-MML_SVG\"></script><script type=\"text/javascript\">if (window.MathJax) {MathJax.Hub.Config({SVG: {font: \"STIX-Web\"}});}</script>                <script type=\"text/javascript\">window.PlotlyConfig = {MathJaxConfig: 'local'};</script>\n",
              "        <script src=\"https://cdn.plot.ly/plotly-2.8.3.min.js\"></script>                <div id=\"432035d7-5f5d-47fe-b98a-636531844189\" class=\"plotly-graph-div\" style=\"height:400px; width:100%;\"></div>            <script type=\"text/javascript\">                                    window.PLOTLYENV=window.PLOTLYENV || {};                                    if (document.getElementById(\"432035d7-5f5d-47fe-b98a-636531844189\")) {                    Plotly.newPlot(                        \"432035d7-5f5d-47fe-b98a-636531844189\",                        [{\"alignmentgroup\":\"True\",\"customdata\":[[32],[26],[46],[85],[120],[82],[178],[5],[62],[19],[146],[185],[191],[213],[267],[44],[117],[166],[186],[230],[175],[214],[145],[280],[286],[193],[215],[25],[57],[251],[258],[42],[56],[86],[112],[189],[225],[263],[27],[60],[188],[254],[38],[76],[98],[109],[158],[222],[3],[160],[235],[49],[111],[276],[285],[61],[231],[249],[136],[148],[151],[167],[204],[279],[94],[192],[242],[52],[113],[165],[241],[161],[210],[114],[164],[197],[198],[217],[69],[170],[277],[34],[96],[110],[144],[152],[115],[132],[172],[4],[97],[260],[122],[6],[73],[88],[100],[246],[282],[28],[147],[206],[239]],\"hovertemplate\":\"Origin Store=0<br>day=%{x}<br>count=%{y}<br>client=%{customdata[0]}<extra></extra>\",\"legendgroup\":\"0\",\"marker\":{\"color\":\"rgb(136, 204, 238)\",\"pattern\":{\"shape\":\"\"}},\"name\":\"0\",\"offsetgroup\":\"0\",\"orientation\":\"v\",\"showlegend\":true,\"textposition\":\"auto\",\"x\":[0,1,1,2,2,3,3,4,4,5,5,5,5,5,5,6,6,6,6,6,7,7,8,8,8,9,9,10,10,10,10,11,11,11,11,11,11,11,12,12,12,12,13,13,13,13,13,13,14,15,15,16,16,16,16,17,17,17,18,18,18,18,18,18,19,19,19,20,20,20,21,22,22,23,23,23,23,23,24,24,24,25,25,25,25,25,26,26,26,27,27,27,28,29,29,29,29,29,29,30,30,30,30],\"xaxis\":\"x\",\"y\":[1,1,1,1,1,1,1,1,1,1,1,1,1,1,1,1,1,1,1,1,1,1,1,1,1,1,1,1,1,1,1,1,1,1,1,1,1,1,1,1,1,1,1,1,1,1,1,1,1,1,1,1,1,1,1,1,1,1,1,1,1,1,1,1,1,1,1,1,1,1,1,1,1,1,1,1,1,1,1,1,1,1,1,1,1,1,1,1,1,1,1,1,1,1,1,1,1,1,1,1,1,1,1],\"yaxis\":\"y\",\"type\":\"bar\"},{\"alignmentgroup\":\"True\",\"customdata\":[[63],[23],[24],[92],[177],[124],[103],[183],[227],[262],[169],[174],[255],[295],[134],[218],[13],[128],[159],[265],[72],[91],[150],[154],[292],[51],[236],[256],[269],[116],[211],[234],[293],[64],[71],[181],[101],[11],[78],[127],[278],[39],[93],[143],[208],[17],[47],[141],[299],[66],[137],[207],[48],[55],[248],[289],[70],[149],[187],[201],[247],[270],[271],[54],[243],[288],[40],[209],[250],[130],[259],[7],[20],[21],[194],[264],[297],[298],[90],[118],[290],[107],[142],[15],[296]],\"hovertemplate\":\"Origin Store=1<br>day=%{x}<br>count=%{y}<br>client=%{customdata[0]}<extra></extra>\",\"legendgroup\":\"1\",\"marker\":{\"color\":\"rgb(204, 102, 119)\",\"pattern\":{\"shape\":\"\"}},\"name\":\"1\",\"offsetgroup\":\"1\",\"orientation\":\"v\",\"showlegend\":true,\"textposition\":\"auto\",\"x\":[0,1,1,1,1,2,3,3,3,3,4,4,4,4,5,5,6,6,6,6,7,7,7,7,7,8,8,8,8,9,9,9,9,10,10,10,11,12,12,12,12,13,13,14,14,15,15,16,17,18,18,18,19,19,19,19,20,20,20,20,20,20,20,21,21,21,22,22,22,23,23,24,24,24,24,24,24,25,26,26,26,27,28,29,30],\"xaxis\":\"x\",\"y\":[1,1,1,1,1,1,1,1,1,1,1,1,1,1,1,1,1,1,1,1,1,1,1,1,1,1,1,1,1,1,1,1,1,1,1,1,1,1,1,1,1,1,1,1,1,1,1,1,1,1,1,1,1,1,1,1,1,1,1,1,1,1,1,1,1,1,1,1,1,1,1,1,1,1,1,1,1,1,1,1,1,1,1,1,1],\"yaxis\":\"y\",\"type\":\"bar\"},{\"alignmentgroup\":\"True\",\"customdata\":[[238],[261],[123],[233],[291],[68],[257],[131],[253],[272],[53],[83],[229],[220],[182],[126],[157],[273],[223],[119],[79],[50],[22],[156],[16],[168],[14],[275],[95],[232],[9],[274],[196],[89],[43],[74],[266],[105],[125],[244],[287]],\"hovertemplate\":\"Origin Store=2<br>day=%{x}<br>count=%{y}<br>client=%{customdata[0]}<extra></extra>\",\"legendgroup\":\"2\",\"marker\":{\"color\":\"rgb(221, 204, 119)\",\"pattern\":{\"shape\":\"\"}},\"name\":\"2\",\"offsetgroup\":\"2\",\"orientation\":\"v\",\"showlegend\":true,\"textposition\":\"auto\",\"x\":[0,1,2,3,4,5,5,6,6,6,7,8,9,10,11,12,13,14,15,16,17,18,19,19,20,21,22,22,23,23,24,25,26,27,28,28,28,29,30,30,30],\"xaxis\":\"x\",\"y\":[1,1,1,1,1,1,1,1,1,1,1,1,1,1,1,1,1,1,1,1,1,1,1,1,1,1,1,1,1,1,1,1,1,1,1,1,1,1,1,1,1],\"yaxis\":\"y\",\"type\":\"bar\"},{\"alignmentgroup\":\"True\",\"customdata\":[[65],[80],[252],[8],[294],[75],[140],[268],[45],[2],[129],[212],[179],[0],[1],[41],[87],[138],[199],[99],[108],[245],[283],[284],[180],[77],[200],[10],[139],[184],[240],[37],[224],[155],[29],[35],[106],[162],[30],[84],[102],[163],[18],[153],[171],[226],[237],[173],[190],[176],[205],[36],[216],[202],[203],[281],[31],[33],[221],[228],[135],[59],[219],[67],[121],[81],[133],[195],[104],[58],[12]],\"hovertemplate\":\"Origin Store=3<br>day=%{x}<br>count=%{y}<br>client=%{customdata[0]}<extra></extra>\",\"legendgroup\":\"3\",\"marker\":{\"color\":\"rgb(17, 119, 51)\",\"pattern\":{\"shape\":\"\"}},\"name\":\"3\",\"offsetgroup\":\"3\",\"orientation\":\"v\",\"showlegend\":true,\"textposition\":\"auto\",\"x\":[0,0,0,1,1,2,2,2,3,4,4,4,5,6,6,6,6,6,6,7,7,7,7,7,8,9,9,10,10,10,10,11,11,12,13,13,13,13,14,14,14,14,15,15,15,15,15,16,16,17,17,18,18,19,20,20,21,21,21,22,23,24,25,26,26,27,27,27,28,29,30],\"xaxis\":\"x\",\"y\":[1,1,1,1,1,1,1,1,1,1,1,1,1,1,1,1,1,1,1,1,1,1,1,1,1,1,1,1,1,1,1,1,1,1,1,1,1,1,1,1,1,1,1,1,1,1,1,1,1,1,1,1,1,1,1,1,1,1,1,1,1,1,1,1,1,1,1,1,1,1,1],\"yaxis\":\"y\",\"type\":\"bar\"}],                        {\"template\":{\"data\":{\"bar\":[{\"error_x\":{\"color\":\"#2a3f5f\"},\"error_y\":{\"color\":\"#2a3f5f\"},\"marker\":{\"line\":{\"color\":\"#E5ECF6\",\"width\":0.5},\"pattern\":{\"fillmode\":\"overlay\",\"size\":10,\"solidity\":0.2}},\"type\":\"bar\"}],\"barpolar\":[{\"marker\":{\"line\":{\"color\":\"#E5ECF6\",\"width\":0.5},\"pattern\":{\"fillmode\":\"overlay\",\"size\":10,\"solidity\":0.2}},\"type\":\"barpolar\"}],\"carpet\":[{\"aaxis\":{\"endlinecolor\":\"#2a3f5f\",\"gridcolor\":\"white\",\"linecolor\":\"white\",\"minorgridcolor\":\"white\",\"startlinecolor\":\"#2a3f5f\"},\"baxis\":{\"endlinecolor\":\"#2a3f5f\",\"gridcolor\":\"white\",\"linecolor\":\"white\",\"minorgridcolor\":\"white\",\"startlinecolor\":\"#2a3f5f\"},\"type\":\"carpet\"}],\"choropleth\":[{\"colorbar\":{\"outlinewidth\":0,\"ticks\":\"\"},\"type\":\"choropleth\"}],\"contour\":[{\"colorbar\":{\"outlinewidth\":0,\"ticks\":\"\"},\"colorscale\":[[0.0,\"#0d0887\"],[0.1111111111111111,\"#46039f\"],[0.2222222222222222,\"#7201a8\"],[0.3333333333333333,\"#9c179e\"],[0.4444444444444444,\"#bd3786\"],[0.5555555555555556,\"#d8576b\"],[0.6666666666666666,\"#ed7953\"],[0.7777777777777778,\"#fb9f3a\"],[0.8888888888888888,\"#fdca26\"],[1.0,\"#f0f921\"]],\"type\":\"contour\"}],\"contourcarpet\":[{\"colorbar\":{\"outlinewidth\":0,\"ticks\":\"\"},\"type\":\"contourcarpet\"}],\"heatmap\":[{\"colorbar\":{\"outlinewidth\":0,\"ticks\":\"\"},\"colorscale\":[[0.0,\"#0d0887\"],[0.1111111111111111,\"#46039f\"],[0.2222222222222222,\"#7201a8\"],[0.3333333333333333,\"#9c179e\"],[0.4444444444444444,\"#bd3786\"],[0.5555555555555556,\"#d8576b\"],[0.6666666666666666,\"#ed7953\"],[0.7777777777777778,\"#fb9f3a\"],[0.8888888888888888,\"#fdca26\"],[1.0,\"#f0f921\"]],\"type\":\"heatmap\"}],\"heatmapgl\":[{\"colorbar\":{\"outlinewidth\":0,\"ticks\":\"\"},\"colorscale\":[[0.0,\"#0d0887\"],[0.1111111111111111,\"#46039f\"],[0.2222222222222222,\"#7201a8\"],[0.3333333333333333,\"#9c179e\"],[0.4444444444444444,\"#bd3786\"],[0.5555555555555556,\"#d8576b\"],[0.6666666666666666,\"#ed7953\"],[0.7777777777777778,\"#fb9f3a\"],[0.8888888888888888,\"#fdca26\"],[1.0,\"#f0f921\"]],\"type\":\"heatmapgl\"}],\"histogram\":[{\"marker\":{\"pattern\":{\"fillmode\":\"overlay\",\"size\":10,\"solidity\":0.2}},\"type\":\"histogram\"}],\"histogram2d\":[{\"colorbar\":{\"outlinewidth\":0,\"ticks\":\"\"},\"colorscale\":[[0.0,\"#0d0887\"],[0.1111111111111111,\"#46039f\"],[0.2222222222222222,\"#7201a8\"],[0.3333333333333333,\"#9c179e\"],[0.4444444444444444,\"#bd3786\"],[0.5555555555555556,\"#d8576b\"],[0.6666666666666666,\"#ed7953\"],[0.7777777777777778,\"#fb9f3a\"],[0.8888888888888888,\"#fdca26\"],[1.0,\"#f0f921\"]],\"type\":\"histogram2d\"}],\"histogram2dcontour\":[{\"colorbar\":{\"outlinewidth\":0,\"ticks\":\"\"},\"colorscale\":[[0.0,\"#0d0887\"],[0.1111111111111111,\"#46039f\"],[0.2222222222222222,\"#7201a8\"],[0.3333333333333333,\"#9c179e\"],[0.4444444444444444,\"#bd3786\"],[0.5555555555555556,\"#d8576b\"],[0.6666666666666666,\"#ed7953\"],[0.7777777777777778,\"#fb9f3a\"],[0.8888888888888888,\"#fdca26\"],[1.0,\"#f0f921\"]],\"type\":\"histogram2dcontour\"}],\"mesh3d\":[{\"colorbar\":{\"outlinewidth\":0,\"ticks\":\"\"},\"type\":\"mesh3d\"}],\"parcoords\":[{\"line\":{\"colorbar\":{\"outlinewidth\":0,\"ticks\":\"\"}},\"type\":\"parcoords\"}],\"pie\":[{\"automargin\":true,\"type\":\"pie\"}],\"scatter\":[{\"marker\":{\"colorbar\":{\"outlinewidth\":0,\"ticks\":\"\"}},\"type\":\"scatter\"}],\"scatter3d\":[{\"line\":{\"colorbar\":{\"outlinewidth\":0,\"ticks\":\"\"}},\"marker\":{\"colorbar\":{\"outlinewidth\":0,\"ticks\":\"\"}},\"type\":\"scatter3d\"}],\"scattercarpet\":[{\"marker\":{\"colorbar\":{\"outlinewidth\":0,\"ticks\":\"\"}},\"type\":\"scattercarpet\"}],\"scattergeo\":[{\"marker\":{\"colorbar\":{\"outlinewidth\":0,\"ticks\":\"\"}},\"type\":\"scattergeo\"}],\"scattergl\":[{\"marker\":{\"colorbar\":{\"outlinewidth\":0,\"ticks\":\"\"}},\"type\":\"scattergl\"}],\"scattermapbox\":[{\"marker\":{\"colorbar\":{\"outlinewidth\":0,\"ticks\":\"\"}},\"type\":\"scattermapbox\"}],\"scatterpolar\":[{\"marker\":{\"colorbar\":{\"outlinewidth\":0,\"ticks\":\"\"}},\"type\":\"scatterpolar\"}],\"scatterpolargl\":[{\"marker\":{\"colorbar\":{\"outlinewidth\":0,\"ticks\":\"\"}},\"type\":\"scatterpolargl\"}],\"scatterternary\":[{\"marker\":{\"colorbar\":{\"outlinewidth\":0,\"ticks\":\"\"}},\"type\":\"scatterternary\"}],\"surface\":[{\"colorbar\":{\"outlinewidth\":0,\"ticks\":\"\"},\"colorscale\":[[0.0,\"#0d0887\"],[0.1111111111111111,\"#46039f\"],[0.2222222222222222,\"#7201a8\"],[0.3333333333333333,\"#9c179e\"],[0.4444444444444444,\"#bd3786\"],[0.5555555555555556,\"#d8576b\"],[0.6666666666666666,\"#ed7953\"],[0.7777777777777778,\"#fb9f3a\"],[0.8888888888888888,\"#fdca26\"],[1.0,\"#f0f921\"]],\"type\":\"surface\"}],\"table\":[{\"cells\":{\"fill\":{\"color\":\"#EBF0F8\"},\"line\":{\"color\":\"white\"}},\"header\":{\"fill\":{\"color\":\"#C8D4E3\"},\"line\":{\"color\":\"white\"}},\"type\":\"table\"}]},\"layout\":{\"annotationdefaults\":{\"arrowcolor\":\"#2a3f5f\",\"arrowhead\":0,\"arrowwidth\":1},\"autotypenumbers\":\"strict\",\"coloraxis\":{\"colorbar\":{\"outlinewidth\":0,\"ticks\":\"\"}},\"colorscale\":{\"diverging\":[[0,\"#8e0152\"],[0.1,\"#c51b7d\"],[0.2,\"#de77ae\"],[0.3,\"#f1b6da\"],[0.4,\"#fde0ef\"],[0.5,\"#f7f7f7\"],[0.6,\"#e6f5d0\"],[0.7,\"#b8e186\"],[0.8,\"#7fbc41\"],[0.9,\"#4d9221\"],[1,\"#276419\"]],\"sequential\":[[0.0,\"#0d0887\"],[0.1111111111111111,\"#46039f\"],[0.2222222222222222,\"#7201a8\"],[0.3333333333333333,\"#9c179e\"],[0.4444444444444444,\"#bd3786\"],[0.5555555555555556,\"#d8576b\"],[0.6666666666666666,\"#ed7953\"],[0.7777777777777778,\"#fb9f3a\"],[0.8888888888888888,\"#fdca26\"],[1.0,\"#f0f921\"]],\"sequentialminus\":[[0.0,\"#0d0887\"],[0.1111111111111111,\"#46039f\"],[0.2222222222222222,\"#7201a8\"],[0.3333333333333333,\"#9c179e\"],[0.4444444444444444,\"#bd3786\"],[0.5555555555555556,\"#d8576b\"],[0.6666666666666666,\"#ed7953\"],[0.7777777777777778,\"#fb9f3a\"],[0.8888888888888888,\"#fdca26\"],[1.0,\"#f0f921\"]]},\"colorway\":[\"#636efa\",\"#EF553B\",\"#00cc96\",\"#ab63fa\",\"#FFA15A\",\"#19d3f3\",\"#FF6692\",\"#B6E880\",\"#FF97FF\",\"#FECB52\"],\"font\":{\"color\":\"#2a3f5f\"},\"geo\":{\"bgcolor\":\"white\",\"lakecolor\":\"white\",\"landcolor\":\"#E5ECF6\",\"showlakes\":true,\"showland\":true,\"subunitcolor\":\"white\"},\"hoverlabel\":{\"align\":\"left\"},\"hovermode\":\"closest\",\"mapbox\":{\"style\":\"light\"},\"paper_bgcolor\":\"white\",\"plot_bgcolor\":\"#E5ECF6\",\"polar\":{\"angularaxis\":{\"gridcolor\":\"white\",\"linecolor\":\"white\",\"ticks\":\"\"},\"bgcolor\":\"#E5ECF6\",\"radialaxis\":{\"gridcolor\":\"white\",\"linecolor\":\"white\",\"ticks\":\"\"}},\"scene\":{\"xaxis\":{\"backgroundcolor\":\"#E5ECF6\",\"gridcolor\":\"white\",\"gridwidth\":2,\"linecolor\":\"white\",\"showbackground\":true,\"ticks\":\"\",\"zerolinecolor\":\"white\"},\"yaxis\":{\"backgroundcolor\":\"#E5ECF6\",\"gridcolor\":\"white\",\"gridwidth\":2,\"linecolor\":\"white\",\"showbackground\":true,\"ticks\":\"\",\"zerolinecolor\":\"white\"},\"zaxis\":{\"backgroundcolor\":\"#E5ECF6\",\"gridcolor\":\"white\",\"gridwidth\":2,\"linecolor\":\"white\",\"showbackground\":true,\"ticks\":\"\",\"zerolinecolor\":\"white\"}},\"shapedefaults\":{\"line\":{\"color\":\"#2a3f5f\"}},\"ternary\":{\"aaxis\":{\"gridcolor\":\"white\",\"linecolor\":\"white\",\"ticks\":\"\"},\"baxis\":{\"gridcolor\":\"white\",\"linecolor\":\"white\",\"ticks\":\"\"},\"bgcolor\":\"#E5ECF6\",\"caxis\":{\"gridcolor\":\"white\",\"linecolor\":\"white\",\"ticks\":\"\"}},\"title\":{\"x\":0.05},\"xaxis\":{\"automargin\":true,\"gridcolor\":\"white\",\"linecolor\":\"white\",\"ticks\":\"\",\"title\":{\"standoff\":15},\"zerolinecolor\":\"white\",\"zerolinewidth\":2},\"yaxis\":{\"automargin\":true,\"gridcolor\":\"white\",\"linecolor\":\"white\",\"ticks\":\"\",\"title\":{\"standoff\":15},\"zerolinecolor\":\"white\",\"zerolinewidth\":2}}},\"xaxis\":{\"anchor\":\"y\",\"domain\":[0.0,1.0],\"title\":{\"text\":\"day\"}},\"yaxis\":{\"anchor\":\"x\",\"domain\":[0.0,1.0],\"title\":{\"text\":\"count\"}},\"legend\":{\"title\":{\"text\":\"Origin Store\"},\"tracegroupgap\":0},\"margin\":{\"t\":60},\"barmode\":\"relative\",\"height\":400},                        {\"responsive\": true}                    ).then(function(){\n",
              "                            \n",
              "var gd = document.getElementById('432035d7-5f5d-47fe-b98a-636531844189');\n",
              "var x = new MutationObserver(function (mutations, observer) {{\n",
              "        var display = window.getComputedStyle(gd).display;\n",
              "        if (!display || display === 'none') {{\n",
              "            console.log([gd, 'removed!']);\n",
              "            Plotly.purge(gd);\n",
              "            observer.disconnect();\n",
              "        }}\n",
              "}});\n",
              "\n",
              "// Listen for the removal of the full notebook cells\n",
              "var notebookContainer = gd.closest('#notebook-container');\n",
              "if (notebookContainer) {{\n",
              "    x.observe(notebookContainer, {childList: true});\n",
              "}}\n",
              "\n",
              "// Listen for the clearing of the current output cell\n",
              "var outputEl = gd.closest('.output');\n",
              "if (outputEl) {{\n",
              "    x.observe(outputEl, {childList: true});\n",
              "}}\n",
              "\n",
              "                        })                };                            </script>        </div>\n",
              "</body>\n",
              "</html>"
            ]
          },
          "metadata": {}
        }
      ],
      "source": [
        "fig = px.bar(df, x='day', y='count',\n",
        "              color='OriginStore',\n",
        "              hover_data=['client'],\n",
        "            #  facet_row=\"OriginStore\",\n",
        "             color_discrete_sequence=px.colors.qualitative.Safe,\n",
        "             labels={'OriginStore':'Origin Store'}, height=400)\n",
        "fig.show()"
      ]
    },
    {
      "cell_type": "code",
      "execution_count": 29,
      "metadata": {
        "colab": {
          "base_uri": "https://localhost:8080/",
          "height": 424
        },
        "id": "cRrCIgGOD45U",
        "outputId": "69a53f87-6a6d-44ff-c309-8aade307dc2e"
      },
      "outputs": [
        {
          "output_type": "execute_result",
          "data": {
            "text/plain": [
              "    OriginStore day client  count        lat        log  name\n",
              "0             3   6      0      1 -22.909254 -43.193369     1\n",
              "1             3   6      1      1 -22.918479 -43.226742     1\n",
              "2             3   4      2      1 -22.914105 -43.181868     1\n",
              "3             0  14      3      1 -22.983339 -43.192429     1\n",
              "4             0  27      4      1 -22.965508 -43.183437     1\n",
              "..          ...  ..    ...    ...        ...        ...   ...\n",
              "295           1   4    295      1 -22.928113 -43.177066     1\n",
              "296           1  30    296      1 -22.945116 -43.161907     1\n",
              "297           1  24    297      1 -22.919769 -43.179837     1\n",
              "298           1  25    298      1 -22.941440 -43.176699     1\n",
              "299           1  17    299      1 -22.950803 -43.187241     1\n",
              "\n",
              "[300 rows x 7 columns]"
            ],
            "text/html": [
              "\n",
              "  <div id=\"df-4558c6f1-ad16-4dc6-a06e-677a401c7ec1\">\n",
              "    <div class=\"colab-df-container\">\n",
              "      <div>\n",
              "<style scoped>\n",
              "    .dataframe tbody tr th:only-of-type {\n",
              "        vertical-align: middle;\n",
              "    }\n",
              "\n",
              "    .dataframe tbody tr th {\n",
              "        vertical-align: top;\n",
              "    }\n",
              "\n",
              "    .dataframe thead th {\n",
              "        text-align: right;\n",
              "    }\n",
              "</style>\n",
              "<table border=\"1\" class=\"dataframe\">\n",
              "  <thead>\n",
              "    <tr style=\"text-align: right;\">\n",
              "      <th></th>\n",
              "      <th>OriginStore</th>\n",
              "      <th>day</th>\n",
              "      <th>client</th>\n",
              "      <th>count</th>\n",
              "      <th>lat</th>\n",
              "      <th>log</th>\n",
              "      <th>name</th>\n",
              "    </tr>\n",
              "  </thead>\n",
              "  <tbody>\n",
              "    <tr>\n",
              "      <th>0</th>\n",
              "      <td>3</td>\n",
              "      <td>6</td>\n",
              "      <td>0</td>\n",
              "      <td>1</td>\n",
              "      <td>-22.909254</td>\n",
              "      <td>-43.193369</td>\n",
              "      <td>1</td>\n",
              "    </tr>\n",
              "    <tr>\n",
              "      <th>1</th>\n",
              "      <td>3</td>\n",
              "      <td>6</td>\n",
              "      <td>1</td>\n",
              "      <td>1</td>\n",
              "      <td>-22.918479</td>\n",
              "      <td>-43.226742</td>\n",
              "      <td>1</td>\n",
              "    </tr>\n",
              "    <tr>\n",
              "      <th>2</th>\n",
              "      <td>3</td>\n",
              "      <td>4</td>\n",
              "      <td>2</td>\n",
              "      <td>1</td>\n",
              "      <td>-22.914105</td>\n",
              "      <td>-43.181868</td>\n",
              "      <td>1</td>\n",
              "    </tr>\n",
              "    <tr>\n",
              "      <th>3</th>\n",
              "      <td>0</td>\n",
              "      <td>14</td>\n",
              "      <td>3</td>\n",
              "      <td>1</td>\n",
              "      <td>-22.983339</td>\n",
              "      <td>-43.192429</td>\n",
              "      <td>1</td>\n",
              "    </tr>\n",
              "    <tr>\n",
              "      <th>4</th>\n",
              "      <td>0</td>\n",
              "      <td>27</td>\n",
              "      <td>4</td>\n",
              "      <td>1</td>\n",
              "      <td>-22.965508</td>\n",
              "      <td>-43.183437</td>\n",
              "      <td>1</td>\n",
              "    </tr>\n",
              "    <tr>\n",
              "      <th>...</th>\n",
              "      <td>...</td>\n",
              "      <td>...</td>\n",
              "      <td>...</td>\n",
              "      <td>...</td>\n",
              "      <td>...</td>\n",
              "      <td>...</td>\n",
              "      <td>...</td>\n",
              "    </tr>\n",
              "    <tr>\n",
              "      <th>295</th>\n",
              "      <td>1</td>\n",
              "      <td>4</td>\n",
              "      <td>295</td>\n",
              "      <td>1</td>\n",
              "      <td>-22.928113</td>\n",
              "      <td>-43.177066</td>\n",
              "      <td>1</td>\n",
              "    </tr>\n",
              "    <tr>\n",
              "      <th>296</th>\n",
              "      <td>1</td>\n",
              "      <td>30</td>\n",
              "      <td>296</td>\n",
              "      <td>1</td>\n",
              "      <td>-22.945116</td>\n",
              "      <td>-43.161907</td>\n",
              "      <td>1</td>\n",
              "    </tr>\n",
              "    <tr>\n",
              "      <th>297</th>\n",
              "      <td>1</td>\n",
              "      <td>24</td>\n",
              "      <td>297</td>\n",
              "      <td>1</td>\n",
              "      <td>-22.919769</td>\n",
              "      <td>-43.179837</td>\n",
              "      <td>1</td>\n",
              "    </tr>\n",
              "    <tr>\n",
              "      <th>298</th>\n",
              "      <td>1</td>\n",
              "      <td>25</td>\n",
              "      <td>298</td>\n",
              "      <td>1</td>\n",
              "      <td>-22.941440</td>\n",
              "      <td>-43.176699</td>\n",
              "      <td>1</td>\n",
              "    </tr>\n",
              "    <tr>\n",
              "      <th>299</th>\n",
              "      <td>1</td>\n",
              "      <td>17</td>\n",
              "      <td>299</td>\n",
              "      <td>1</td>\n",
              "      <td>-22.950803</td>\n",
              "      <td>-43.187241</td>\n",
              "      <td>1</td>\n",
              "    </tr>\n",
              "  </tbody>\n",
              "</table>\n",
              "<p>300 rows × 7 columns</p>\n",
              "</div>\n",
              "      <button class=\"colab-df-convert\" onclick=\"convertToInteractive('df-4558c6f1-ad16-4dc6-a06e-677a401c7ec1')\"\n",
              "              title=\"Convert this dataframe to an interactive table.\"\n",
              "              style=\"display:none;\">\n",
              "        \n",
              "  <svg xmlns=\"http://www.w3.org/2000/svg\" height=\"24px\"viewBox=\"0 0 24 24\"\n",
              "       width=\"24px\">\n",
              "    <path d=\"M0 0h24v24H0V0z\" fill=\"none\"/>\n",
              "    <path d=\"M18.56 5.44l.94 2.06.94-2.06 2.06-.94-2.06-.94-.94-2.06-.94 2.06-2.06.94zm-11 1L8.5 8.5l.94-2.06 2.06-.94-2.06-.94L8.5 2.5l-.94 2.06-2.06.94zm10 10l.94 2.06.94-2.06 2.06-.94-2.06-.94-.94-2.06-.94 2.06-2.06.94z\"/><path d=\"M17.41 7.96l-1.37-1.37c-.4-.4-.92-.59-1.43-.59-.52 0-1.04.2-1.43.59L10.3 9.45l-7.72 7.72c-.78.78-.78 2.05 0 2.83L4 21.41c.39.39.9.59 1.41.59.51 0 1.02-.2 1.41-.59l7.78-7.78 2.81-2.81c.8-.78.8-2.07 0-2.86zM5.41 20L4 18.59l7.72-7.72 1.47 1.35L5.41 20z\"/>\n",
              "  </svg>\n",
              "      </button>\n",
              "      \n",
              "  <style>\n",
              "    .colab-df-container {\n",
              "      display:flex;\n",
              "      flex-wrap:wrap;\n",
              "      gap: 12px;\n",
              "    }\n",
              "\n",
              "    .colab-df-convert {\n",
              "      background-color: #E8F0FE;\n",
              "      border: none;\n",
              "      border-radius: 50%;\n",
              "      cursor: pointer;\n",
              "      display: none;\n",
              "      fill: #1967D2;\n",
              "      height: 32px;\n",
              "      padding: 0 0 0 0;\n",
              "      width: 32px;\n",
              "    }\n",
              "\n",
              "    .colab-df-convert:hover {\n",
              "      background-color: #E2EBFA;\n",
              "      box-shadow: 0px 1px 2px rgba(60, 64, 67, 0.3), 0px 1px 3px 1px rgba(60, 64, 67, 0.15);\n",
              "      fill: #174EA6;\n",
              "    }\n",
              "\n",
              "    [theme=dark] .colab-df-convert {\n",
              "      background-color: #3B4455;\n",
              "      fill: #D2E3FC;\n",
              "    }\n",
              "\n",
              "    [theme=dark] .colab-df-convert:hover {\n",
              "      background-color: #434B5C;\n",
              "      box-shadow: 0px 1px 3px 1px rgba(0, 0, 0, 0.15);\n",
              "      filter: drop-shadow(0px 1px 2px rgba(0, 0, 0, 0.3));\n",
              "      fill: #FFFFFF;\n",
              "    }\n",
              "  </style>\n",
              "\n",
              "      <script>\n",
              "        const buttonEl =\n",
              "          document.querySelector('#df-4558c6f1-ad16-4dc6-a06e-677a401c7ec1 button.colab-df-convert');\n",
              "        buttonEl.style.display =\n",
              "          google.colab.kernel.accessAllowed ? 'block' : 'none';\n",
              "\n",
              "        async function convertToInteractive(key) {\n",
              "          const element = document.querySelector('#df-4558c6f1-ad16-4dc6-a06e-677a401c7ec1');\n",
              "          const dataTable =\n",
              "            await google.colab.kernel.invokeFunction('convertToInteractive',\n",
              "                                                     [key], {});\n",
              "          if (!dataTable) return;\n",
              "\n",
              "          const docLinkHtml = 'Like what you see? Visit the ' +\n",
              "            '<a target=\"_blank\" href=https://colab.research.google.com/notebooks/data_table.ipynb>data table notebook</a>'\n",
              "            + ' to learn more about interactive tables.';\n",
              "          element.innerHTML = '';\n",
              "          dataTable['output_type'] = 'display_data';\n",
              "          await google.colab.output.renderOutput(dataTable, element);\n",
              "          const docLink = document.createElement('div');\n",
              "          docLink.innerHTML = docLinkHtml;\n",
              "          element.appendChild(docLink);\n",
              "        }\n",
              "      </script>\n",
              "    </div>\n",
              "  </div>\n",
              "  "
            ]
          },
          "metadata": {},
          "execution_count": 29
        }
      ],
      "source": [
        "df = df.sort_values('client')\n",
        "df['index']= df['client']\n",
        "df.set_index('index',inplace = True)\n",
        "\n",
        "dfubi = pd.DataFrame (ubi, index = None, columns=None)\n",
        "dfubi.columns=['lat','log']\n",
        "dfubi['name']=1\n",
        "\n",
        "dffull = pd.concat([df,dfubi], axis = 1)\n",
        "dffull"
      ]
    },
    {
      "cell_type": "code",
      "execution_count": 30,
      "metadata": {
        "colab": {
          "base_uri": "https://localhost:8080/",
          "height": 317
        },
        "id": "54JgSqSmEGm7",
        "outputId": "e8a96cf0-1710-4384-9e10-2a5da2f0aa51"
      },
      "outputs": [
        {
          "output_type": "display_data",
          "data": {
            "text/html": [
              "<html>\n",
              "<head><meta charset=\"utf-8\" /></head>\n",
              "<body>\n",
              "    <div>            <script src=\"https://cdnjs.cloudflare.com/ajax/libs/mathjax/2.7.5/MathJax.js?config=TeX-AMS-MML_SVG\"></script><script type=\"text/javascript\">if (window.MathJax) {MathJax.Hub.Config({SVG: {font: \"STIX-Web\"}});}</script>                <script type=\"text/javascript\">window.PlotlyConfig = {MathJaxConfig: 'local'};</script>\n",
              "        <script src=\"https://cdn.plot.ly/plotly-2.8.3.min.js\"></script>                <div id=\"bccb2ca0-ae51-4c4c-9bb9-150e1c79c85b\" class=\"plotly-graph-div\" style=\"height:300px; width:100%;\"></div>            <script type=\"text/javascript\">                                    window.PLOTLYENV=window.PLOTLYENV || {};                                    if (document.getElementById(\"bccb2ca0-ae51-4c4c-9bb9-150e1c79c85b\")) {                    Plotly.newPlot(                        \"bccb2ca0-ae51-4c4c-9bb9-150e1c79c85b\",                        [{\"customdata\":[[3],[3],[3],[3],[3],[3],[3],[3],[3],[3],[3],[3],[3],[3],[3],[3],[3],[3],[3],[3],[3],[3],[3],[3],[3],[3],[3],[3],[3],[3],[3],[3],[3],[3],[3],[3],[3],[3],[3],[3],[3],[3],[3],[3],[3],[3],[3],[3],[3],[3],[3],[3],[3],[3],[3],[3],[3],[3],[3],[3],[3],[3],[3],[3],[3],[3],[3],[3],[3],[3],[3]],\"hovertemplate\":\"<b>%{hovertext}</b><br><br>OriginStore=%{customdata[0]}<br>lat=%{lat}<br>log=%{lon}<extra></extra>\",\"hovertext\":[1.0,1.0,1.0,1.0,1.0,1.0,1.0,1.0,1.0,1.0,1.0,1.0,1.0,1.0,1.0,1.0,1.0,1.0,1.0,1.0,1.0,1.0,1.0,1.0,1.0,1.0,1.0,1.0,1.0,1.0,1.0,1.0,1.0,1.0,1.0,1.0,1.0,1.0,1.0,1.0,1.0,1.0,1.0,1.0,1.0,1.0,1.0,1.0,1.0,1.0,1.0,1.0,1.0,1.0,1.0,1.0,1.0,1.0,1.0,1.0,1.0,1.0,1.0,1.0,1.0,1.0,1.0,1.0,1.0,1.0,1.0],\"lat\":[-22.9092543,-22.918478794,-22.9141049,-22.9228947,-22.92132,-22.9233681,-22.8972823,-22.9127603,-22.9134051,-22.918478794,-22.917668476,-22.929059,-22.9235277,-22.9051311,-22.899447,-22.9149831,-22.9206767,-22.922045496,-22.9038993,-22.9124258,-22.9165345,-22.9205085,-22.9161731,-22.9137705,-22.915969845,-22.9143279,-22.910514,-22.9233815,-22.9127561,-22.9087706,-22.9142607,-22.916451445,-22.9159535,-22.918253981,-22.9151535,-22.9229093,-22.9110791,-22.906078604,-22.9131946,-22.9175277,-22.899447,-22.9206767,-22.9127316,-22.9159535,-22.9137452,-22.901763,-22.9038343,-22.909067,-22.9159535,-22.9237483,-22.9151638,-22.914329,-22.9038343,-22.9235277,-22.903838,-22.9130229,-22.9233815,-22.8979701,-22.916673996,-22.9123801,-22.910535,-22.929059,-22.9177448,-22.91348124,-22.917404,-22.9053528,-22.915089,-22.9121996,-22.9060297,-22.9197825,-22.915017],\"legendgroup\":\"3\",\"lon\":[-43.1933687,-43.226741664,-43.1818682,-43.217133,-43.1972954,-43.2352878,-43.1938993,-43.1875035,-43.2199913,-43.226741664,-43.187223338,-43.230951,-43.2285539,-43.2018175,-43.179484,-43.1897928,-43.2184957,-43.207315095,-43.1753666,-43.1929095,-43.188495,-43.1944933,-43.1922497,-43.2010822,-43.223968906,-43.1828728,-43.1888352,-43.2319409,-43.1907552,-43.1940492,-43.183318,-43.192579038,-43.1899669,-43.188875914,-43.1853794,-43.2204994,-43.1889469,-43.176818378,-43.182479,-43.1978375,-43.179484,-43.2184957,-43.2263514,-43.1899669,-43.1827953,-43.17937,-43.1825421,-43.1782946,-43.1899669,-43.2338438,-43.1879354,-43.182382,-43.1825421,-43.2285539,-43.2215012,-43.1842979,-43.2319409,-43.1895772,-43.187801837,-43.1928479,-43.1889378,-43.230951,-43.1869991,-43.186388165,-43.213528,-43.1755908,-43.1869082,-43.2019907,-43.1793347,-43.195807,-43.19315],\"marker\":{\"color\":\"#636efa\"},\"mode\":\"markers\",\"name\":\"3\",\"showlegend\":true,\"subplot\":\"mapbox\",\"type\":\"scattermapbox\"},{\"customdata\":[[0],[0],[0],[0],[0],[0],[0],[0],[0],[0],[0],[0],[0],[0],[0],[0],[0],[0],[0],[0],[0],[0],[0],[0],[0],[0],[0],[0],[0],[0],[0],[0],[0],[0],[0],[0],[0],[0],[0],[0],[0],[0],[0],[0],[0],[0],[0],[0],[0],[0],[0],[0],[0],[0],[0],[0],[0],[0],[0],[0],[0],[0],[0],[0],[0],[0],[0],[0],[0],[0],[0],[0],[0],[0],[0],[0],[0],[0],[0],[0],[0],[0],[0],[0],[0],[0],[0],[0],[0],[0],[0],[0],[0],[0],[0],[0],[0],[0],[0],[0],[0],[0],[0]],\"hovertemplate\":\"<b>%{hovertext}</b><br><br>OriginStore=%{customdata[0]}<br>lat=%{lat}<br>log=%{lon}<extra></extra>\",\"hovertext\":[1.0,1.0,1.0,1.0,1.0,1.0,1.0,1.0,1.0,1.0,1.0,1.0,1.0,1.0,1.0,1.0,1.0,1.0,1.0,1.0,1.0,1.0,1.0,1.0,1.0,1.0,1.0,1.0,1.0,1.0,1.0,1.0,1.0,1.0,1.0,1.0,1.0,1.0,1.0,1.0,1.0,1.0,1.0,1.0,1.0,1.0,1.0,1.0,1.0,1.0,1.0,1.0,1.0,1.0,1.0,1.0,1.0,1.0,1.0,1.0,1.0,1.0,1.0,1.0,1.0,1.0,1.0,1.0,1.0,1.0,1.0,1.0,1.0,1.0,1.0,1.0,1.0,1.0,1.0,1.0,1.0,1.0,1.0,1.0,1.0,1.0,1.0,1.0,1.0,1.0,1.0,1.0,1.0,1.0,1.0,1.0,1.0,1.0,1.0,1.0,1.0,1.0,1.0],\"lat\":[-22.9833392,-22.9655078,-22.9655078,-22.967306649,-22.9551972,-22.9664865,-22.9631047,-22.9615202,-22.957527,-22.981321121,-22.9693814,-22.96651,-22.972477551,-22.963893,-22.9742002,-22.965971,-22.9824576,-22.9658064,-22.9699378,-22.9735475,-22.973934,-22.9771831,-22.96294,-22.9829054,-22.9626944,-22.9699378,-22.9776311,-22.9663197,-22.97636,-22.96287,-22.961934,-22.9713042,-22.9719383,-22.9619953,-22.9661591,-22.9566221,-22.968777,-22.9660258,-22.9631406,-22.967708,-22.9712177,-22.967708,-22.95390911,-22.9670567,-22.9824576,-22.9782191,-22.956050145,-22.977901,-22.9776311,-22.9638579,-22.9707112,-22.9670501,-22.9525849,-22.967306649,-22.9829356,-22.9650412,-22.9769225,-22.982029253,-22.9624117,-22.967088,-22.9658477,-22.9668051,-22.975845,-22.967708,-22.975349536,-22.9576007,-22.962249773,-22.981563,-22.959051,-22.95871543,-22.9563248,-22.9646,-22.9617328,-22.9636205,-22.9804019,-22.9742002,-22.967708,-22.9721093,-22.9647053,-22.965088327,-22.9514222,-22.9560208,-22.9625667,-22.972477551,-22.9663959,-22.9753567,-22.9732827,-22.970459644,-22.9758008,-22.955745,-22.9695922,-22.9775568,-22.9611163,-22.9611957,-22.96001,-22.9842366,-22.9742002,-22.983717,-22.967725,-22.9558897,-22.964138,-22.9768298,-22.96723],\"legendgroup\":\"0\",\"lon\":[-43.1924288,-43.1834373,-43.1834373,-43.181469664,-43.1957516,-43.1796729,-43.1777493,-43.1732085,-43.195622,-43.192978017,-43.1849099,-43.179512,-43.190373592,-43.172581,-43.1913244,-43.1893559,-43.1902656,-43.1782853,-43.1850143,-43.1889193,-43.1912479,-43.1917208,-43.1749716,-43.1901476,-43.1732385,-43.1850143,-43.1913082,-43.1812088,-43.19211,-43.174211,-43.169407,-43.1858834,-43.1877935,-43.1742337,-43.1854375,-43.1981471,-43.185629,-43.1781366,-43.1756598,-43.1840686,-43.1857302,-43.1840686,-43.192608207,-43.1881731,-43.1902656,-43.1905355,-43.193292323,-43.19112,-43.1913082,-43.173244,-43.1864433,-43.1864638,-43.1937824,-43.181469664,-43.1919106,-43.1771,-43.1889314,-43.190908203,-43.178673,-43.1819555,-43.1921283,-43.1802215,-43.1881512,-43.1840686,-43.192021139,-43.1977513,-43.168598749,-43.193777,-43.195659,-43.20043182,-43.1886164,-43.194684,-43.1734942,-43.1756861,-43.1907763,-43.1913244,-43.1840686,-43.18683,-43.1904308,-43.183044791,-43.191835,-43.1815362,-43.1697504,-43.190373592,-43.1869641,-43.1920137,-43.1899523,-43.188243532,-43.1879943,-43.188543,-43.1844154,-43.1919479,-43.1904643,-43.168849,-43.201367,-43.1912751,-43.1913244,-43.190876,-43.182937,-43.1791742,-43.176238,-43.1968611,-43.186641],\"marker\":{\"color\":\"#EF553B\"},\"mode\":\"markers\",\"name\":\"0\",\"showlegend\":true,\"subplot\":\"mapbox\",\"type\":\"scattermapbox\"},{\"customdata\":[[1],[1],[1],[1],[1],[1],[1],[1],[1],[1],[1],[1],[1],[1],[1],[1],[1],[1],[1],[1],[1],[1],[1],[1],[1],[1],[1],[1],[1],[1],[1],[1],[1],[1],[1],[1],[1],[1],[1],[1],[1],[1],[1],[1],[1],[1],[1],[1],[1],[1],[1],[1],[1],[1],[1],[1],[1],[1],[1],[1],[1],[1],[1],[1],[1],[1],[1],[1],[1],[1],[1],[1],[1],[1],[1],[1],[1],[1],[1],[1],[1],[1],[1],[1],[1]],\"hovertemplate\":\"<b>%{hovertext}</b><br><br>OriginStore=%{customdata[0]}<br>lat=%{lat}<br>log=%{lon}<extra></extra>\",\"hovertext\":[1.0,1.0,1.0,1.0,1.0,1.0,1.0,1.0,1.0,1.0,1.0,1.0,1.0,1.0,1.0,1.0,1.0,1.0,1.0,1.0,1.0,1.0,1.0,1.0,1.0,1.0,1.0,1.0,1.0,1.0,1.0,1.0,1.0,1.0,1.0,1.0,1.0,1.0,1.0,1.0,1.0,1.0,1.0,1.0,1.0,1.0,1.0,1.0,1.0,1.0,1.0,1.0,1.0,1.0,1.0,1.0,1.0,1.0,1.0,1.0,1.0,1.0,1.0,1.0,1.0,1.0,1.0,1.0,1.0,1.0,1.0,1.0,1.0,1.0,1.0,1.0,1.0,1.0,1.0,1.0,1.0,1.0,1.0,1.0,1.0],\"lat\":[-22.9372578,-22.927687,-22.94961,-22.9459443,-22.943111917,-22.9497507,-22.9325937,-22.9357879,-22.9331841,-22.939325529,-22.9518995,-22.9078531,-22.940952,-22.929887894,-22.93471,-22.9368648,-22.9087534,-22.9222022,-22.9492478,-22.9330015,-22.9519613,-22.9454948,-22.925105,-22.9362795,-22.9187686,-22.9347413,-22.9296998,-22.9381998,-22.9357067,-22.9496785,-22.9492054,-22.93711,-22.9413975,-22.923973091,-22.9491521,-22.9212095,-22.933149,-22.937849,-22.9207017,-22.9338014,-22.9405399,-22.925837,-22.9381985,-22.9276912,-22.9191804,-22.9551508,-22.939431,-22.939284155,-22.932345479,-22.9388604,-22.927063732,-22.9555772,-22.9200907,-22.9329308,-22.9271844,-22.9395078,-22.9495771,-22.927765,-22.9371419,-22.945579974,-22.9352595,-22.927765,-22.924608522,-22.9126702,-22.9078531,-22.936299,-22.9271259,-22.9399192,-22.9418552,-22.9327809,-22.939417849,-22.943142081,-22.933031608,-22.9405399,-22.928734,-22.9508333,-22.9418397,-22.9500281,-22.9168016,-22.9368427,-22.928113,-22.945116,-22.9197689,-22.9414397,-22.9508034],\"legendgroup\":\"1\",\"lon\":[-43.1759213,-43.1755515,-43.186837,-43.1857367,-43.192209464,-43.1857261,-43.1784209,-43.184944,-43.1820375,-43.173715062,-43.1760391,-43.1733363,-43.1809363,-43.17581255,-43.184053,-43.1785919,-43.1710646,-43.1797866,-43.1879021,-43.1754351,-43.1863013,-43.1821807,-43.182863,-43.1756438,-43.1810054,-43.1773524,-43.1758498,-43.1922065,-43.1863523,-43.1854424,-43.1853888,-43.177533,-43.1817262,-43.178560557,-43.1859531,-43.1842405,-43.1753938,-43.175092,-43.1855204,-43.1776217,-43.196612,-43.179154,-43.1831445,-43.1761534,-43.184855,-43.177736,-43.17669,-43.175876252,-43.181205131,-43.1731924,-43.175443746,-43.1751763,-43.1802424,-43.1810727,-43.1792506,-43.1766484,-43.1826996,-43.1741486,-43.1890551,-43.185884915,-43.179183,-43.1741486,-43.178533986,-43.1772664,-43.1733363,-43.185245,-43.1738086,-43.1909785,-43.1806948,-43.1845294,-43.177002445,-43.19129996,-43.175311915,-43.196612,-43.17952,-43.1875581,-43.1766621,-43.1882229,-43.1769108,-43.1897249,-43.177066,-43.161907,-43.1798366,-43.1766991,-43.1872411],\"marker\":{\"color\":\"#00cc96\"},\"mode\":\"markers\",\"name\":\"1\",\"showlegend\":true,\"subplot\":\"mapbox\",\"type\":\"scattermapbox\"},{\"customdata\":[[2],[2],[2],[2],[2],[2],[2],[2],[2],[2],[2],[2],[2],[2],[2],[2],[2],[2],[2],[2],[2],[2],[2],[2],[2],[2],[2],[2],[2],[2],[2],[2],[2],[2],[2],[2],[2],[2],[2],[2],[2]],\"hovertemplate\":\"<b>%{hovertext}</b><br><br>OriginStore=%{customdata[0]}<br>lat=%{lat}<br>log=%{lon}<extra></extra>\",\"hovertext\":[1.0,1.0,1.0,1.0,1.0,1.0,1.0,1.0,1.0,1.0,1.0,1.0,1.0,1.0,1.0,1.0,1.0,1.0,1.0,1.0,1.0,1.0,1.0,1.0,1.0,1.0,1.0,1.0,1.0,1.0,1.0,1.0,1.0,1.0,1.0,1.0,1.0,1.0,1.0,1.0,1.0],\"lat\":[-22.982423,-22.984422802,-22.986540253,-22.9838549,-22.98198,-22.98514,-22.9751613,-22.972556,-22.9599203,-22.9750111,-22.984683,-22.976678704,-22.9835241,-22.9824343,-22.979927487,-22.9818007,-22.9871951,-22.9868424,-22.9822186,-22.9733542,-22.965861,-22.9871,-22.9821567,-22.986619,-22.982534,-22.980438,-22.9619214,-22.9835899,-22.9875393,-22.9835241,-22.980438,-22.9834973,-22.9774213,-22.981946,-22.98514,-22.98212,-22.981972404,-22.961178475,-22.980856,-22.9862818,-22.9866994],\"legendgroup\":\"2\",\"lon\":[-43.205675,-43.23096732,-43.193844706,-43.2026713,-43.2057081,-43.2031333,-43.2284452,-43.203896,-43.2059602,-43.2285375,-43.199964,-43.22909195,-43.2137085,-43.2110767,-43.219742775,-43.2004932,-43.1929254,-43.1939614,-43.1962231,-43.2055845,-43.217188,-43.194561,-43.2256597,-43.197856,-43.209235,-43.202618,-43.2072534,-43.1961882,-43.2291559,-43.2137085,-43.202618,-43.211079,-43.2250809,-43.1955673,-43.2031333,-43.203148,-43.199055567,-43.215640254,-43.2206,-43.1930623,-43.1940511],\"marker\":{\"color\":\"#ab63fa\"},\"mode\":\"markers\",\"name\":\"2\",\"showlegend\":true,\"subplot\":\"mapbox\",\"type\":\"scattermapbox\"}],                        {\"template\":{\"data\":{\"bar\":[{\"error_x\":{\"color\":\"#2a3f5f\"},\"error_y\":{\"color\":\"#2a3f5f\"},\"marker\":{\"line\":{\"color\":\"#E5ECF6\",\"width\":0.5},\"pattern\":{\"fillmode\":\"overlay\",\"size\":10,\"solidity\":0.2}},\"type\":\"bar\"}],\"barpolar\":[{\"marker\":{\"line\":{\"color\":\"#E5ECF6\",\"width\":0.5},\"pattern\":{\"fillmode\":\"overlay\",\"size\":10,\"solidity\":0.2}},\"type\":\"barpolar\"}],\"carpet\":[{\"aaxis\":{\"endlinecolor\":\"#2a3f5f\",\"gridcolor\":\"white\",\"linecolor\":\"white\",\"minorgridcolor\":\"white\",\"startlinecolor\":\"#2a3f5f\"},\"baxis\":{\"endlinecolor\":\"#2a3f5f\",\"gridcolor\":\"white\",\"linecolor\":\"white\",\"minorgridcolor\":\"white\",\"startlinecolor\":\"#2a3f5f\"},\"type\":\"carpet\"}],\"choropleth\":[{\"colorbar\":{\"outlinewidth\":0,\"ticks\":\"\"},\"type\":\"choropleth\"}],\"contour\":[{\"colorbar\":{\"outlinewidth\":0,\"ticks\":\"\"},\"colorscale\":[[0.0,\"#0d0887\"],[0.1111111111111111,\"#46039f\"],[0.2222222222222222,\"#7201a8\"],[0.3333333333333333,\"#9c179e\"],[0.4444444444444444,\"#bd3786\"],[0.5555555555555556,\"#d8576b\"],[0.6666666666666666,\"#ed7953\"],[0.7777777777777778,\"#fb9f3a\"],[0.8888888888888888,\"#fdca26\"],[1.0,\"#f0f921\"]],\"type\":\"contour\"}],\"contourcarpet\":[{\"colorbar\":{\"outlinewidth\":0,\"ticks\":\"\"},\"type\":\"contourcarpet\"}],\"heatmap\":[{\"colorbar\":{\"outlinewidth\":0,\"ticks\":\"\"},\"colorscale\":[[0.0,\"#0d0887\"],[0.1111111111111111,\"#46039f\"],[0.2222222222222222,\"#7201a8\"],[0.3333333333333333,\"#9c179e\"],[0.4444444444444444,\"#bd3786\"],[0.5555555555555556,\"#d8576b\"],[0.6666666666666666,\"#ed7953\"],[0.7777777777777778,\"#fb9f3a\"],[0.8888888888888888,\"#fdca26\"],[1.0,\"#f0f921\"]],\"type\":\"heatmap\"}],\"heatmapgl\":[{\"colorbar\":{\"outlinewidth\":0,\"ticks\":\"\"},\"colorscale\":[[0.0,\"#0d0887\"],[0.1111111111111111,\"#46039f\"],[0.2222222222222222,\"#7201a8\"],[0.3333333333333333,\"#9c179e\"],[0.4444444444444444,\"#bd3786\"],[0.5555555555555556,\"#d8576b\"],[0.6666666666666666,\"#ed7953\"],[0.7777777777777778,\"#fb9f3a\"],[0.8888888888888888,\"#fdca26\"],[1.0,\"#f0f921\"]],\"type\":\"heatmapgl\"}],\"histogram\":[{\"marker\":{\"pattern\":{\"fillmode\":\"overlay\",\"size\":10,\"solidity\":0.2}},\"type\":\"histogram\"}],\"histogram2d\":[{\"colorbar\":{\"outlinewidth\":0,\"ticks\":\"\"},\"colorscale\":[[0.0,\"#0d0887\"],[0.1111111111111111,\"#46039f\"],[0.2222222222222222,\"#7201a8\"],[0.3333333333333333,\"#9c179e\"],[0.4444444444444444,\"#bd3786\"],[0.5555555555555556,\"#d8576b\"],[0.6666666666666666,\"#ed7953\"],[0.7777777777777778,\"#fb9f3a\"],[0.8888888888888888,\"#fdca26\"],[1.0,\"#f0f921\"]],\"type\":\"histogram2d\"}],\"histogram2dcontour\":[{\"colorbar\":{\"outlinewidth\":0,\"ticks\":\"\"},\"colorscale\":[[0.0,\"#0d0887\"],[0.1111111111111111,\"#46039f\"],[0.2222222222222222,\"#7201a8\"],[0.3333333333333333,\"#9c179e\"],[0.4444444444444444,\"#bd3786\"],[0.5555555555555556,\"#d8576b\"],[0.6666666666666666,\"#ed7953\"],[0.7777777777777778,\"#fb9f3a\"],[0.8888888888888888,\"#fdca26\"],[1.0,\"#f0f921\"]],\"type\":\"histogram2dcontour\"}],\"mesh3d\":[{\"colorbar\":{\"outlinewidth\":0,\"ticks\":\"\"},\"type\":\"mesh3d\"}],\"parcoords\":[{\"line\":{\"colorbar\":{\"outlinewidth\":0,\"ticks\":\"\"}},\"type\":\"parcoords\"}],\"pie\":[{\"automargin\":true,\"type\":\"pie\"}],\"scatter\":[{\"marker\":{\"colorbar\":{\"outlinewidth\":0,\"ticks\":\"\"}},\"type\":\"scatter\"}],\"scatter3d\":[{\"line\":{\"colorbar\":{\"outlinewidth\":0,\"ticks\":\"\"}},\"marker\":{\"colorbar\":{\"outlinewidth\":0,\"ticks\":\"\"}},\"type\":\"scatter3d\"}],\"scattercarpet\":[{\"marker\":{\"colorbar\":{\"outlinewidth\":0,\"ticks\":\"\"}},\"type\":\"scattercarpet\"}],\"scattergeo\":[{\"marker\":{\"colorbar\":{\"outlinewidth\":0,\"ticks\":\"\"}},\"type\":\"scattergeo\"}],\"scattergl\":[{\"marker\":{\"colorbar\":{\"outlinewidth\":0,\"ticks\":\"\"}},\"type\":\"scattergl\"}],\"scattermapbox\":[{\"marker\":{\"colorbar\":{\"outlinewidth\":0,\"ticks\":\"\"}},\"type\":\"scattermapbox\"}],\"scatterpolar\":[{\"marker\":{\"colorbar\":{\"outlinewidth\":0,\"ticks\":\"\"}},\"type\":\"scatterpolar\"}],\"scatterpolargl\":[{\"marker\":{\"colorbar\":{\"outlinewidth\":0,\"ticks\":\"\"}},\"type\":\"scatterpolargl\"}],\"scatterternary\":[{\"marker\":{\"colorbar\":{\"outlinewidth\":0,\"ticks\":\"\"}},\"type\":\"scatterternary\"}],\"surface\":[{\"colorbar\":{\"outlinewidth\":0,\"ticks\":\"\"},\"colorscale\":[[0.0,\"#0d0887\"],[0.1111111111111111,\"#46039f\"],[0.2222222222222222,\"#7201a8\"],[0.3333333333333333,\"#9c179e\"],[0.4444444444444444,\"#bd3786\"],[0.5555555555555556,\"#d8576b\"],[0.6666666666666666,\"#ed7953\"],[0.7777777777777778,\"#fb9f3a\"],[0.8888888888888888,\"#fdca26\"],[1.0,\"#f0f921\"]],\"type\":\"surface\"}],\"table\":[{\"cells\":{\"fill\":{\"color\":\"#EBF0F8\"},\"line\":{\"color\":\"white\"}},\"header\":{\"fill\":{\"color\":\"#C8D4E3\"},\"line\":{\"color\":\"white\"}},\"type\":\"table\"}]},\"layout\":{\"annotationdefaults\":{\"arrowcolor\":\"#2a3f5f\",\"arrowhead\":0,\"arrowwidth\":1},\"autotypenumbers\":\"strict\",\"coloraxis\":{\"colorbar\":{\"outlinewidth\":0,\"ticks\":\"\"}},\"colorscale\":{\"diverging\":[[0,\"#8e0152\"],[0.1,\"#c51b7d\"],[0.2,\"#de77ae\"],[0.3,\"#f1b6da\"],[0.4,\"#fde0ef\"],[0.5,\"#f7f7f7\"],[0.6,\"#e6f5d0\"],[0.7,\"#b8e186\"],[0.8,\"#7fbc41\"],[0.9,\"#4d9221\"],[1,\"#276419\"]],\"sequential\":[[0.0,\"#0d0887\"],[0.1111111111111111,\"#46039f\"],[0.2222222222222222,\"#7201a8\"],[0.3333333333333333,\"#9c179e\"],[0.4444444444444444,\"#bd3786\"],[0.5555555555555556,\"#d8576b\"],[0.6666666666666666,\"#ed7953\"],[0.7777777777777778,\"#fb9f3a\"],[0.8888888888888888,\"#fdca26\"],[1.0,\"#f0f921\"]],\"sequentialminus\":[[0.0,\"#0d0887\"],[0.1111111111111111,\"#46039f\"],[0.2222222222222222,\"#7201a8\"],[0.3333333333333333,\"#9c179e\"],[0.4444444444444444,\"#bd3786\"],[0.5555555555555556,\"#d8576b\"],[0.6666666666666666,\"#ed7953\"],[0.7777777777777778,\"#fb9f3a\"],[0.8888888888888888,\"#fdca26\"],[1.0,\"#f0f921\"]]},\"colorway\":[\"#636efa\",\"#EF553B\",\"#00cc96\",\"#ab63fa\",\"#FFA15A\",\"#19d3f3\",\"#FF6692\",\"#B6E880\",\"#FF97FF\",\"#FECB52\"],\"font\":{\"color\":\"#2a3f5f\"},\"geo\":{\"bgcolor\":\"white\",\"lakecolor\":\"white\",\"landcolor\":\"#E5ECF6\",\"showlakes\":true,\"showland\":true,\"subunitcolor\":\"white\"},\"hoverlabel\":{\"align\":\"left\"},\"hovermode\":\"closest\",\"mapbox\":{\"style\":\"light\"},\"paper_bgcolor\":\"white\",\"plot_bgcolor\":\"#E5ECF6\",\"polar\":{\"angularaxis\":{\"gridcolor\":\"white\",\"linecolor\":\"white\",\"ticks\":\"\"},\"bgcolor\":\"#E5ECF6\",\"radialaxis\":{\"gridcolor\":\"white\",\"linecolor\":\"white\",\"ticks\":\"\"}},\"scene\":{\"xaxis\":{\"backgroundcolor\":\"#E5ECF6\",\"gridcolor\":\"white\",\"gridwidth\":2,\"linecolor\":\"white\",\"showbackground\":true,\"ticks\":\"\",\"zerolinecolor\":\"white\"},\"yaxis\":{\"backgroundcolor\":\"#E5ECF6\",\"gridcolor\":\"white\",\"gridwidth\":2,\"linecolor\":\"white\",\"showbackground\":true,\"ticks\":\"\",\"zerolinecolor\":\"white\"},\"zaxis\":{\"backgroundcolor\":\"#E5ECF6\",\"gridcolor\":\"white\",\"gridwidth\":2,\"linecolor\":\"white\",\"showbackground\":true,\"ticks\":\"\",\"zerolinecolor\":\"white\"}},\"shapedefaults\":{\"line\":{\"color\":\"#2a3f5f\"}},\"ternary\":{\"aaxis\":{\"gridcolor\":\"white\",\"linecolor\":\"white\",\"ticks\":\"\"},\"baxis\":{\"gridcolor\":\"white\",\"linecolor\":\"white\",\"ticks\":\"\"},\"bgcolor\":\"#E5ECF6\",\"caxis\":{\"gridcolor\":\"white\",\"linecolor\":\"white\",\"ticks\":\"\"}},\"title\":{\"x\":0.05},\"xaxis\":{\"automargin\":true,\"gridcolor\":\"white\",\"linecolor\":\"white\",\"ticks\":\"\",\"title\":{\"standoff\":15},\"zerolinecolor\":\"white\",\"zerolinewidth\":2},\"yaxis\":{\"automargin\":true,\"gridcolor\":\"white\",\"linecolor\":\"white\",\"ticks\":\"\",\"title\":{\"standoff\":15},\"zerolinecolor\":\"white\",\"zerolinewidth\":2}}},\"mapbox\":{\"domain\":{\"x\":[0.0,1.0],\"y\":[0.0,1.0]},\"center\":{\"lat\":-22.947763383220003,\"lon\":-43.19043450015667},\"zoom\":3,\"style\":\"open-street-map\"},\"legend\":{\"title\":{\"text\":\"OriginStore\"},\"tracegroupgap\":0},\"margin\":{\"t\":0,\"r\":0,\"l\":0,\"b\":0},\"height\":300},                        {\"responsive\": true}                    ).then(function(){\n",
              "                            \n",
              "var gd = document.getElementById('bccb2ca0-ae51-4c4c-9bb9-150e1c79c85b');\n",
              "var x = new MutationObserver(function (mutations, observer) {{\n",
              "        var display = window.getComputedStyle(gd).display;\n",
              "        if (!display || display === 'none') {{\n",
              "            console.log([gd, 'removed!']);\n",
              "            Plotly.purge(gd);\n",
              "            observer.disconnect();\n",
              "        }}\n",
              "}});\n",
              "\n",
              "// Listen for the removal of the full notebook cells\n",
              "var notebookContainer = gd.closest('#notebook-container');\n",
              "if (notebookContainer) {{\n",
              "    x.observe(notebookContainer, {childList: true});\n",
              "}}\n",
              "\n",
              "// Listen for the clearing of the current output cell\n",
              "var outputEl = gd.closest('.output');\n",
              "if (outputEl) {{\n",
              "    x.observe(outputEl, {childList: true});\n",
              "}}\n",
              "\n",
              "                        })                };                            </script>        </div>\n",
              "</body>\n",
              "</html>"
            ]
          },
          "metadata": {}
        }
      ],
      "source": [
        "figubi = px.scatter_mapbox(dffull, lat=\"lat\", lon=\"log\", hover_name=\"name\", hover_data=[\"OriginStore\"], \n",
        "                         zoom=3, height=300, color = 'OriginStore')\n",
        "figubi.update_layout(mapbox_style=\"open-street-map\")\n",
        "figubi.update_layout(margin={\"r\":0,\"t\":0,\"l\":0,\"b\":0})\n",
        "figubi.show()"
      ]
    },
    {
      "cell_type": "code",
      "execution_count": 31,
      "metadata": {
        "colab": {
          "base_uri": "https://localhost:8080/",
          "height": 455
        },
        "id": "70TsG5JeHVB7",
        "outputId": "97a1c72c-80cd-49af-d1ba-10c8e2e99fcd"
      },
      "outputs": [
        {
          "output_type": "execute_result",
          "data": {
            "text/plain": [
              "      OriginStore day client  count\n",
              "index                              \n",
              "0               3   6      0      1\n",
              "1               3   6      1      1\n",
              "2               3   4      2      1\n",
              "3               0  14      3      1\n",
              "4               0  27      4      1\n",
              "...           ...  ..    ...    ...\n",
              "295             1   4    295      1\n",
              "296             1  30    296      1\n",
              "297             1  24    297      1\n",
              "298             1  25    298      1\n",
              "299             1  17    299      1\n",
              "\n",
              "[300 rows x 4 columns]"
            ],
            "text/html": [
              "\n",
              "  <div id=\"df-cd691296-63ef-4ca3-95a8-a81799802241\">\n",
              "    <div class=\"colab-df-container\">\n",
              "      <div>\n",
              "<style scoped>\n",
              "    .dataframe tbody tr th:only-of-type {\n",
              "        vertical-align: middle;\n",
              "    }\n",
              "\n",
              "    .dataframe tbody tr th {\n",
              "        vertical-align: top;\n",
              "    }\n",
              "\n",
              "    .dataframe thead th {\n",
              "        text-align: right;\n",
              "    }\n",
              "</style>\n",
              "<table border=\"1\" class=\"dataframe\">\n",
              "  <thead>\n",
              "    <tr style=\"text-align: right;\">\n",
              "      <th></th>\n",
              "      <th>OriginStore</th>\n",
              "      <th>day</th>\n",
              "      <th>client</th>\n",
              "      <th>count</th>\n",
              "    </tr>\n",
              "    <tr>\n",
              "      <th>index</th>\n",
              "      <th></th>\n",
              "      <th></th>\n",
              "      <th></th>\n",
              "      <th></th>\n",
              "    </tr>\n",
              "  </thead>\n",
              "  <tbody>\n",
              "    <tr>\n",
              "      <th>0</th>\n",
              "      <td>3</td>\n",
              "      <td>6</td>\n",
              "      <td>0</td>\n",
              "      <td>1</td>\n",
              "    </tr>\n",
              "    <tr>\n",
              "      <th>1</th>\n",
              "      <td>3</td>\n",
              "      <td>6</td>\n",
              "      <td>1</td>\n",
              "      <td>1</td>\n",
              "    </tr>\n",
              "    <tr>\n",
              "      <th>2</th>\n",
              "      <td>3</td>\n",
              "      <td>4</td>\n",
              "      <td>2</td>\n",
              "      <td>1</td>\n",
              "    </tr>\n",
              "    <tr>\n",
              "      <th>3</th>\n",
              "      <td>0</td>\n",
              "      <td>14</td>\n",
              "      <td>3</td>\n",
              "      <td>1</td>\n",
              "    </tr>\n",
              "    <tr>\n",
              "      <th>4</th>\n",
              "      <td>0</td>\n",
              "      <td>27</td>\n",
              "      <td>4</td>\n",
              "      <td>1</td>\n",
              "    </tr>\n",
              "    <tr>\n",
              "      <th>...</th>\n",
              "      <td>...</td>\n",
              "      <td>...</td>\n",
              "      <td>...</td>\n",
              "      <td>...</td>\n",
              "    </tr>\n",
              "    <tr>\n",
              "      <th>295</th>\n",
              "      <td>1</td>\n",
              "      <td>4</td>\n",
              "      <td>295</td>\n",
              "      <td>1</td>\n",
              "    </tr>\n",
              "    <tr>\n",
              "      <th>296</th>\n",
              "      <td>1</td>\n",
              "      <td>30</td>\n",
              "      <td>296</td>\n",
              "      <td>1</td>\n",
              "    </tr>\n",
              "    <tr>\n",
              "      <th>297</th>\n",
              "      <td>1</td>\n",
              "      <td>24</td>\n",
              "      <td>297</td>\n",
              "      <td>1</td>\n",
              "    </tr>\n",
              "    <tr>\n",
              "      <th>298</th>\n",
              "      <td>1</td>\n",
              "      <td>25</td>\n",
              "      <td>298</td>\n",
              "      <td>1</td>\n",
              "    </tr>\n",
              "    <tr>\n",
              "      <th>299</th>\n",
              "      <td>1</td>\n",
              "      <td>17</td>\n",
              "      <td>299</td>\n",
              "      <td>1</td>\n",
              "    </tr>\n",
              "  </tbody>\n",
              "</table>\n",
              "<p>300 rows × 4 columns</p>\n",
              "</div>\n",
              "      <button class=\"colab-df-convert\" onclick=\"convertToInteractive('df-cd691296-63ef-4ca3-95a8-a81799802241')\"\n",
              "              title=\"Convert this dataframe to an interactive table.\"\n",
              "              style=\"display:none;\">\n",
              "        \n",
              "  <svg xmlns=\"http://www.w3.org/2000/svg\" height=\"24px\"viewBox=\"0 0 24 24\"\n",
              "       width=\"24px\">\n",
              "    <path d=\"M0 0h24v24H0V0z\" fill=\"none\"/>\n",
              "    <path d=\"M18.56 5.44l.94 2.06.94-2.06 2.06-.94-2.06-.94-.94-2.06-.94 2.06-2.06.94zm-11 1L8.5 8.5l.94-2.06 2.06-.94-2.06-.94L8.5 2.5l-.94 2.06-2.06.94zm10 10l.94 2.06.94-2.06 2.06-.94-2.06-.94-.94-2.06-.94 2.06-2.06.94z\"/><path d=\"M17.41 7.96l-1.37-1.37c-.4-.4-.92-.59-1.43-.59-.52 0-1.04.2-1.43.59L10.3 9.45l-7.72 7.72c-.78.78-.78 2.05 0 2.83L4 21.41c.39.39.9.59 1.41.59.51 0 1.02-.2 1.41-.59l7.78-7.78 2.81-2.81c.8-.78.8-2.07 0-2.86zM5.41 20L4 18.59l7.72-7.72 1.47 1.35L5.41 20z\"/>\n",
              "  </svg>\n",
              "      </button>\n",
              "      \n",
              "  <style>\n",
              "    .colab-df-container {\n",
              "      display:flex;\n",
              "      flex-wrap:wrap;\n",
              "      gap: 12px;\n",
              "    }\n",
              "\n",
              "    .colab-df-convert {\n",
              "      background-color: #E8F0FE;\n",
              "      border: none;\n",
              "      border-radius: 50%;\n",
              "      cursor: pointer;\n",
              "      display: none;\n",
              "      fill: #1967D2;\n",
              "      height: 32px;\n",
              "      padding: 0 0 0 0;\n",
              "      width: 32px;\n",
              "    }\n",
              "\n",
              "    .colab-df-convert:hover {\n",
              "      background-color: #E2EBFA;\n",
              "      box-shadow: 0px 1px 2px rgba(60, 64, 67, 0.3), 0px 1px 3px 1px rgba(60, 64, 67, 0.15);\n",
              "      fill: #174EA6;\n",
              "    }\n",
              "\n",
              "    [theme=dark] .colab-df-convert {\n",
              "      background-color: #3B4455;\n",
              "      fill: #D2E3FC;\n",
              "    }\n",
              "\n",
              "    [theme=dark] .colab-df-convert:hover {\n",
              "      background-color: #434B5C;\n",
              "      box-shadow: 0px 1px 3px 1px rgba(0, 0, 0, 0.15);\n",
              "      filter: drop-shadow(0px 1px 2px rgba(0, 0, 0, 0.3));\n",
              "      fill: #FFFFFF;\n",
              "    }\n",
              "  </style>\n",
              "\n",
              "      <script>\n",
              "        const buttonEl =\n",
              "          document.querySelector('#df-cd691296-63ef-4ca3-95a8-a81799802241 button.colab-df-convert');\n",
              "        buttonEl.style.display =\n",
              "          google.colab.kernel.accessAllowed ? 'block' : 'none';\n",
              "\n",
              "        async function convertToInteractive(key) {\n",
              "          const element = document.querySelector('#df-cd691296-63ef-4ca3-95a8-a81799802241');\n",
              "          const dataTable =\n",
              "            await google.colab.kernel.invokeFunction('convertToInteractive',\n",
              "                                                     [key], {});\n",
              "          if (!dataTable) return;\n",
              "\n",
              "          const docLinkHtml = 'Like what you see? Visit the ' +\n",
              "            '<a target=\"_blank\" href=https://colab.research.google.com/notebooks/data_table.ipynb>data table notebook</a>'\n",
              "            + ' to learn more about interactive tables.';\n",
              "          element.innerHTML = '';\n",
              "          dataTable['output_type'] = 'display_data';\n",
              "          await google.colab.output.renderOutput(dataTable, element);\n",
              "          const docLink = document.createElement('div');\n",
              "          docLink.innerHTML = docLinkHtml;\n",
              "          element.appendChild(docLink);\n",
              "        }\n",
              "      </script>\n",
              "    </div>\n",
              "  </div>\n",
              "  "
            ]
          },
          "metadata": {},
          "execution_count": 31
        }
      ],
      "source": [
        "df = df.sort_values('client')\n",
        "df['index']= df['client']\n",
        "df.set_index('index',inplace = True)\n",
        "df"
      ]
    },
    {
      "cell_type": "code",
      "execution_count": 32,
      "metadata": {
        "id": "8YVMAV_PoT1a"
      },
      "outputs": [],
      "source": [
        "base = df[(df.OriginStore == 1)]"
      ]
    },
    {
      "cell_type": "code",
      "execution_count": 33,
      "metadata": {
        "colab": {
          "base_uri": "https://localhost:8080/"
        },
        "id": "k1Q1sRHxoT1a",
        "outputId": "4d4b1e09-7b87-46c1-961e-df2e5997b375"
      },
      "outputs": [
        {
          "output_type": "execute_result",
          "data": {
            "text/plain": [
              "array([ 6,  4, 14, 27, 29, 24,  1, 10, 12, 30, 22, 20, 15,  5, 19, 13, 21,\n",
              "        0, 25, 18, 11, 28,  3, 16,  8,  7, 17, 26,  2,  9, 23],\n",
              "      dtype=int32)"
            ]
          },
          "metadata": {},
          "execution_count": 33
        }
      ],
      "source": [
        "df.day.unique().astype('int32')"
      ]
    },
    {
      "cell_type": "markdown",
      "metadata": {
        "id": "zJgUVZJboT1a"
      },
      "source": [
        "## Método de los Vecinos Cercanos:"
      ]
    },
    {
      "cell_type": "code",
      "execution_count": 64,
      "metadata": {
        "colab": {
          "base_uri": "https://localhost:8080/",
          "height": 542
        },
        "id": "fFNbYxytoT1a",
        "outputId": "277aa228-c8e0-41f9-90c4-6f13eaa7c7c1"
      },
      "outputs": [
        {
          "output_type": "display_data",
          "data": {
            "text/html": [
              "<html>\n",
              "<head><meta charset=\"utf-8\" /></head>\n",
              "<body>\n",
              "    <div>            <script src=\"https://cdnjs.cloudflare.com/ajax/libs/mathjax/2.7.5/MathJax.js?config=TeX-AMS-MML_SVG\"></script><script type=\"text/javascript\">if (window.MathJax) {MathJax.Hub.Config({SVG: {font: \"STIX-Web\"}});}</script>                <script type=\"text/javascript\">window.PlotlyConfig = {MathJaxConfig: 'local'};</script>\n",
              "        <script src=\"https://cdn.plot.ly/plotly-2.8.3.min.js\"></script>                <div id=\"f0a9e23f-c5dc-4560-a052-e3d9ece69d2f\" class=\"plotly-graph-div\" style=\"height:525px; width:100%;\"></div>            <script type=\"text/javascript\">                                    window.PLOTLYENV=window.PLOTLYENV || {};                                    if (document.getElementById(\"f0a9e23f-c5dc-4560-a052-e3d9ece69d2f\")) {                    Plotly.newPlot(                        \"f0a9e23f-c5dc-4560-a052-e3d9ece69d2f\",                        [{\"lat\":[-22.910514,-22.9142607,-22.917404,-22.9060297,-22.9197825,-22.9123072],\"lon\":[-43.1888352,-43.183318,-43.213528,-43.1793347,-43.195807,-43.2019991],\"marker\":{\"size\":10},\"mode\":\"markers+lines\",\"type\":\"scattermapbox\"},{\"lat\":[-22.928113,-22.945116,-22.919769],\"lon\":[-43.177066,-43.161907,-43.179837],\"marker\":{\"size\":10},\"mode\":\"markers+lines\",\"type\":\"scattermapbox\"}],                        {\"template\":{\"data\":{\"bar\":[{\"error_x\":{\"color\":\"#2a3f5f\"},\"error_y\":{\"color\":\"#2a3f5f\"},\"marker\":{\"line\":{\"color\":\"#E5ECF6\",\"width\":0.5},\"pattern\":{\"fillmode\":\"overlay\",\"size\":10,\"solidity\":0.2}},\"type\":\"bar\"}],\"barpolar\":[{\"marker\":{\"line\":{\"color\":\"#E5ECF6\",\"width\":0.5},\"pattern\":{\"fillmode\":\"overlay\",\"size\":10,\"solidity\":0.2}},\"type\":\"barpolar\"}],\"carpet\":[{\"aaxis\":{\"endlinecolor\":\"#2a3f5f\",\"gridcolor\":\"white\",\"linecolor\":\"white\",\"minorgridcolor\":\"white\",\"startlinecolor\":\"#2a3f5f\"},\"baxis\":{\"endlinecolor\":\"#2a3f5f\",\"gridcolor\":\"white\",\"linecolor\":\"white\",\"minorgridcolor\":\"white\",\"startlinecolor\":\"#2a3f5f\"},\"type\":\"carpet\"}],\"choropleth\":[{\"colorbar\":{\"outlinewidth\":0,\"ticks\":\"\"},\"type\":\"choropleth\"}],\"contour\":[{\"colorbar\":{\"outlinewidth\":0,\"ticks\":\"\"},\"colorscale\":[[0.0,\"#0d0887\"],[0.1111111111111111,\"#46039f\"],[0.2222222222222222,\"#7201a8\"],[0.3333333333333333,\"#9c179e\"],[0.4444444444444444,\"#bd3786\"],[0.5555555555555556,\"#d8576b\"],[0.6666666666666666,\"#ed7953\"],[0.7777777777777778,\"#fb9f3a\"],[0.8888888888888888,\"#fdca26\"],[1.0,\"#f0f921\"]],\"type\":\"contour\"}],\"contourcarpet\":[{\"colorbar\":{\"outlinewidth\":0,\"ticks\":\"\"},\"type\":\"contourcarpet\"}],\"heatmap\":[{\"colorbar\":{\"outlinewidth\":0,\"ticks\":\"\"},\"colorscale\":[[0.0,\"#0d0887\"],[0.1111111111111111,\"#46039f\"],[0.2222222222222222,\"#7201a8\"],[0.3333333333333333,\"#9c179e\"],[0.4444444444444444,\"#bd3786\"],[0.5555555555555556,\"#d8576b\"],[0.6666666666666666,\"#ed7953\"],[0.7777777777777778,\"#fb9f3a\"],[0.8888888888888888,\"#fdca26\"],[1.0,\"#f0f921\"]],\"type\":\"heatmap\"}],\"heatmapgl\":[{\"colorbar\":{\"outlinewidth\":0,\"ticks\":\"\"},\"colorscale\":[[0.0,\"#0d0887\"],[0.1111111111111111,\"#46039f\"],[0.2222222222222222,\"#7201a8\"],[0.3333333333333333,\"#9c179e\"],[0.4444444444444444,\"#bd3786\"],[0.5555555555555556,\"#d8576b\"],[0.6666666666666666,\"#ed7953\"],[0.7777777777777778,\"#fb9f3a\"],[0.8888888888888888,\"#fdca26\"],[1.0,\"#f0f921\"]],\"type\":\"heatmapgl\"}],\"histogram\":[{\"marker\":{\"pattern\":{\"fillmode\":\"overlay\",\"size\":10,\"solidity\":0.2}},\"type\":\"histogram\"}],\"histogram2d\":[{\"colorbar\":{\"outlinewidth\":0,\"ticks\":\"\"},\"colorscale\":[[0.0,\"#0d0887\"],[0.1111111111111111,\"#46039f\"],[0.2222222222222222,\"#7201a8\"],[0.3333333333333333,\"#9c179e\"],[0.4444444444444444,\"#bd3786\"],[0.5555555555555556,\"#d8576b\"],[0.6666666666666666,\"#ed7953\"],[0.7777777777777778,\"#fb9f3a\"],[0.8888888888888888,\"#fdca26\"],[1.0,\"#f0f921\"]],\"type\":\"histogram2d\"}],\"histogram2dcontour\":[{\"colorbar\":{\"outlinewidth\":0,\"ticks\":\"\"},\"colorscale\":[[0.0,\"#0d0887\"],[0.1111111111111111,\"#46039f\"],[0.2222222222222222,\"#7201a8\"],[0.3333333333333333,\"#9c179e\"],[0.4444444444444444,\"#bd3786\"],[0.5555555555555556,\"#d8576b\"],[0.6666666666666666,\"#ed7953\"],[0.7777777777777778,\"#fb9f3a\"],[0.8888888888888888,\"#fdca26\"],[1.0,\"#f0f921\"]],\"type\":\"histogram2dcontour\"}],\"mesh3d\":[{\"colorbar\":{\"outlinewidth\":0,\"ticks\":\"\"},\"type\":\"mesh3d\"}],\"parcoords\":[{\"line\":{\"colorbar\":{\"outlinewidth\":0,\"ticks\":\"\"}},\"type\":\"parcoords\"}],\"pie\":[{\"automargin\":true,\"type\":\"pie\"}],\"scatter\":[{\"marker\":{\"colorbar\":{\"outlinewidth\":0,\"ticks\":\"\"}},\"type\":\"scatter\"}],\"scatter3d\":[{\"line\":{\"colorbar\":{\"outlinewidth\":0,\"ticks\":\"\"}},\"marker\":{\"colorbar\":{\"outlinewidth\":0,\"ticks\":\"\"}},\"type\":\"scatter3d\"}],\"scattercarpet\":[{\"marker\":{\"colorbar\":{\"outlinewidth\":0,\"ticks\":\"\"}},\"type\":\"scattercarpet\"}],\"scattergeo\":[{\"marker\":{\"colorbar\":{\"outlinewidth\":0,\"ticks\":\"\"}},\"type\":\"scattergeo\"}],\"scattergl\":[{\"marker\":{\"colorbar\":{\"outlinewidth\":0,\"ticks\":\"\"}},\"type\":\"scattergl\"}],\"scattermapbox\":[{\"marker\":{\"colorbar\":{\"outlinewidth\":0,\"ticks\":\"\"}},\"type\":\"scattermapbox\"}],\"scatterpolar\":[{\"marker\":{\"colorbar\":{\"outlinewidth\":0,\"ticks\":\"\"}},\"type\":\"scatterpolar\"}],\"scatterpolargl\":[{\"marker\":{\"colorbar\":{\"outlinewidth\":0,\"ticks\":\"\"}},\"type\":\"scatterpolargl\"}],\"scatterternary\":[{\"marker\":{\"colorbar\":{\"outlinewidth\":0,\"ticks\":\"\"}},\"type\":\"scatterternary\"}],\"surface\":[{\"colorbar\":{\"outlinewidth\":0,\"ticks\":\"\"},\"colorscale\":[[0.0,\"#0d0887\"],[0.1111111111111111,\"#46039f\"],[0.2222222222222222,\"#7201a8\"],[0.3333333333333333,\"#9c179e\"],[0.4444444444444444,\"#bd3786\"],[0.5555555555555556,\"#d8576b\"],[0.6666666666666666,\"#ed7953\"],[0.7777777777777778,\"#fb9f3a\"],[0.8888888888888888,\"#fdca26\"],[1.0,\"#f0f921\"]],\"type\":\"surface\"}],\"table\":[{\"cells\":{\"fill\":{\"color\":\"#EBF0F8\"},\"line\":{\"color\":\"white\"}},\"header\":{\"fill\":{\"color\":\"#C8D4E3\"},\"line\":{\"color\":\"white\"}},\"type\":\"table\"}]},\"layout\":{\"annotationdefaults\":{\"arrowcolor\":\"#2a3f5f\",\"arrowhead\":0,\"arrowwidth\":1},\"autotypenumbers\":\"strict\",\"coloraxis\":{\"colorbar\":{\"outlinewidth\":0,\"ticks\":\"\"}},\"colorscale\":{\"diverging\":[[0,\"#8e0152\"],[0.1,\"#c51b7d\"],[0.2,\"#de77ae\"],[0.3,\"#f1b6da\"],[0.4,\"#fde0ef\"],[0.5,\"#f7f7f7\"],[0.6,\"#e6f5d0\"],[0.7,\"#b8e186\"],[0.8,\"#7fbc41\"],[0.9,\"#4d9221\"],[1,\"#276419\"]],\"sequential\":[[0.0,\"#0d0887\"],[0.1111111111111111,\"#46039f\"],[0.2222222222222222,\"#7201a8\"],[0.3333333333333333,\"#9c179e\"],[0.4444444444444444,\"#bd3786\"],[0.5555555555555556,\"#d8576b\"],[0.6666666666666666,\"#ed7953\"],[0.7777777777777778,\"#fb9f3a\"],[0.8888888888888888,\"#fdca26\"],[1.0,\"#f0f921\"]],\"sequentialminus\":[[0.0,\"#0d0887\"],[0.1111111111111111,\"#46039f\"],[0.2222222222222222,\"#7201a8\"],[0.3333333333333333,\"#9c179e\"],[0.4444444444444444,\"#bd3786\"],[0.5555555555555556,\"#d8576b\"],[0.6666666666666666,\"#ed7953\"],[0.7777777777777778,\"#fb9f3a\"],[0.8888888888888888,\"#fdca26\"],[1.0,\"#f0f921\"]]},\"colorway\":[\"#636efa\",\"#EF553B\",\"#00cc96\",\"#ab63fa\",\"#FFA15A\",\"#19d3f3\",\"#FF6692\",\"#B6E880\",\"#FF97FF\",\"#FECB52\"],\"font\":{\"color\":\"#2a3f5f\"},\"geo\":{\"bgcolor\":\"white\",\"lakecolor\":\"white\",\"landcolor\":\"#E5ECF6\",\"showlakes\":true,\"showland\":true,\"subunitcolor\":\"white\"},\"hoverlabel\":{\"align\":\"left\"},\"hovermode\":\"closest\",\"mapbox\":{\"style\":\"light\"},\"paper_bgcolor\":\"white\",\"plot_bgcolor\":\"#E5ECF6\",\"polar\":{\"angularaxis\":{\"gridcolor\":\"white\",\"linecolor\":\"white\",\"ticks\":\"\"},\"bgcolor\":\"#E5ECF6\",\"radialaxis\":{\"gridcolor\":\"white\",\"linecolor\":\"white\",\"ticks\":\"\"}},\"scene\":{\"xaxis\":{\"backgroundcolor\":\"#E5ECF6\",\"gridcolor\":\"white\",\"gridwidth\":2,\"linecolor\":\"white\",\"showbackground\":true,\"ticks\":\"\",\"zerolinecolor\":\"white\"},\"yaxis\":{\"backgroundcolor\":\"#E5ECF6\",\"gridcolor\":\"white\",\"gridwidth\":2,\"linecolor\":\"white\",\"showbackground\":true,\"ticks\":\"\",\"zerolinecolor\":\"white\"},\"zaxis\":{\"backgroundcolor\":\"#E5ECF6\",\"gridcolor\":\"white\",\"gridwidth\":2,\"linecolor\":\"white\",\"showbackground\":true,\"ticks\":\"\",\"zerolinecolor\":\"white\"}},\"shapedefaults\":{\"line\":{\"color\":\"#2a3f5f\"}},\"ternary\":{\"aaxis\":{\"gridcolor\":\"white\",\"linecolor\":\"white\",\"ticks\":\"\"},\"baxis\":{\"gridcolor\":\"white\",\"linecolor\":\"white\",\"ticks\":\"\"},\"bgcolor\":\"#E5ECF6\",\"caxis\":{\"gridcolor\":\"white\",\"linecolor\":\"white\",\"ticks\":\"\"}},\"title\":{\"x\":0.05},\"xaxis\":{\"automargin\":true,\"gridcolor\":\"white\",\"linecolor\":\"white\",\"ticks\":\"\",\"title\":{\"standoff\":15},\"zerolinecolor\":\"white\",\"zerolinewidth\":2},\"yaxis\":{\"automargin\":true,\"gridcolor\":\"white\",\"linecolor\":\"white\",\"ticks\":\"\",\"title\":{\"standoff\":15},\"zerolinecolor\":\"white\",\"zerolinewidth\":2}}},\"margin\":{\"l\":0,\"t\":0,\"b\":0,\"r\":0},\"mapbox\":{\"center\":{\"lon\":-43.177066,\"lat\":-22.928113},\"style\":\"stamen-terrain\",\"zoom\":12}},                        {\"responsive\": true}                    ).then(function(){\n",
              "                            \n",
              "var gd = document.getElementById('f0a9e23f-c5dc-4560-a052-e3d9ece69d2f');\n",
              "var x = new MutationObserver(function (mutations, observer) {{\n",
              "        var display = window.getComputedStyle(gd).display;\n",
              "        if (!display || display === 'none') {{\n",
              "            console.log([gd, 'removed!']);\n",
              "            Plotly.purge(gd);\n",
              "            observer.disconnect();\n",
              "        }}\n",
              "}});\n",
              "\n",
              "// Listen for the removal of the full notebook cells\n",
              "var notebookContainer = gd.closest('#notebook-container');\n",
              "if (notebookContainer) {{\n",
              "    x.observe(notebookContainer, {childList: true});\n",
              "}}\n",
              "\n",
              "// Listen for the clearing of the current output cell\n",
              "var outputEl = gd.closest('.output');\n",
              "if (outputEl) {{\n",
              "    x.observe(outputEl, {childList: true});\n",
              "}}\n",
              "\n",
              "                        })                };                            </script>        </div>\n",
              "</body>\n",
              "</html>"
            ]
          },
          "metadata": {}
        }
      ],
      "source": [
        "numtienda = 3\n",
        "tienda ='store3'\n",
        "base1 =  df[(df.OriginStore == 3) & (df.day.isin([7]))]\n",
        "#base1 =  df[(df.day.isin([11]))]\n",
        "for m in base1.day.unique().astype('int32'):\n",
        "    base = base1[base1.day.astype('int32') == m]\n",
        "    clientes = [i for i in base.client]\n",
        "    arcos = [(i,j) for i in clientes for j in clientes if i != j]\n",
        "    distancia = {(i,j): distance.euclidean(ubi[i], ubi[j]) \n",
        "                              for i,j in arcos}\n",
        "    for i in clientes:\n",
        "        distancia[(tienda,i)] = distance.euclidean(ubistores[numtienda], ubi[i]) \n",
        "    n = len(clientes)\n",
        "    values = []\n",
        "    for i in range(n):\n",
        "        values.append(clientes[i])\n",
        "    values.append(tienda)\n",
        "    starting_node = tienda\n",
        "    NN = [starting_node]\n",
        "    while len(NN)<=n:\n",
        "        k = NN[-1]\n",
        "        nn = {(k,j):distancia[(k,j)] for j in values if k != j and j not in NN}\n",
        "        new = min(nn.items(),key = lambda x:x[1])\n",
        "        NN.append(new[0][1])\n",
        "    NN.append(starting_node)\n",
        "    latitud = []\n",
        "    for i in clientes:\n",
        "        latitud.append(ubi[i][0])\n",
        "    latitud.append(ubistores[numtienda][0])\n",
        "    longitud = []\n",
        "    for i in clientes:\n",
        "        longitud.append(ubi[i][1])\n",
        "    longitud.append(ubistores[numtienda][1])\n",
        "    clientes.append(tienda)\n",
        "    x = longitud\n",
        "    y = latitud\n",
        "    '''\n",
        "    figure, axis = plt.subplots(len(base.day.unique()),1, squeeze = False)\n",
        "    for c in range(len(base.day.unique())):\n",
        "        axis[c,0].scatter(x[:n],y[:n],color = 'blue')\n",
        "        axis[c,0].scatter(x[n],y[n],color = 'red')\n",
        "        for i in range(len(clientes)):\n",
        "            axis[c,0].annotate(clientes[i], (x[i], y[i]))\n",
        "        for n in range(len(NN)-1):\n",
        "            axis[c,0].plot([longitud[clientes.index(NN[n])], longitud[clientes.index(NN[n+1])]],\n",
        "             [latitud[clientes.index(NN[n])], latitud[clientes.index(NN[n+1])]], color = 'lightblue')\n",
        "        axis[c,0].set_title(tienda+' - día '+str(m))\n",
        "        axis[c,0].set_xlabel('Latitud')\n",
        "        axis[c,0].set_ylabel('Longitud')\n",
        "      '''\n",
        "    fig = go.Figure(go.Scattermapbox(\n",
        "      mode = \"markers+lines\",\n",
        "      lon = longitud,\n",
        "      lat = latitud,\n",
        "      marker = {'size': 10}))\n",
        "\n",
        "    fig.add_trace(go.Scattermapbox(\n",
        "        mode = \"markers+lines\",\n",
        "        lat = [-22.928113, -22.945116,-22.919769],\n",
        "        lon = [-43.177066, -43.161907, -43.179837],\n",
        "        marker = {'size': 10}))\n",
        "\n",
        "    fig.update_layout(\n",
        "        margin ={'l':0,'t':0,'b':0,'r':0},\n",
        "        mapbox = {\n",
        "        'center': {'lon': -43.177066, 'lat': -22.928113},\n",
        "        'style': \"stamen-terrain\",\n",
        "        'center': {'lon': -43.177066, 'lat': -22.928113},\n",
        "        'zoom': 12})\n",
        "\n",
        "    fig.show()"
      ]
    },
    {
      "cell_type": "code",
      "source": [
        "longitud"
      ],
      "metadata": {
        "id": "4pd8RYuHzXdF"
      },
      "execution_count": null,
      "outputs": []
    },
    {
      "cell_type": "code",
      "source": [
        "import plotly.graph_objects as go\n",
        "\n",
        "fig = go.Figure(go.Scattermapbox(\n",
        "    mode = \"markers+lines\",\n",
        "    lon = longitud,\n",
        "    lat = latitud,\n",
        "    marker = {'size': 10}))\n",
        "\n",
        "fig.add_trace(go.Scattermapbox(\n",
        "    mode = \"markers+lines\",\n",
        "    lat = [-22.928113, -22.945116,-22.919769],\n",
        "    lon = [-43.177066, -43.161907, -43.179837],\n",
        "    marker = {'size': 10}))\n",
        "\n",
        "fig.update_layout(\n",
        "    margin ={'l':0,'t':0,'b':0,'r':0},\n",
        "    mapbox = {\n",
        "        'center': {'lon': -43.177066, 'lat': -22.928113},\n",
        "        'style': \"stamen-terrain\",\n",
        "        'center': {'lon': -43.177066, 'lat': -22.928113},\n",
        "        'zoom': 12})\n",
        "\n",
        "fig.show()"
      ],
      "metadata": {
        "colab": {
          "base_uri": "https://localhost:8080/",
          "height": 542
        },
        "id": "5Jzt2HPIzHTm",
        "outputId": "39909ef9-0a92-47e9-f8b1-b94978f9fb17"
      },
      "execution_count": 70,
      "outputs": [
        {
          "output_type": "display_data",
          "data": {
            "text/html": [
              "<html>\n",
              "<head><meta charset=\"utf-8\" /></head>\n",
              "<body>\n",
              "    <div>            <script src=\"https://cdnjs.cloudflare.com/ajax/libs/mathjax/2.7.5/MathJax.js?config=TeX-AMS-MML_SVG\"></script><script type=\"text/javascript\">if (window.MathJax) {MathJax.Hub.Config({SVG: {font: \"STIX-Web\"}});}</script>                <script type=\"text/javascript\">window.PlotlyConfig = {MathJaxConfig: 'local'};</script>\n",
              "        <script src=\"https://cdn.plot.ly/plotly-2.8.3.min.js\"></script>                <div id=\"910f739d-bc66-4275-b761-1c0c53b45b97\" class=\"plotly-graph-div\" style=\"height:525px; width:100%;\"></div>            <script type=\"text/javascript\">                                    window.PLOTLYENV=window.PLOTLYENV || {};                                    if (document.getElementById(\"910f739d-bc66-4275-b761-1c0c53b45b97\")) {                    Plotly.newPlot(                        \"910f739d-bc66-4275-b761-1c0c53b45b97\",                        [{\"lat\":[-22.975845,-22.9721093,-22.980438],\"lon\":[-43.1881512,-43.18683,-43.202618],\"marker\":{\"size\":10},\"mode\":\"markers+lines\",\"type\":\"scattermapbox\"},{\"lat\":[-22.928113,-22.945116,-22.919769],\"lon\":[-43.177066,-43.161907,-43.179837],\"marker\":{\"size\":10},\"mode\":\"markers+lines\",\"type\":\"scattermapbox\"}],                        {\"template\":{\"data\":{\"bar\":[{\"error_x\":{\"color\":\"#2a3f5f\"},\"error_y\":{\"color\":\"#2a3f5f\"},\"marker\":{\"line\":{\"color\":\"#E5ECF6\",\"width\":0.5},\"pattern\":{\"fillmode\":\"overlay\",\"size\":10,\"solidity\":0.2}},\"type\":\"bar\"}],\"barpolar\":[{\"marker\":{\"line\":{\"color\":\"#E5ECF6\",\"width\":0.5},\"pattern\":{\"fillmode\":\"overlay\",\"size\":10,\"solidity\":0.2}},\"type\":\"barpolar\"}],\"carpet\":[{\"aaxis\":{\"endlinecolor\":\"#2a3f5f\",\"gridcolor\":\"white\",\"linecolor\":\"white\",\"minorgridcolor\":\"white\",\"startlinecolor\":\"#2a3f5f\"},\"baxis\":{\"endlinecolor\":\"#2a3f5f\",\"gridcolor\":\"white\",\"linecolor\":\"white\",\"minorgridcolor\":\"white\",\"startlinecolor\":\"#2a3f5f\"},\"type\":\"carpet\"}],\"choropleth\":[{\"colorbar\":{\"outlinewidth\":0,\"ticks\":\"\"},\"type\":\"choropleth\"}],\"contour\":[{\"colorbar\":{\"outlinewidth\":0,\"ticks\":\"\"},\"colorscale\":[[0.0,\"#0d0887\"],[0.1111111111111111,\"#46039f\"],[0.2222222222222222,\"#7201a8\"],[0.3333333333333333,\"#9c179e\"],[0.4444444444444444,\"#bd3786\"],[0.5555555555555556,\"#d8576b\"],[0.6666666666666666,\"#ed7953\"],[0.7777777777777778,\"#fb9f3a\"],[0.8888888888888888,\"#fdca26\"],[1.0,\"#f0f921\"]],\"type\":\"contour\"}],\"contourcarpet\":[{\"colorbar\":{\"outlinewidth\":0,\"ticks\":\"\"},\"type\":\"contourcarpet\"}],\"heatmap\":[{\"colorbar\":{\"outlinewidth\":0,\"ticks\":\"\"},\"colorscale\":[[0.0,\"#0d0887\"],[0.1111111111111111,\"#46039f\"],[0.2222222222222222,\"#7201a8\"],[0.3333333333333333,\"#9c179e\"],[0.4444444444444444,\"#bd3786\"],[0.5555555555555556,\"#d8576b\"],[0.6666666666666666,\"#ed7953\"],[0.7777777777777778,\"#fb9f3a\"],[0.8888888888888888,\"#fdca26\"],[1.0,\"#f0f921\"]],\"type\":\"heatmap\"}],\"heatmapgl\":[{\"colorbar\":{\"outlinewidth\":0,\"ticks\":\"\"},\"colorscale\":[[0.0,\"#0d0887\"],[0.1111111111111111,\"#46039f\"],[0.2222222222222222,\"#7201a8\"],[0.3333333333333333,\"#9c179e\"],[0.4444444444444444,\"#bd3786\"],[0.5555555555555556,\"#d8576b\"],[0.6666666666666666,\"#ed7953\"],[0.7777777777777778,\"#fb9f3a\"],[0.8888888888888888,\"#fdca26\"],[1.0,\"#f0f921\"]],\"type\":\"heatmapgl\"}],\"histogram\":[{\"marker\":{\"pattern\":{\"fillmode\":\"overlay\",\"size\":10,\"solidity\":0.2}},\"type\":\"histogram\"}],\"histogram2d\":[{\"colorbar\":{\"outlinewidth\":0,\"ticks\":\"\"},\"colorscale\":[[0.0,\"#0d0887\"],[0.1111111111111111,\"#46039f\"],[0.2222222222222222,\"#7201a8\"],[0.3333333333333333,\"#9c179e\"],[0.4444444444444444,\"#bd3786\"],[0.5555555555555556,\"#d8576b\"],[0.6666666666666666,\"#ed7953\"],[0.7777777777777778,\"#fb9f3a\"],[0.8888888888888888,\"#fdca26\"],[1.0,\"#f0f921\"]],\"type\":\"histogram2d\"}],\"histogram2dcontour\":[{\"colorbar\":{\"outlinewidth\":0,\"ticks\":\"\"},\"colorscale\":[[0.0,\"#0d0887\"],[0.1111111111111111,\"#46039f\"],[0.2222222222222222,\"#7201a8\"],[0.3333333333333333,\"#9c179e\"],[0.4444444444444444,\"#bd3786\"],[0.5555555555555556,\"#d8576b\"],[0.6666666666666666,\"#ed7953\"],[0.7777777777777778,\"#fb9f3a\"],[0.8888888888888888,\"#fdca26\"],[1.0,\"#f0f921\"]],\"type\":\"histogram2dcontour\"}],\"mesh3d\":[{\"colorbar\":{\"outlinewidth\":0,\"ticks\":\"\"},\"type\":\"mesh3d\"}],\"parcoords\":[{\"line\":{\"colorbar\":{\"outlinewidth\":0,\"ticks\":\"\"}},\"type\":\"parcoords\"}],\"pie\":[{\"automargin\":true,\"type\":\"pie\"}],\"scatter\":[{\"marker\":{\"colorbar\":{\"outlinewidth\":0,\"ticks\":\"\"}},\"type\":\"scatter\"}],\"scatter3d\":[{\"line\":{\"colorbar\":{\"outlinewidth\":0,\"ticks\":\"\"}},\"marker\":{\"colorbar\":{\"outlinewidth\":0,\"ticks\":\"\"}},\"type\":\"scatter3d\"}],\"scattercarpet\":[{\"marker\":{\"colorbar\":{\"outlinewidth\":0,\"ticks\":\"\"}},\"type\":\"scattercarpet\"}],\"scattergeo\":[{\"marker\":{\"colorbar\":{\"outlinewidth\":0,\"ticks\":\"\"}},\"type\":\"scattergeo\"}],\"scattergl\":[{\"marker\":{\"colorbar\":{\"outlinewidth\":0,\"ticks\":\"\"}},\"type\":\"scattergl\"}],\"scattermapbox\":[{\"marker\":{\"colorbar\":{\"outlinewidth\":0,\"ticks\":\"\"}},\"type\":\"scattermapbox\"}],\"scatterpolar\":[{\"marker\":{\"colorbar\":{\"outlinewidth\":0,\"ticks\":\"\"}},\"type\":\"scatterpolar\"}],\"scatterpolargl\":[{\"marker\":{\"colorbar\":{\"outlinewidth\":0,\"ticks\":\"\"}},\"type\":\"scatterpolargl\"}],\"scatterternary\":[{\"marker\":{\"colorbar\":{\"outlinewidth\":0,\"ticks\":\"\"}},\"type\":\"scatterternary\"}],\"surface\":[{\"colorbar\":{\"outlinewidth\":0,\"ticks\":\"\"},\"colorscale\":[[0.0,\"#0d0887\"],[0.1111111111111111,\"#46039f\"],[0.2222222222222222,\"#7201a8\"],[0.3333333333333333,\"#9c179e\"],[0.4444444444444444,\"#bd3786\"],[0.5555555555555556,\"#d8576b\"],[0.6666666666666666,\"#ed7953\"],[0.7777777777777778,\"#fb9f3a\"],[0.8888888888888888,\"#fdca26\"],[1.0,\"#f0f921\"]],\"type\":\"surface\"}],\"table\":[{\"cells\":{\"fill\":{\"color\":\"#EBF0F8\"},\"line\":{\"color\":\"white\"}},\"header\":{\"fill\":{\"color\":\"#C8D4E3\"},\"line\":{\"color\":\"white\"}},\"type\":\"table\"}]},\"layout\":{\"annotationdefaults\":{\"arrowcolor\":\"#2a3f5f\",\"arrowhead\":0,\"arrowwidth\":1},\"autotypenumbers\":\"strict\",\"coloraxis\":{\"colorbar\":{\"outlinewidth\":0,\"ticks\":\"\"}},\"colorscale\":{\"diverging\":[[0,\"#8e0152\"],[0.1,\"#c51b7d\"],[0.2,\"#de77ae\"],[0.3,\"#f1b6da\"],[0.4,\"#fde0ef\"],[0.5,\"#f7f7f7\"],[0.6,\"#e6f5d0\"],[0.7,\"#b8e186\"],[0.8,\"#7fbc41\"],[0.9,\"#4d9221\"],[1,\"#276419\"]],\"sequential\":[[0.0,\"#0d0887\"],[0.1111111111111111,\"#46039f\"],[0.2222222222222222,\"#7201a8\"],[0.3333333333333333,\"#9c179e\"],[0.4444444444444444,\"#bd3786\"],[0.5555555555555556,\"#d8576b\"],[0.6666666666666666,\"#ed7953\"],[0.7777777777777778,\"#fb9f3a\"],[0.8888888888888888,\"#fdca26\"],[1.0,\"#f0f921\"]],\"sequentialminus\":[[0.0,\"#0d0887\"],[0.1111111111111111,\"#46039f\"],[0.2222222222222222,\"#7201a8\"],[0.3333333333333333,\"#9c179e\"],[0.4444444444444444,\"#bd3786\"],[0.5555555555555556,\"#d8576b\"],[0.6666666666666666,\"#ed7953\"],[0.7777777777777778,\"#fb9f3a\"],[0.8888888888888888,\"#fdca26\"],[1.0,\"#f0f921\"]]},\"colorway\":[\"#636efa\",\"#EF553B\",\"#00cc96\",\"#ab63fa\",\"#FFA15A\",\"#19d3f3\",\"#FF6692\",\"#B6E880\",\"#FF97FF\",\"#FECB52\"],\"font\":{\"color\":\"#2a3f5f\"},\"geo\":{\"bgcolor\":\"white\",\"lakecolor\":\"white\",\"landcolor\":\"#E5ECF6\",\"showlakes\":true,\"showland\":true,\"subunitcolor\":\"white\"},\"hoverlabel\":{\"align\":\"left\"},\"hovermode\":\"closest\",\"mapbox\":{\"style\":\"light\"},\"paper_bgcolor\":\"white\",\"plot_bgcolor\":\"#E5ECF6\",\"polar\":{\"angularaxis\":{\"gridcolor\":\"white\",\"linecolor\":\"white\",\"ticks\":\"\"},\"bgcolor\":\"#E5ECF6\",\"radialaxis\":{\"gridcolor\":\"white\",\"linecolor\":\"white\",\"ticks\":\"\"}},\"scene\":{\"xaxis\":{\"backgroundcolor\":\"#E5ECF6\",\"gridcolor\":\"white\",\"gridwidth\":2,\"linecolor\":\"white\",\"showbackground\":true,\"ticks\":\"\",\"zerolinecolor\":\"white\"},\"yaxis\":{\"backgroundcolor\":\"#E5ECF6\",\"gridcolor\":\"white\",\"gridwidth\":2,\"linecolor\":\"white\",\"showbackground\":true,\"ticks\":\"\",\"zerolinecolor\":\"white\"},\"zaxis\":{\"backgroundcolor\":\"#E5ECF6\",\"gridcolor\":\"white\",\"gridwidth\":2,\"linecolor\":\"white\",\"showbackground\":true,\"ticks\":\"\",\"zerolinecolor\":\"white\"}},\"shapedefaults\":{\"line\":{\"color\":\"#2a3f5f\"}},\"ternary\":{\"aaxis\":{\"gridcolor\":\"white\",\"linecolor\":\"white\",\"ticks\":\"\"},\"baxis\":{\"gridcolor\":\"white\",\"linecolor\":\"white\",\"ticks\":\"\"},\"bgcolor\":\"#E5ECF6\",\"caxis\":{\"gridcolor\":\"white\",\"linecolor\":\"white\",\"ticks\":\"\"}},\"title\":{\"x\":0.05},\"xaxis\":{\"automargin\":true,\"gridcolor\":\"white\",\"linecolor\":\"white\",\"ticks\":\"\",\"title\":{\"standoff\":15},\"zerolinecolor\":\"white\",\"zerolinewidth\":2},\"yaxis\":{\"automargin\":true,\"gridcolor\":\"white\",\"linecolor\":\"white\",\"ticks\":\"\",\"title\":{\"standoff\":15},\"zerolinecolor\":\"white\",\"zerolinewidth\":2}}},\"margin\":{\"l\":0,\"t\":0,\"b\":0,\"r\":0},\"mapbox\":{\"center\":{\"lon\":-43.177066,\"lat\":-22.928113},\"style\":\"stamen-terrain\",\"zoom\":12}},                        {\"responsive\": true}                    ).then(function(){\n",
              "                            \n",
              "var gd = document.getElementById('910f739d-bc66-4275-b761-1c0c53b45b97');\n",
              "var x = new MutationObserver(function (mutations, observer) {{\n",
              "        var display = window.getComputedStyle(gd).display;\n",
              "        if (!display || display === 'none') {{\n",
              "            console.log([gd, 'removed!']);\n",
              "            Plotly.purge(gd);\n",
              "            observer.disconnect();\n",
              "        }}\n",
              "}});\n",
              "\n",
              "// Listen for the removal of the full notebook cells\n",
              "var notebookContainer = gd.closest('#notebook-container');\n",
              "if (notebookContainer) {{\n",
              "    x.observe(notebookContainer, {childList: true});\n",
              "}}\n",
              "\n",
              "// Listen for the clearing of the current output cell\n",
              "var outputEl = gd.closest('.output');\n",
              "if (outputEl) {{\n",
              "    x.observe(outputEl, {childList: true});\n",
              "}}\n",
              "\n",
              "                        })                };                            </script>        </div>\n",
              "</body>\n",
              "</html>"
            ]
          },
          "metadata": {}
        }
      ]
    },
    {
      "cell_type": "code",
      "source": [
        " df[(df.OriginStore == numtienda) & (df.day.isin([7]))]"
      ],
      "metadata": {
        "id": "K39_YlDFATaB"
      },
      "execution_count": null,
      "outputs": []
    },
    {
      "cell_type": "code",
      "source": [
        "numtienda = 2\n",
        "tienda ='store3'\n",
        "base1 =  df[(df.OriginStore == numtienda) & (df.day.isin([7]))]\n",
        "#base1 =  df[(df.day.isin([11]))]\n",
        "for m in base1.day.unique().astype('int32'):\n",
        "    base = base1[base1.day.astype('int32') == m]\n",
        "    clientes = [i for i in base.client]\n",
        "    arcos = [(i,j) for i in clientes for j in clientes if i != j]\n",
        "    distancia = {(i,j): distance.euclidean(ubi[i], ubi[j]) \n",
        "                              for i,j in arcos}\n",
        "    for i in clientes:\n",
        "        distancia[(tienda,i)] = distance.euclidean(ubistores[numtienda], ubi[i]) \n",
        "    n = len(clientes)\n",
        "    values = []\n",
        "    for i in range(n):\n",
        "        values.append(clientes[i])\n",
        "    values.append(tienda)\n",
        "    starting_node = tienda\n",
        "    NN = [starting_node]\n",
        "    while len(NN)<=n:\n",
        "        k = NN[-1]\n",
        "        nn = {(k,j):distancia[(k,j)] for j in values if k != j and j not in NN}\n",
        "        new = min(nn.items(),key = lambda x:x[1])\n",
        "        NN.append(new[0][1])\n",
        "    NN.append(starting_node)\n",
        "    latitud = []\n",
        "    for i in clientes:\n",
        "        latitud.append(ubi[i][0])\n",
        "    latitud.append(ubistores[numtienda][0])\n",
        "    longitud = []\n",
        "    for i in clientes:\n",
        "        longitud.append(ubi[i][1])\n",
        "    longitud.append(ubistores[numtienda][1])\n",
        "    clientes.append(tienda)\n",
        "    x = longitud\n",
        "    y = latitud\n",
        "\n",
        "\n",
        "    fig.add_trace(go.Scattermapbox(\n",
        "        mode = \"markers+lines\",\n",
        "        lat = latitud,\n",
        "        lon = longitud,\n",
        "        marker = {'size': 10}))\n",
        "\n"
      ],
      "metadata": {
        "id": "irK6MTBWDEGD"
      },
      "execution_count": 59,
      "outputs": []
    },
    {
      "cell_type": "code",
      "source": [
        "fig.update_layout(\n",
        "  margin ={'l':0,'t':0,'b':0,'r':0},\n",
        "  mapbox = {\n",
        "  'center': {'lon': -43.177066, 'lat': -22.928113},\n",
        "  'style': \"stamen-terrain\",\n",
        "  'center': {'lon': -43.177066, 'lat': -22.928113},\n",
        "  'zoom': 12})"
      ],
      "metadata": {
        "colab": {
          "base_uri": "https://localhost:8080/",
          "height": 542
        },
        "id": "WjBwqnk93Cte",
        "outputId": "426b331e-ec01-4bf9-c8b6-f117ba7b19bd"
      },
      "execution_count": 60,
      "outputs": [
        {
          "output_type": "display_data",
          "data": {
            "text/html": [
              "<html>\n",
              "<head><meta charset=\"utf-8\" /></head>\n",
              "<body>\n",
              "    <div>            <script src=\"https://cdnjs.cloudflare.com/ajax/libs/mathjax/2.7.5/MathJax.js?config=TeX-AMS-MML_SVG\"></script><script type=\"text/javascript\">if (window.MathJax) {MathJax.Hub.Config({SVG: {font: \"STIX-Web\"}});}</script>                <script type=\"text/javascript\">window.PlotlyConfig = {MathJaxConfig: 'local'};</script>\n",
              "        <script src=\"https://cdn.plot.ly/plotly-2.8.3.min.js\"></script>                <div id=\"38009bd4-2bda-45ed-b34d-53495de34b5f\" class=\"plotly-graph-div\" style=\"height:525px; width:100%;\"></div>            <script type=\"text/javascript\">                                    window.PLOTLYENV=window.PLOTLYENV || {};                                    if (document.getElementById(\"38009bd4-2bda-45ed-b34d-53495de34b5f\")) {                    Plotly.newPlot(                        \"38009bd4-2bda-45ed-b34d-53495de34b5f\",                        [{\"lat\":[-22.910514,-22.9142607,-22.917404,-22.9060297,-22.9197825,-22.9123072],\"lon\":[-43.1888352,-43.183318,-43.213528,-43.1793347,-43.195807,-43.2019991],\"marker\":{\"size\":10},\"mode\":\"markers+lines\",\"type\":\"scattermapbox\"},{\"lat\":[-22.9751613,-22.980438],\"lon\":[-43.2284452,-43.202618],\"marker\":{\"size\":10},\"mode\":\"markers+lines\",\"type\":\"scattermapbox\"},{\"lat\":[-22.9751613,-22.980438],\"lon\":[-43.2284452,-43.202618],\"marker\":{\"size\":10},\"mode\":\"markers+lines\",\"type\":\"scattermapbox\"}],                        {\"template\":{\"data\":{\"bar\":[{\"error_x\":{\"color\":\"#2a3f5f\"},\"error_y\":{\"color\":\"#2a3f5f\"},\"marker\":{\"line\":{\"color\":\"#E5ECF6\",\"width\":0.5},\"pattern\":{\"fillmode\":\"overlay\",\"size\":10,\"solidity\":0.2}},\"type\":\"bar\"}],\"barpolar\":[{\"marker\":{\"line\":{\"color\":\"#E5ECF6\",\"width\":0.5},\"pattern\":{\"fillmode\":\"overlay\",\"size\":10,\"solidity\":0.2}},\"type\":\"barpolar\"}],\"carpet\":[{\"aaxis\":{\"endlinecolor\":\"#2a3f5f\",\"gridcolor\":\"white\",\"linecolor\":\"white\",\"minorgridcolor\":\"white\",\"startlinecolor\":\"#2a3f5f\"},\"baxis\":{\"endlinecolor\":\"#2a3f5f\",\"gridcolor\":\"white\",\"linecolor\":\"white\",\"minorgridcolor\":\"white\",\"startlinecolor\":\"#2a3f5f\"},\"type\":\"carpet\"}],\"choropleth\":[{\"colorbar\":{\"outlinewidth\":0,\"ticks\":\"\"},\"type\":\"choropleth\"}],\"contour\":[{\"colorbar\":{\"outlinewidth\":0,\"ticks\":\"\"},\"colorscale\":[[0.0,\"#0d0887\"],[0.1111111111111111,\"#46039f\"],[0.2222222222222222,\"#7201a8\"],[0.3333333333333333,\"#9c179e\"],[0.4444444444444444,\"#bd3786\"],[0.5555555555555556,\"#d8576b\"],[0.6666666666666666,\"#ed7953\"],[0.7777777777777778,\"#fb9f3a\"],[0.8888888888888888,\"#fdca26\"],[1.0,\"#f0f921\"]],\"type\":\"contour\"}],\"contourcarpet\":[{\"colorbar\":{\"outlinewidth\":0,\"ticks\":\"\"},\"type\":\"contourcarpet\"}],\"heatmap\":[{\"colorbar\":{\"outlinewidth\":0,\"ticks\":\"\"},\"colorscale\":[[0.0,\"#0d0887\"],[0.1111111111111111,\"#46039f\"],[0.2222222222222222,\"#7201a8\"],[0.3333333333333333,\"#9c179e\"],[0.4444444444444444,\"#bd3786\"],[0.5555555555555556,\"#d8576b\"],[0.6666666666666666,\"#ed7953\"],[0.7777777777777778,\"#fb9f3a\"],[0.8888888888888888,\"#fdca26\"],[1.0,\"#f0f921\"]],\"type\":\"heatmap\"}],\"heatmapgl\":[{\"colorbar\":{\"outlinewidth\":0,\"ticks\":\"\"},\"colorscale\":[[0.0,\"#0d0887\"],[0.1111111111111111,\"#46039f\"],[0.2222222222222222,\"#7201a8\"],[0.3333333333333333,\"#9c179e\"],[0.4444444444444444,\"#bd3786\"],[0.5555555555555556,\"#d8576b\"],[0.6666666666666666,\"#ed7953\"],[0.7777777777777778,\"#fb9f3a\"],[0.8888888888888888,\"#fdca26\"],[1.0,\"#f0f921\"]],\"type\":\"heatmapgl\"}],\"histogram\":[{\"marker\":{\"pattern\":{\"fillmode\":\"overlay\",\"size\":10,\"solidity\":0.2}},\"type\":\"histogram\"}],\"histogram2d\":[{\"colorbar\":{\"outlinewidth\":0,\"ticks\":\"\"},\"colorscale\":[[0.0,\"#0d0887\"],[0.1111111111111111,\"#46039f\"],[0.2222222222222222,\"#7201a8\"],[0.3333333333333333,\"#9c179e\"],[0.4444444444444444,\"#bd3786\"],[0.5555555555555556,\"#d8576b\"],[0.6666666666666666,\"#ed7953\"],[0.7777777777777778,\"#fb9f3a\"],[0.8888888888888888,\"#fdca26\"],[1.0,\"#f0f921\"]],\"type\":\"histogram2d\"}],\"histogram2dcontour\":[{\"colorbar\":{\"outlinewidth\":0,\"ticks\":\"\"},\"colorscale\":[[0.0,\"#0d0887\"],[0.1111111111111111,\"#46039f\"],[0.2222222222222222,\"#7201a8\"],[0.3333333333333333,\"#9c179e\"],[0.4444444444444444,\"#bd3786\"],[0.5555555555555556,\"#d8576b\"],[0.6666666666666666,\"#ed7953\"],[0.7777777777777778,\"#fb9f3a\"],[0.8888888888888888,\"#fdca26\"],[1.0,\"#f0f921\"]],\"type\":\"histogram2dcontour\"}],\"mesh3d\":[{\"colorbar\":{\"outlinewidth\":0,\"ticks\":\"\"},\"type\":\"mesh3d\"}],\"parcoords\":[{\"line\":{\"colorbar\":{\"outlinewidth\":0,\"ticks\":\"\"}},\"type\":\"parcoords\"}],\"pie\":[{\"automargin\":true,\"type\":\"pie\"}],\"scatter\":[{\"marker\":{\"colorbar\":{\"outlinewidth\":0,\"ticks\":\"\"}},\"type\":\"scatter\"}],\"scatter3d\":[{\"line\":{\"colorbar\":{\"outlinewidth\":0,\"ticks\":\"\"}},\"marker\":{\"colorbar\":{\"outlinewidth\":0,\"ticks\":\"\"}},\"type\":\"scatter3d\"}],\"scattercarpet\":[{\"marker\":{\"colorbar\":{\"outlinewidth\":0,\"ticks\":\"\"}},\"type\":\"scattercarpet\"}],\"scattergeo\":[{\"marker\":{\"colorbar\":{\"outlinewidth\":0,\"ticks\":\"\"}},\"type\":\"scattergeo\"}],\"scattergl\":[{\"marker\":{\"colorbar\":{\"outlinewidth\":0,\"ticks\":\"\"}},\"type\":\"scattergl\"}],\"scattermapbox\":[{\"marker\":{\"colorbar\":{\"outlinewidth\":0,\"ticks\":\"\"}},\"type\":\"scattermapbox\"}],\"scatterpolar\":[{\"marker\":{\"colorbar\":{\"outlinewidth\":0,\"ticks\":\"\"}},\"type\":\"scatterpolar\"}],\"scatterpolargl\":[{\"marker\":{\"colorbar\":{\"outlinewidth\":0,\"ticks\":\"\"}},\"type\":\"scatterpolargl\"}],\"scatterternary\":[{\"marker\":{\"colorbar\":{\"outlinewidth\":0,\"ticks\":\"\"}},\"type\":\"scatterternary\"}],\"surface\":[{\"colorbar\":{\"outlinewidth\":0,\"ticks\":\"\"},\"colorscale\":[[0.0,\"#0d0887\"],[0.1111111111111111,\"#46039f\"],[0.2222222222222222,\"#7201a8\"],[0.3333333333333333,\"#9c179e\"],[0.4444444444444444,\"#bd3786\"],[0.5555555555555556,\"#d8576b\"],[0.6666666666666666,\"#ed7953\"],[0.7777777777777778,\"#fb9f3a\"],[0.8888888888888888,\"#fdca26\"],[1.0,\"#f0f921\"]],\"type\":\"surface\"}],\"table\":[{\"cells\":{\"fill\":{\"color\":\"#EBF0F8\"},\"line\":{\"color\":\"white\"}},\"header\":{\"fill\":{\"color\":\"#C8D4E3\"},\"line\":{\"color\":\"white\"}},\"type\":\"table\"}]},\"layout\":{\"annotationdefaults\":{\"arrowcolor\":\"#2a3f5f\",\"arrowhead\":0,\"arrowwidth\":1},\"autotypenumbers\":\"strict\",\"coloraxis\":{\"colorbar\":{\"outlinewidth\":0,\"ticks\":\"\"}},\"colorscale\":{\"diverging\":[[0,\"#8e0152\"],[0.1,\"#c51b7d\"],[0.2,\"#de77ae\"],[0.3,\"#f1b6da\"],[0.4,\"#fde0ef\"],[0.5,\"#f7f7f7\"],[0.6,\"#e6f5d0\"],[0.7,\"#b8e186\"],[0.8,\"#7fbc41\"],[0.9,\"#4d9221\"],[1,\"#276419\"]],\"sequential\":[[0.0,\"#0d0887\"],[0.1111111111111111,\"#46039f\"],[0.2222222222222222,\"#7201a8\"],[0.3333333333333333,\"#9c179e\"],[0.4444444444444444,\"#bd3786\"],[0.5555555555555556,\"#d8576b\"],[0.6666666666666666,\"#ed7953\"],[0.7777777777777778,\"#fb9f3a\"],[0.8888888888888888,\"#fdca26\"],[1.0,\"#f0f921\"]],\"sequentialminus\":[[0.0,\"#0d0887\"],[0.1111111111111111,\"#46039f\"],[0.2222222222222222,\"#7201a8\"],[0.3333333333333333,\"#9c179e\"],[0.4444444444444444,\"#bd3786\"],[0.5555555555555556,\"#d8576b\"],[0.6666666666666666,\"#ed7953\"],[0.7777777777777778,\"#fb9f3a\"],[0.8888888888888888,\"#fdca26\"],[1.0,\"#f0f921\"]]},\"colorway\":[\"#636efa\",\"#EF553B\",\"#00cc96\",\"#ab63fa\",\"#FFA15A\",\"#19d3f3\",\"#FF6692\",\"#B6E880\",\"#FF97FF\",\"#FECB52\"],\"font\":{\"color\":\"#2a3f5f\"},\"geo\":{\"bgcolor\":\"white\",\"lakecolor\":\"white\",\"landcolor\":\"#E5ECF6\",\"showlakes\":true,\"showland\":true,\"subunitcolor\":\"white\"},\"hoverlabel\":{\"align\":\"left\"},\"hovermode\":\"closest\",\"mapbox\":{\"style\":\"light\"},\"paper_bgcolor\":\"white\",\"plot_bgcolor\":\"#E5ECF6\",\"polar\":{\"angularaxis\":{\"gridcolor\":\"white\",\"linecolor\":\"white\",\"ticks\":\"\"},\"bgcolor\":\"#E5ECF6\",\"radialaxis\":{\"gridcolor\":\"white\",\"linecolor\":\"white\",\"ticks\":\"\"}},\"scene\":{\"xaxis\":{\"backgroundcolor\":\"#E5ECF6\",\"gridcolor\":\"white\",\"gridwidth\":2,\"linecolor\":\"white\",\"showbackground\":true,\"ticks\":\"\",\"zerolinecolor\":\"white\"},\"yaxis\":{\"backgroundcolor\":\"#E5ECF6\",\"gridcolor\":\"white\",\"gridwidth\":2,\"linecolor\":\"white\",\"showbackground\":true,\"ticks\":\"\",\"zerolinecolor\":\"white\"},\"zaxis\":{\"backgroundcolor\":\"#E5ECF6\",\"gridcolor\":\"white\",\"gridwidth\":2,\"linecolor\":\"white\",\"showbackground\":true,\"ticks\":\"\",\"zerolinecolor\":\"white\"}},\"shapedefaults\":{\"line\":{\"color\":\"#2a3f5f\"}},\"ternary\":{\"aaxis\":{\"gridcolor\":\"white\",\"linecolor\":\"white\",\"ticks\":\"\"},\"baxis\":{\"gridcolor\":\"white\",\"linecolor\":\"white\",\"ticks\":\"\"},\"bgcolor\":\"#E5ECF6\",\"caxis\":{\"gridcolor\":\"white\",\"linecolor\":\"white\",\"ticks\":\"\"}},\"title\":{\"x\":0.05},\"xaxis\":{\"automargin\":true,\"gridcolor\":\"white\",\"linecolor\":\"white\",\"ticks\":\"\",\"title\":{\"standoff\":15},\"zerolinecolor\":\"white\",\"zerolinewidth\":2},\"yaxis\":{\"automargin\":true,\"gridcolor\":\"white\",\"linecolor\":\"white\",\"ticks\":\"\",\"title\":{\"standoff\":15},\"zerolinecolor\":\"white\",\"zerolinewidth\":2}}},\"margin\":{\"l\":0,\"t\":0,\"b\":0,\"r\":0},\"mapbox\":{\"center\":{\"lon\":-43.177066,\"lat\":-22.928113},\"style\":\"stamen-terrain\",\"zoom\":12}},                        {\"responsive\": true}                    ).then(function(){\n",
              "                            \n",
              "var gd = document.getElementById('38009bd4-2bda-45ed-b34d-53495de34b5f');\n",
              "var x = new MutationObserver(function (mutations, observer) {{\n",
              "        var display = window.getComputedStyle(gd).display;\n",
              "        if (!display || display === 'none') {{\n",
              "            console.log([gd, 'removed!']);\n",
              "            Plotly.purge(gd);\n",
              "            observer.disconnect();\n",
              "        }}\n",
              "}});\n",
              "\n",
              "// Listen for the removal of the full notebook cells\n",
              "var notebookContainer = gd.closest('#notebook-container');\n",
              "if (notebookContainer) {{\n",
              "    x.observe(notebookContainer, {childList: true});\n",
              "}}\n",
              "\n",
              "// Listen for the clearing of the current output cell\n",
              "var outputEl = gd.closest('.output');\n",
              "if (outputEl) {{\n",
              "    x.observe(outputEl, {childList: true});\n",
              "}}\n",
              "\n",
              "                        })                };                            </script>        </div>\n",
              "</body>\n",
              "</html>"
            ]
          },
          "metadata": {}
        }
      ]
    },
    {
      "cell_type": "code",
      "source": [
        "numtienda = 0\n",
        "tienda ='store3'\n",
        "base1 =  df[(df.OriginStore == numtienda) & (df.day.isin([7]))]\n",
        "#base1 =  df[(df.day.isin([11]))]\n",
        "for m in base1.day.unique().astype('int32'):\n",
        "    base = base1[base1.day.astype('int32') == m]\n",
        "    clientes = [i for i in base.client]\n",
        "    arcos = [(i,j) for i in clientes for j in clientes if i != j]\n",
        "    distancia = {(i,j): distance.euclidean(ubi[i], ubi[j]) \n",
        "                              for i,j in arcos}\n",
        "    for i in clientes:\n",
        "        distancia[(tienda,i)] = distance.euclidean(ubistores[numtienda], ubi[i]) \n",
        "    n = len(clientes)\n",
        "    values = []\n",
        "    for i in range(n):\n",
        "        values.append(clientes[i])\n",
        "    values.append(tienda)\n",
        "    starting_node = tienda\n",
        "    NN = [starting_node]\n",
        "    while len(NN)<=n:\n",
        "        k = NN[-1]\n",
        "        nn = {(k,j):distancia[(k,j)] for j in values if k != j and j not in NN}\n",
        "        new = min(nn.items(),key = lambda x:x[1])\n",
        "        NN.append(new[0][1])\n",
        "    NN.append(starting_node)\n",
        "    latitud = []\n",
        "    for i in clientes:\n",
        "        latitud.append(ubi[i][0])\n",
        "    latitud.append(ubistores[numtienda][0])\n",
        "    longitud = []\n",
        "    for i in clientes:\n",
        "        longitud.append(ubi[i][1])\n",
        "    longitud.append(ubistores[numtienda][1])\n",
        "    clientes.append(tienda)\n",
        "    x = longitud\n",
        "    y = latitud\n",
        "    '''\n",
        "    figure, axis = plt.subplots(len(base.day.unique()),1, squeeze = False)\n",
        "    for c in range(len(base.day.unique())):\n",
        "        axis[c,0].scatter(x[:n],y[:n],color = 'blue')\n",
        "        axis[c,0].scatter(x[n],y[n],color = 'red')\n",
        "        for i in range(len(clientes)):\n",
        "            axis[c,0].annotate(clientes[i], (x[i], y[i]))\n",
        "        for n in range(len(NN)-1):\n",
        "            axis[c,0].plot([longitud[clientes.index(NN[n])], longitud[clientes.index(NN[n+1])]],\n",
        "             [latitud[clientes.index(NN[n])], latitud[clientes.index(NN[n+1])]], color = 'lightblue')\n",
        "        axis[c,0].set_title(tienda+' - día '+str(m))\n",
        "        axis[c,0].set_xlabel('Latitud')\n",
        "        axis[c,0].set_ylabel('Longitud')\n",
        "      '''\n",
        "    fig = go.Figure(go.Scattermapbox(\n",
        "      mode = \"markers+lines\",\n",
        "      lon = longitud,\n",
        "      lat = latitud,\n",
        "      marker = {'size': 10}))\n",
        "\n",
        "\n",
        "\n",
        "\n",
        "tienda ='store3'\n",
        "numtienda = 1\n",
        "base1 =  df[(df.OriginStore == 1) & (df.day.isin([7]))]\n",
        "for m in base1.day.unique().astype('int32'):\n",
        "    base = base1[base1.day.astype('int32') == m]\n",
        "    clientes = [i for i in base.client]\n",
        "    arcos = [(i,j) for i in clientes for j in clientes if i != j]\n",
        "    distancia = {(i,j): distance.euclidean(ubi[i], ubi[j]) \n",
        "                              for i,j in arcos}\n",
        "    for i in clientes:\n",
        "        distancia[(tienda,i)] = distance.euclidean(ubistores[numtienda], ubi[i]) \n",
        "    n = len(clientes)\n",
        "    values = []\n",
        "    for i in range(n):\n",
        "        values.append(clientes[i])\n",
        "    values.append(tienda)\n",
        "    starting_node = tienda\n",
        "    NN = [starting_node]\n",
        "    while len(NN)<=n:\n",
        "        k = NN[-1]\n",
        "        nn = {(k,j):distancia[(k,j)] for j in values if k != j and j not in NN}\n",
        "        new = min(nn.items(),key = lambda x:x[1])\n",
        "        NN.append(new[0][1])\n",
        "    NN.append(starting_node)\n",
        "    latitud = []\n",
        "    for i in clientes:\n",
        "        latitud.append(ubi[i][0])\n",
        "    latitud.append(ubistores[numtienda][0])\n",
        "    longitud = []\n",
        "    for i in clientes:\n",
        "        longitud.append(ubi[i][1])\n",
        "    longitud.append(ubistores[numtienda][1])\n",
        "    clientes.append(tienda)\n",
        "    x = longitud\n",
        "    y = latitud\n",
        "    '''\n",
        "    figure, axis = plt.subplots(len(base.day.unique()),1, squeeze = False)\n",
        "    for c in range(len(base.day.unique())):\n",
        "        axis[c,0].scatter(x[:n],y[:n],color = 'blue')\n",
        "        axis[c,0].scatter(x[n],y[n],color = 'red')\n",
        "        for i in range(len(clientes)):\n",
        "            axis[c,0].annotate(clientes[i], (x[i], y[i]))\n",
        "        for n in range(len(NN)-1):\n",
        "            axis[c,0].plot([longitud[clientes.index(NN[n])], longitud[clientes.index(NN[n+1])]],\n",
        "             [latitud[clientes.index(NN[n])], latitud[clientes.index(NN[n+1])]], color = 'lightblue')\n",
        "        axis[c,0].set_title(tienda+' - día '+str(m))\n",
        "        axis[c,0].set_xlabel('Latitud')\n",
        "        axis[c,0].set_ylabel('Longitud')\n",
        "      \n",
        "    fig = go.Figure(go.Scattermapbox(\n",
        "      mode = \"markers+lines\",\n",
        "      lon = longitud,\n",
        "      lat = latitud,\n",
        "      marker = {'size': 10}))'''\n",
        "    fig.add_trace(go.Scattermapbox(\n",
        "        mode = \"markers+lines\",\n",
        "        lat = latitud,\n",
        "        lon = longitud,\n",
        "        marker = {'size': 10}))\n",
        "  \n",
        "\n",
        "tienda ='store3'\n",
        "numtienda = 2\n",
        "base1 =  df[(df.OriginStore == numtienda) & (df.day.isin([7]))]\n",
        "for m in base1.day.unique().astype('int32'):\n",
        "    base = base1[base1.day.astype('int32') == m]\n",
        "    clientes = [i for i in base.client]\n",
        "    arcos = [(i,j) for i in clientes for j in clientes if i != j]\n",
        "    distancia = {(i,j): distance.euclidean(ubi[i], ubi[j]) \n",
        "                              for i,j in arcos}\n",
        "    for i in clientes:\n",
        "        distancia[(tienda,i)] = distance.euclidean(ubistores[numtienda], ubi[i]) \n",
        "    n = len(clientes)\n",
        "    values = []\n",
        "    for i in range(n):\n",
        "        values.append(clientes[i])\n",
        "    values.append(tienda)\n",
        "    starting_node = tienda\n",
        "    NN = [starting_node]\n",
        "    while len(NN)<=n:\n",
        "        k = NN[-1]\n",
        "        nn = {(k,j):distancia[(k,j)] for j in values if k != j and j not in NN}\n",
        "        new = min(nn.items(),key = lambda x:x[1])\n",
        "        NN.append(new[0][1])\n",
        "    NN.append(starting_node)\n",
        "    latitud = []\n",
        "    for i in clientes:\n",
        "        latitud.append(ubi[i][0])\n",
        "    latitud.append(ubistores[numtienda][0])\n",
        "    longitud = []\n",
        "    for i in clientes:\n",
        "        longitud.append(ubi[i][1])\n",
        "    longitud.append(ubistores[numtienda][1])\n",
        "    clientes.append(tienda)\n",
        "    x = longitud\n",
        "    y = latitud\n",
        "    '''\n",
        "    figure, axis = plt.subplots(len(base.day.unique()),1, squeeze = False)\n",
        "    for c in range(len(base.day.unique())):\n",
        "        axis[c,0].scatter(x[:n],y[:n],color = 'blue')\n",
        "        axis[c,0].scatter(x[n],y[n],color = 'red')\n",
        "        for i in range(len(clientes)):\n",
        "            axis[c,0].annotate(clientes[i], (x[i], y[i]))\n",
        "        for n in range(len(NN)-1):\n",
        "            axis[c,0].plot([longitud[clientes.index(NN[n])], longitud[clientes.index(NN[n+1])]],\n",
        "             [latitud[clientes.index(NN[n])], latitud[clientes.index(NN[n+1])]], color = 'lightblue')\n",
        "        axis[c,0].set_title(tienda+' - día '+str(m))\n",
        "        axis[c,0].set_xlabel('Latitud')\n",
        "        axis[c,0].set_ylabel('Longitud')\n",
        "      \n",
        "    fig = go.Figure(go.Scattermapbox(\n",
        "      mode = \"markers+lines\",\n",
        "      lon = longitud,\n",
        "      lat = latitud,\n",
        "      marker = {'size': 10}))'''\n",
        "    fig.add_trace(go.Scattermapbox(\n",
        "        mode = \"markers+lines\",\n",
        "        lat = latitud,\n",
        "        lon = longitud,\n",
        "        marker = {'size': 10}))\n",
        "\n",
        "tienda ='store3'\n",
        "numtienda = 3\n",
        "base1 =  df[(df.OriginStore == numtienda) & (df.day.isin([7]))]\n",
        "for m in base1.day.unique().astype('int32'):\n",
        "    base = base1[base1.day.astype('int32') == m]\n",
        "    clientes = [i for i in base.client]\n",
        "    arcos = [(i,j) for i in clientes for j in clientes if i != j]\n",
        "    distancia = {(i,j): distance.euclidean(ubi[i], ubi[j]) \n",
        "                              for i,j in arcos}\n",
        "    for i in clientes:\n",
        "        distancia[(tienda,i)] = distance.euclidean(ubistores[numtienda], ubi[i]) \n",
        "    n = len(clientes)\n",
        "    values = []\n",
        "    for i in range(n):\n",
        "        values.append(clientes[i])\n",
        "    values.append(tienda)\n",
        "    starting_node = tienda\n",
        "    NN = [starting_node]\n",
        "    while len(NN)<=n:\n",
        "        k = NN[-1]\n",
        "        nn = {(k,j):distancia[(k,j)] for j in values if k != j and j not in NN}\n",
        "        new = min(nn.items(),key = lambda x:x[1])\n",
        "        NN.append(new[0][1])\n",
        "    NN.append(starting_node)\n",
        "    latitud = []\n",
        "    for i in clientes:\n",
        "        latitud.append(ubi[i][0])\n",
        "    latitud.append(ubistores[numtienda][0])\n",
        "    longitud = []\n",
        "    for i in clientes:\n",
        "        longitud.append(ubi[i][1])\n",
        "    longitud.append(ubistores[numtienda][1])\n",
        "    clientes.append(tienda)\n",
        "    x = longitud\n",
        "    y = latitud\n",
        "    '''\n",
        "    figure, axis = plt.subplots(len(base.day.unique()),1, squeeze = False)\n",
        "    for c in range(len(base.day.unique())):\n",
        "        axis[c,0].scatter(x[:n],y[:n],color = 'blue')\n",
        "        axis[c,0].scatter(x[n],y[n],color = 'red')\n",
        "        for i in range(len(clientes)):\n",
        "            axis[c,0].annotate(clientes[i], (x[i], y[i]))\n",
        "        for n in range(len(NN)-1):\n",
        "            axis[c,0].plot([longitud[clientes.index(NN[n])], longitud[clientes.index(NN[n+1])]],\n",
        "             [latitud[clientes.index(NN[n])], latitud[clientes.index(NN[n+1])]], color = 'lightblue')\n",
        "        axis[c,0].set_title(tienda+' - día '+str(m))\n",
        "        axis[c,0].set_xlabel('Latitud')\n",
        "        axis[c,0].set_ylabel('Longitud')\n",
        "      \n",
        "    fig = go.Figure(go.Scattermapbox(\n",
        "      mode = \"markers+lines\",\n",
        "      lon = longitud,\n",
        "      lat = latitud,\n",
        "      marker = {'size': 10}))'''\n",
        "    fig.add_trace(go.Scattermapbox(\n",
        "        mode = \"markers+lines\",\n",
        "        lat = latitud,\n",
        "        lon = longitud,\n",
        "        marker = {'size': 10}))\n",
        "\n",
        "\n",
        "\n",
        "\n",
        "\n",
        "fig.update_layout(\n",
        "    margin ={'l':0,'t':0,'b':0,'r':0},\n",
        "    mapbox = {\n",
        "    'center': {'lon': -43.177066, 'lat': -22.928113},\n",
        "    'style': \"stamen-terrain\",\n",
        "    'center': {'lon': -43.177066, 'lat': -22.928113},\n",
        "    'zoom': 12})\n",
        "\n",
        "fig.show()"
      ],
      "metadata": {
        "colab": {
          "base_uri": "https://localhost:8080/",
          "height": 542
        },
        "id": "cyWlewU34mIY",
        "outputId": "dbdc58ae-7747-4a7d-911e-0aee4f1d2623"
      },
      "execution_count": 77,
      "outputs": [
        {
          "output_type": "display_data",
          "data": {
            "text/html": [
              "<html>\n",
              "<head><meta charset=\"utf-8\" /></head>\n",
              "<body>\n",
              "    <div>            <script src=\"https://cdnjs.cloudflare.com/ajax/libs/mathjax/2.7.5/MathJax.js?config=TeX-AMS-MML_SVG\"></script><script type=\"text/javascript\">if (window.MathJax) {MathJax.Hub.Config({SVG: {font: \"STIX-Web\"}});}</script>                <script type=\"text/javascript\">window.PlotlyConfig = {MathJaxConfig: 'local'};</script>\n",
              "        <script src=\"https://cdn.plot.ly/plotly-2.8.3.min.js\"></script>                <div id=\"2f958ea1-3687-4600-be1c-87b299117b31\" class=\"plotly-graph-div\" style=\"height:525px; width:100%;\"></div>            <script type=\"text/javascript\">                                    window.PLOTLYENV=window.PLOTLYENV || {};                                    if (document.getElementById(\"2f958ea1-3687-4600-be1c-87b299117b31\")) {                    Plotly.newPlot(                        \"2f958ea1-3687-4600-be1c-87b299117b31\",                        [{\"lat\":[-22.975845,-22.9721093,-22.9746298],\"lon\":[-43.1881512,-43.18683,-43.1912063],\"marker\":{\"size\":10},\"mode\":\"markers+lines\",\"type\":\"scattermapbox\"},{\"lat\":[-22.9454948,-22.9187686,-22.9381985,-22.9276912,-22.9168016,-22.9336112],\"lon\":[-43.1821807,-43.1810054,-43.1831445,-43.1761534,-43.1769108,-43.1757339],\"marker\":{\"size\":10},\"mode\":\"markers+lines\",\"type\":\"scattermapbox\"},{\"lat\":[-22.9751613,-22.980438],\"lon\":[-43.2284452,-43.202618],\"marker\":{\"size\":10},\"mode\":\"markers+lines\",\"type\":\"scattermapbox\"},{\"lat\":[-22.910514,-22.9142607,-22.917404,-22.9060297,-22.9197825,-22.9123072],\"lon\":[-43.1888352,-43.183318,-43.213528,-43.1793347,-43.195807,-43.2019991],\"marker\":{\"size\":10},\"mode\":\"markers+lines\",\"type\":\"scattermapbox\"}],                        {\"template\":{\"data\":{\"bar\":[{\"error_x\":{\"color\":\"#2a3f5f\"},\"error_y\":{\"color\":\"#2a3f5f\"},\"marker\":{\"line\":{\"color\":\"#E5ECF6\",\"width\":0.5},\"pattern\":{\"fillmode\":\"overlay\",\"size\":10,\"solidity\":0.2}},\"type\":\"bar\"}],\"barpolar\":[{\"marker\":{\"line\":{\"color\":\"#E5ECF6\",\"width\":0.5},\"pattern\":{\"fillmode\":\"overlay\",\"size\":10,\"solidity\":0.2}},\"type\":\"barpolar\"}],\"carpet\":[{\"aaxis\":{\"endlinecolor\":\"#2a3f5f\",\"gridcolor\":\"white\",\"linecolor\":\"white\",\"minorgridcolor\":\"white\",\"startlinecolor\":\"#2a3f5f\"},\"baxis\":{\"endlinecolor\":\"#2a3f5f\",\"gridcolor\":\"white\",\"linecolor\":\"white\",\"minorgridcolor\":\"white\",\"startlinecolor\":\"#2a3f5f\"},\"type\":\"carpet\"}],\"choropleth\":[{\"colorbar\":{\"outlinewidth\":0,\"ticks\":\"\"},\"type\":\"choropleth\"}],\"contour\":[{\"colorbar\":{\"outlinewidth\":0,\"ticks\":\"\"},\"colorscale\":[[0.0,\"#0d0887\"],[0.1111111111111111,\"#46039f\"],[0.2222222222222222,\"#7201a8\"],[0.3333333333333333,\"#9c179e\"],[0.4444444444444444,\"#bd3786\"],[0.5555555555555556,\"#d8576b\"],[0.6666666666666666,\"#ed7953\"],[0.7777777777777778,\"#fb9f3a\"],[0.8888888888888888,\"#fdca26\"],[1.0,\"#f0f921\"]],\"type\":\"contour\"}],\"contourcarpet\":[{\"colorbar\":{\"outlinewidth\":0,\"ticks\":\"\"},\"type\":\"contourcarpet\"}],\"heatmap\":[{\"colorbar\":{\"outlinewidth\":0,\"ticks\":\"\"},\"colorscale\":[[0.0,\"#0d0887\"],[0.1111111111111111,\"#46039f\"],[0.2222222222222222,\"#7201a8\"],[0.3333333333333333,\"#9c179e\"],[0.4444444444444444,\"#bd3786\"],[0.5555555555555556,\"#d8576b\"],[0.6666666666666666,\"#ed7953\"],[0.7777777777777778,\"#fb9f3a\"],[0.8888888888888888,\"#fdca26\"],[1.0,\"#f0f921\"]],\"type\":\"heatmap\"}],\"heatmapgl\":[{\"colorbar\":{\"outlinewidth\":0,\"ticks\":\"\"},\"colorscale\":[[0.0,\"#0d0887\"],[0.1111111111111111,\"#46039f\"],[0.2222222222222222,\"#7201a8\"],[0.3333333333333333,\"#9c179e\"],[0.4444444444444444,\"#bd3786\"],[0.5555555555555556,\"#d8576b\"],[0.6666666666666666,\"#ed7953\"],[0.7777777777777778,\"#fb9f3a\"],[0.8888888888888888,\"#fdca26\"],[1.0,\"#f0f921\"]],\"type\":\"heatmapgl\"}],\"histogram\":[{\"marker\":{\"pattern\":{\"fillmode\":\"overlay\",\"size\":10,\"solidity\":0.2}},\"type\":\"histogram\"}],\"histogram2d\":[{\"colorbar\":{\"outlinewidth\":0,\"ticks\":\"\"},\"colorscale\":[[0.0,\"#0d0887\"],[0.1111111111111111,\"#46039f\"],[0.2222222222222222,\"#7201a8\"],[0.3333333333333333,\"#9c179e\"],[0.4444444444444444,\"#bd3786\"],[0.5555555555555556,\"#d8576b\"],[0.6666666666666666,\"#ed7953\"],[0.7777777777777778,\"#fb9f3a\"],[0.8888888888888888,\"#fdca26\"],[1.0,\"#f0f921\"]],\"type\":\"histogram2d\"}],\"histogram2dcontour\":[{\"colorbar\":{\"outlinewidth\":0,\"ticks\":\"\"},\"colorscale\":[[0.0,\"#0d0887\"],[0.1111111111111111,\"#46039f\"],[0.2222222222222222,\"#7201a8\"],[0.3333333333333333,\"#9c179e\"],[0.4444444444444444,\"#bd3786\"],[0.5555555555555556,\"#d8576b\"],[0.6666666666666666,\"#ed7953\"],[0.7777777777777778,\"#fb9f3a\"],[0.8888888888888888,\"#fdca26\"],[1.0,\"#f0f921\"]],\"type\":\"histogram2dcontour\"}],\"mesh3d\":[{\"colorbar\":{\"outlinewidth\":0,\"ticks\":\"\"},\"type\":\"mesh3d\"}],\"parcoords\":[{\"line\":{\"colorbar\":{\"outlinewidth\":0,\"ticks\":\"\"}},\"type\":\"parcoords\"}],\"pie\":[{\"automargin\":true,\"type\":\"pie\"}],\"scatter\":[{\"marker\":{\"colorbar\":{\"outlinewidth\":0,\"ticks\":\"\"}},\"type\":\"scatter\"}],\"scatter3d\":[{\"line\":{\"colorbar\":{\"outlinewidth\":0,\"ticks\":\"\"}},\"marker\":{\"colorbar\":{\"outlinewidth\":0,\"ticks\":\"\"}},\"type\":\"scatter3d\"}],\"scattercarpet\":[{\"marker\":{\"colorbar\":{\"outlinewidth\":0,\"ticks\":\"\"}},\"type\":\"scattercarpet\"}],\"scattergeo\":[{\"marker\":{\"colorbar\":{\"outlinewidth\":0,\"ticks\":\"\"}},\"type\":\"scattergeo\"}],\"scattergl\":[{\"marker\":{\"colorbar\":{\"outlinewidth\":0,\"ticks\":\"\"}},\"type\":\"scattergl\"}],\"scattermapbox\":[{\"marker\":{\"colorbar\":{\"outlinewidth\":0,\"ticks\":\"\"}},\"type\":\"scattermapbox\"}],\"scatterpolar\":[{\"marker\":{\"colorbar\":{\"outlinewidth\":0,\"ticks\":\"\"}},\"type\":\"scatterpolar\"}],\"scatterpolargl\":[{\"marker\":{\"colorbar\":{\"outlinewidth\":0,\"ticks\":\"\"}},\"type\":\"scatterpolargl\"}],\"scatterternary\":[{\"marker\":{\"colorbar\":{\"outlinewidth\":0,\"ticks\":\"\"}},\"type\":\"scatterternary\"}],\"surface\":[{\"colorbar\":{\"outlinewidth\":0,\"ticks\":\"\"},\"colorscale\":[[0.0,\"#0d0887\"],[0.1111111111111111,\"#46039f\"],[0.2222222222222222,\"#7201a8\"],[0.3333333333333333,\"#9c179e\"],[0.4444444444444444,\"#bd3786\"],[0.5555555555555556,\"#d8576b\"],[0.6666666666666666,\"#ed7953\"],[0.7777777777777778,\"#fb9f3a\"],[0.8888888888888888,\"#fdca26\"],[1.0,\"#f0f921\"]],\"type\":\"surface\"}],\"table\":[{\"cells\":{\"fill\":{\"color\":\"#EBF0F8\"},\"line\":{\"color\":\"white\"}},\"header\":{\"fill\":{\"color\":\"#C8D4E3\"},\"line\":{\"color\":\"white\"}},\"type\":\"table\"}]},\"layout\":{\"annotationdefaults\":{\"arrowcolor\":\"#2a3f5f\",\"arrowhead\":0,\"arrowwidth\":1},\"autotypenumbers\":\"strict\",\"coloraxis\":{\"colorbar\":{\"outlinewidth\":0,\"ticks\":\"\"}},\"colorscale\":{\"diverging\":[[0,\"#8e0152\"],[0.1,\"#c51b7d\"],[0.2,\"#de77ae\"],[0.3,\"#f1b6da\"],[0.4,\"#fde0ef\"],[0.5,\"#f7f7f7\"],[0.6,\"#e6f5d0\"],[0.7,\"#b8e186\"],[0.8,\"#7fbc41\"],[0.9,\"#4d9221\"],[1,\"#276419\"]],\"sequential\":[[0.0,\"#0d0887\"],[0.1111111111111111,\"#46039f\"],[0.2222222222222222,\"#7201a8\"],[0.3333333333333333,\"#9c179e\"],[0.4444444444444444,\"#bd3786\"],[0.5555555555555556,\"#d8576b\"],[0.6666666666666666,\"#ed7953\"],[0.7777777777777778,\"#fb9f3a\"],[0.8888888888888888,\"#fdca26\"],[1.0,\"#f0f921\"]],\"sequentialminus\":[[0.0,\"#0d0887\"],[0.1111111111111111,\"#46039f\"],[0.2222222222222222,\"#7201a8\"],[0.3333333333333333,\"#9c179e\"],[0.4444444444444444,\"#bd3786\"],[0.5555555555555556,\"#d8576b\"],[0.6666666666666666,\"#ed7953\"],[0.7777777777777778,\"#fb9f3a\"],[0.8888888888888888,\"#fdca26\"],[1.0,\"#f0f921\"]]},\"colorway\":[\"#636efa\",\"#EF553B\",\"#00cc96\",\"#ab63fa\",\"#FFA15A\",\"#19d3f3\",\"#FF6692\",\"#B6E880\",\"#FF97FF\",\"#FECB52\"],\"font\":{\"color\":\"#2a3f5f\"},\"geo\":{\"bgcolor\":\"white\",\"lakecolor\":\"white\",\"landcolor\":\"#E5ECF6\",\"showlakes\":true,\"showland\":true,\"subunitcolor\":\"white\"},\"hoverlabel\":{\"align\":\"left\"},\"hovermode\":\"closest\",\"mapbox\":{\"style\":\"light\"},\"paper_bgcolor\":\"white\",\"plot_bgcolor\":\"#E5ECF6\",\"polar\":{\"angularaxis\":{\"gridcolor\":\"white\",\"linecolor\":\"white\",\"ticks\":\"\"},\"bgcolor\":\"#E5ECF6\",\"radialaxis\":{\"gridcolor\":\"white\",\"linecolor\":\"white\",\"ticks\":\"\"}},\"scene\":{\"xaxis\":{\"backgroundcolor\":\"#E5ECF6\",\"gridcolor\":\"white\",\"gridwidth\":2,\"linecolor\":\"white\",\"showbackground\":true,\"ticks\":\"\",\"zerolinecolor\":\"white\"},\"yaxis\":{\"backgroundcolor\":\"#E5ECF6\",\"gridcolor\":\"white\",\"gridwidth\":2,\"linecolor\":\"white\",\"showbackground\":true,\"ticks\":\"\",\"zerolinecolor\":\"white\"},\"zaxis\":{\"backgroundcolor\":\"#E5ECF6\",\"gridcolor\":\"white\",\"gridwidth\":2,\"linecolor\":\"white\",\"showbackground\":true,\"ticks\":\"\",\"zerolinecolor\":\"white\"}},\"shapedefaults\":{\"line\":{\"color\":\"#2a3f5f\"}},\"ternary\":{\"aaxis\":{\"gridcolor\":\"white\",\"linecolor\":\"white\",\"ticks\":\"\"},\"baxis\":{\"gridcolor\":\"white\",\"linecolor\":\"white\",\"ticks\":\"\"},\"bgcolor\":\"#E5ECF6\",\"caxis\":{\"gridcolor\":\"white\",\"linecolor\":\"white\",\"ticks\":\"\"}},\"title\":{\"x\":0.05},\"xaxis\":{\"automargin\":true,\"gridcolor\":\"white\",\"linecolor\":\"white\",\"ticks\":\"\",\"title\":{\"standoff\":15},\"zerolinecolor\":\"white\",\"zerolinewidth\":2},\"yaxis\":{\"automargin\":true,\"gridcolor\":\"white\",\"linecolor\":\"white\",\"ticks\":\"\",\"title\":{\"standoff\":15},\"zerolinecolor\":\"white\",\"zerolinewidth\":2}}},\"margin\":{\"l\":0,\"t\":0,\"b\":0,\"r\":0},\"mapbox\":{\"center\":{\"lon\":-43.177066,\"lat\":-22.928113},\"style\":\"stamen-terrain\",\"zoom\":12}},                        {\"responsive\": true}                    ).then(function(){\n",
              "                            \n",
              "var gd = document.getElementById('2f958ea1-3687-4600-be1c-87b299117b31');\n",
              "var x = new MutationObserver(function (mutations, observer) {{\n",
              "        var display = window.getComputedStyle(gd).display;\n",
              "        if (!display || display === 'none') {{\n",
              "            console.log([gd, 'removed!']);\n",
              "            Plotly.purge(gd);\n",
              "            observer.disconnect();\n",
              "        }}\n",
              "}});\n",
              "\n",
              "// Listen for the removal of the full notebook cells\n",
              "var notebookContainer = gd.closest('#notebook-container');\n",
              "if (notebookContainer) {{\n",
              "    x.observe(notebookContainer, {childList: true});\n",
              "}}\n",
              "\n",
              "// Listen for the clearing of the current output cell\n",
              "var outputEl = gd.closest('.output');\n",
              "if (outputEl) {{\n",
              "    x.observe(outputEl, {childList: true});\n",
              "}}\n",
              "\n",
              "                        })                };                            </script>        </div>\n",
              "</body>\n",
              "</html>"
            ]
          },
          "metadata": {}
        }
      ]
    },
    {
      "cell_type": "code",
      "source": [
        "latitud "
      ],
      "metadata": {
        "colab": {
          "base_uri": "https://localhost:8080/"
        },
        "id": "ESu_-kTX54nb",
        "outputId": "0b0fe010-86ca-4a47-9cf8-de7cf70d6944"
      },
      "execution_count": 75,
      "outputs": [
        {
          "output_type": "execute_result",
          "data": {
            "text/plain": [
              "[-22.910514, -22.9142607, -22.917404, -22.9060297, -22.9197825, -22.9746298]"
            ]
          },
          "metadata": {},
          "execution_count": 75
        }
      ]
    }
  ],
  "metadata": {
    "colab": {
      "collapsed_sections": [
        "GigTNHU0TGdL"
      ],
      "name": "Opdo_version_Lilian.ipynb",
      "provenance": [],
      "include_colab_link": true
    },
    "kernelspec": {
      "display_name": "Python 3 (ipykernel)",
      "language": "python",
      "name": "python3"
    },
    "language_info": {
      "codemirror_mode": {
        "name": "ipython",
        "version": 3
      },
      "file_extension": ".py",
      "mimetype": "text/x-python",
      "name": "python",
      "nbconvert_exporter": "python",
      "pygments_lexer": "ipython3",
      "version": "3.9.7"
    }
  },
  "nbformat": 4,
  "nbformat_minor": 0
}